{
 "cells": [
  {
   "cell_type": "code",
   "execution_count": 2,
   "metadata": {},
   "outputs": [],
   "source": [
    "import pandas as pd\n",
    "import numpy as np\n",
    "import matplotlib.pyplot as plt\n",
    "import torch\n",
    "import torch.nn as nn\n",
    "import pickle\n",
    "from sklearn.model_selection import train_test_split"
   ]
  },
  {
   "cell_type": "code",
   "execution_count": 6,
   "metadata": {},
   "outputs": [],
   "source": [
    "data=pd.read_csv('output/integrators_log.csv')"
   ]
  },
  {
   "cell_type": "code",
   "execution_count": 7,
   "metadata": {},
   "outputs": [
    {
     "data": {
      "text/html": [
       "<div>\n",
       "<style scoped>\n",
       "    .dataframe tbody tr th:only-of-type {\n",
       "        vertical-align: middle;\n",
       "    }\n",
       "\n",
       "    .dataframe tbody tr th {\n",
       "        vertical-align: top;\n",
       "    }\n",
       "\n",
       "    .dataframe thead th {\n",
       "        text-align: right;\n",
       "    }\n",
       "</style>\n",
       "<table border=\"1\" class=\"dataframe\">\n",
       "  <thead>\n",
       "    <tr style=\"text-align: right;\">\n",
       "      <th></th>\n",
       "      <th>Activity</th>\n",
       "      <th>Case ID</th>\n",
       "      <th>Hemoglobin</th>\n",
       "      <th>Sodium</th>\n",
       "      <th>Potassium</th>\n",
       "      <th>Dose</th>\n",
       "      <th>Responsive</th>\n",
       "      <th>Time</th>\n",
       "    </tr>\n",
       "  </thead>\n",
       "  <tbody>\n",
       "    <tr>\n",
       "      <th>0</th>\n",
       "      <td>Exam</td>\n",
       "      <td>0</td>\n",
       "      <td>8.553793</td>\n",
       "      <td>139.486866</td>\n",
       "      <td>5.112623</td>\n",
       "      <td>NaN</td>\n",
       "      <td>True</td>\n",
       "      <td>2.247479</td>\n",
       "    </tr>\n",
       "    <tr>\n",
       "      <th>1</th>\n",
       "      <td>hemo_int</td>\n",
       "      <td>0</td>\n",
       "      <td>NaN</td>\n",
       "      <td>NaN</td>\n",
       "      <td>NaN</td>\n",
       "      <td>4.646207</td>\n",
       "      <td>NaN</td>\n",
       "      <td>48.095691</td>\n",
       "    </tr>\n",
       "  </tbody>\n",
       "</table>\n",
       "</div>"
      ],
      "text/plain": [
       "   Activity  Case ID  Hemoglobin      Sodium  Potassium      Dose Responsive  \\\n",
       "0      Exam        0    8.553793  139.486866   5.112623       NaN       True   \n",
       "1  hemo_int        0         NaN         NaN        NaN  4.646207        NaN   \n",
       "\n",
       "        Time  \n",
       "0   2.247479  \n",
       "1  48.095691  "
      ]
     },
     "execution_count": 7,
     "metadata": {},
     "output_type": "execute_result"
    }
   ],
   "source": [
    "data.head(2)"
   ]
  },
  {
   "cell_type": "code",
   "execution_count": 5,
   "metadata": {},
   "outputs": [],
   "source": [
    "data.drop('Responsive',axis=1,inplace=True)"
   ]
  },
  {
   "cell_type": "code",
   "execution_count": 19,
   "metadata": {},
   "outputs": [],
   "source": [
    "activities = ['Exam', 'hemo_int', 'hemo_inib',\n",
    "       'sodium_int', 'sodium_inib', 'pot_int',\n",
    "       'pot_inib', 'recovered',\n",
    "       'Non responsive']"
   ]
  },
  {
   "cell_type": "code",
   "execution_count": 49,
   "metadata": {},
   "outputs": [],
   "source": [
    "traces = [group.values.tolist() for _, group in data.groupby('Case ID')]\n",
    "train,test=train_test_split(traces,test_size=0.2)"
   ]
  },
  {
   "cell_type": "code",
   "execution_count": null,
   "metadata": {},
   "outputs": [],
   "source": [
    "train[2]"
   ]
  },
  {
   "cell_type": "code",
   "execution_count": 21,
   "metadata": {},
   "outputs": [],
   "source": [
    "n_activities = len(activities)\n",
    "map_activities = dict(zip(activities, range(n_activities)))\n",
    "\n",
    "\n",
    "def zeros(n):\n",
    "    return [0 for _ in range(n)]\n",
    "\n",
    "def hot_encode_activity(activity):\n",
    "    encode = zeros(n_activities+5)\n",
    "    encode[map_activities[activity[0]]] = 1\n",
    "    encode[n_activities:] = activity[2:]\n",
    "    return encode\n",
    "\n",
    "def hot_encode_trace(trace):\n",
    "    return [[hot_encode_activity(activity)] for activity in trace]\n",
    "\n",
    "def trace_to_tensor(trace):\n",
    "    return torch.tensor(hot_encode_trace(trace), dtype= torch.float32 )"
   ]
  },
  {
   "cell_type": "code",
   "execution_count": 50,
   "metadata": {},
   "outputs": [],
   "source": [
    "Y_train = [torch.tensor([int(trace[-1][0]=='recovered')],dtype=torch.float) for trace in train]\n",
    "Y_test = [torch.tensor([int(trace[-1][0]=='recovered')],dtype=torch.float) for trace in test]\n",
    "\n",
    "\n",
    "reducedTraces_train=[trace[:-len(trace)//2] for trace in train]\n",
    "transformedTraces_train=[trace_to_tensor(trace) for trace in reducedTraces_train]\n",
    "\n",
    "reducedTraces_test=[trace[:-len(trace)//2] for trace in test]\n",
    "transformedTraces_test=[trace_to_tensor(trace) for trace in reducedTraces_test]"
   ]
  },
  {
   "cell_type": "code",
   "execution_count": 27,
   "metadata": {},
   "outputs": [],
   "source": [
    "for trace in transformedTraces_train:\n",
    "  nan_mask=torch.isnan(trace)\n",
    "  trace[nan_mask]=0\n",
    "\n",
    "\n",
    "for trace in transformedTraces_test:\n",
    "  nan_mask=torch.isnan(trace)\n",
    "  trace[nan_mask]=0\n"
   ]
  },
  {
   "cell_type": "code",
   "execution_count": 28,
   "metadata": {},
   "outputs": [],
   "source": [
    "with open('integrators_data_train.pickle', 'wb') as f:\n",
    "    pickle.dump(transformedTraces_train, f)\n",
    "\n",
    "with open('integrators_data_test.pickle', 'wb') as f:\n",
    "    pickle.dump(transformedTraces_test, f)\n",
    "\n",
    "\n",
    "with open('integrators_outputs_train.pickle', 'wb') as f:\n",
    "    pickle.dump(Y_train, f)\n",
    "\n",
    "with open('integrators_outputs_test.pickle', 'wb') as f:\n",
    "    pickle.dump(Y_test, f)"
   ]
  }
 ],
 "metadata": {
  "kernelspec": {
   "display_name": "camelot_env",
   "language": "python",
   "name": "python3"
  },
  "language_info": {
   "codemirror_mode": {
    "name": "ipython",
    "version": 3
   },
   "file_extension": ".py",
   "mimetype": "text/x-python",
   "name": "python",
   "nbconvert_exporter": "python",
   "pygments_lexer": "ipython3",
   "version": "3.12.2"
  }
 },
 "nbformat": 4,
 "nbformat_minor": 2
}
