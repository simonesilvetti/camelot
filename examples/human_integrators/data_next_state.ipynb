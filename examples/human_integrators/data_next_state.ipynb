{
 "cells": [
  {
   "cell_type": "code",
   "execution_count": 1,
   "metadata": {},
   "outputs": [],
   "source": [
    "import pandas as pd\n",
    "import numpy as np\n",
    "import matplotlib.pyplot as plt\n",
    "import torch\n",
    "import torch.nn as nn\n",
    "import pickle\n",
    "from sklearn.model_selection import train_test_split\n"
   ]
  },
  {
   "cell_type": "code",
   "execution_count": 2,
   "metadata": {},
   "outputs": [],
   "source": [
    "data=pd.read_csv('output/integrators_log.csv')\n",
    "data.drop('Responsive',axis=1,inplace=True)"
   ]
  },
  {
   "cell_type": "code",
   "execution_count": 3,
   "metadata": {},
   "outputs": [],
   "source": [
    "traces = [group.values.tolist() for _, group in data.groupby('Case ID')]"
   ]
  },
  {
   "cell_type": "code",
   "execution_count": 4,
   "metadata": {},
   "outputs": [
    {
     "data": {
      "text/plain": [
       "[['Exam',\n",
       "  0,\n",
       "  9.276767459125256,\n",
       "  145.31414076463105,\n",
       "  9.113142839882707,\n",
       "  nan,\n",
       "  1.0749042576137682],\n",
       " ['hemo_int', 0, nan, nan, nan, 3.923232540874743, 47.56877744321062],\n",
       " ['Exam',\n",
       "  0,\n",
       "  13.2,\n",
       "  145.31414076463105,\n",
       "  9.113142839882707,\n",
       "  nan,\n",
       "  0.6759146998838428],\n",
       " ['pot_inib', 0, nan, nan, nan, 1.8065714199413545, 47.84485865496066],\n",
       " ['Exam',\n",
       "  0,\n",
       "  13.2,\n",
       "  145.31414076463105,\n",
       "  7.306571419941354,\n",
       "  nan,\n",
       "  0.5309334260417937],\n",
       " ['pot_inib', 0, nan, nan, nan, 0.4516428549853386, 48.98919362782402],\n",
       " ['Exam',\n",
       "  0,\n",
       "  13.2,\n",
       "  145.31414076463105,\n",
       "  6.854928564956015,\n",
       "  nan,\n",
       "  0.537744134949508],\n",
       " ['pot_inib', 0, nan, nan, nan, 0.2258214274926692, 49.6734409666479],\n",
       " ['Exam',\n",
       "  0,\n",
       "  13.2,\n",
       "  145.31414076463105,\n",
       "  6.629107137463346,\n",
       "  nan,\n",
       "  0.3176814987563396],\n",
       " ['pot_inib', 0, nan, nan, nan, 0.1411383921829182, 47.35307538810872],\n",
       " ['Exam',\n",
       "  0,\n",
       "  13.2,\n",
       "  145.31414076463105,\n",
       "  6.487968745280428,\n",
       "  nan,\n",
       "  1.464021413194395],\n",
       " ['pot_inib', 0, nan, nan, nan, 0.0987968745280428, 47.83418546506547],\n",
       " ['Exam',\n",
       "  0,\n",
       "  13.2,\n",
       "  145.31414076463105,\n",
       "  6.389171870752385,\n",
       "  nan,\n",
       "  0.2052395546596266],\n",
       " ['sodium_inib', 0, nan, nan, nan, 0.3141407646310483, 47.22545395478029],\n",
       " ['Exam', 0, 13.2, 145.0, 6.389171870752385, nan, 0.0454775244052279],\n",
       " ['pot_inib', 0, nan, nan, nan, 0.074097655896032, 48.22305143214152],\n",
       " ['Exam', 0, 13.2, 145.0, 6.315074214856353, nan, 1.1979746390755903],\n",
       " ['pot_inib', 0, nan, nan, nan, 0.0582195867754538, 47.85290922158563],\n",
       " ['Exam', 0, 13.2, 145.0, 6.2568546280809, nan, 2.2167541633083694],\n",
       " ['pot_inib', 0, nan, nan, nan, 0.0473034142550562, 49.33057481132619],\n",
       " ['Exam', 0, 13.2, 145.0, 6.209551213825844, nan, 3.581543537923156],\n",
       " ['pot_inib', 0, nan, nan, nan, 0.0394195118792135, 48.42567140724437],\n",
       " ['Exam', 0, 13.2, 145.0, 6.17013170194663, nan, 1.2723328481198437],\n",
       " ['pot_inib', 0, nan, nan, nan, 0.0335065850973315, 46.92208636757312],\n",
       " ['Exam', 0, 13.2, 145.0, 6.136625116849299, nan, 0.6966620725567263],\n",
       " ['Non responsive', 0, nan, nan, nan, nan, 0.0]]"
      ]
     },
     "execution_count": 4,
     "metadata": {},
     "output_type": "execute_result"
    }
   ],
   "source": [
    "traces[0]"
   ]
  },
  {
   "cell_type": "code",
   "execution_count": 4,
   "metadata": {},
   "outputs": [],
   "source": [
    "exam_therapy=[]\n",
    "\n",
    "for trace in traces:\n",
    "    case=[]\n",
    "    for i in range(0,len(trace)-1,2):\n",
    "        moment=trace[i][2:5]\n",
    "        moment.append(trace[i+1][0])\n",
    "        moment.append(trace[i+1][5])\n",
    "        case.append(moment)\n",
    "    exam_therapy.append(case)"
   ]
  },
  {
   "cell_type": "code",
   "execution_count": 5,
   "metadata": {},
   "outputs": [],
   "source": [
    "train,test=train_test_split(exam_therapy,test_size=0.2)"
   ]
  },
  {
   "cell_type": "code",
   "execution_count": 6,
   "metadata": {},
   "outputs": [],
   "source": [
    "activities = ['hemo_int', 'hemo_inib',\n",
    "       'sodium_int', 'sodium_inib', 'pot_int',\n",
    "       'pot_inib', 'recovered',\n",
    "       'Non responsive']"
   ]
  },
  {
   "cell_type": "code",
   "execution_count": 7,
   "metadata": {},
   "outputs": [],
   "source": [
    "n_activities = len(activities)\n",
    "map_activities = dict(zip(activities, [i+3 for i in range(n_activities)]))\n",
    "\n",
    "\n",
    "def zeros(n):\n",
    "    return [0 for _ in range(n)]\n",
    "\n",
    "\n",
    "def hot_encode_activity(activity):\n",
    "    encode=activity[:3]\n",
    "    encode.extend(zeros(n_activities))\n",
    "    encode[map_activities[activity[3]]] = 1\n",
    "    encode.append(activity[-1])\n",
    "    return encode\n",
    "\n",
    "def hot_encode_trace(trace):\n",
    "    return [hot_encode_activity(activity) for activity in trace]\n",
    "\n",
    "def trace_to_tensor(trace):\n",
    "    return torch.tensor(hot_encode_trace(trace), dtype= torch.float32 )"
   ]
  },
  {
   "cell_type": "code",
   "execution_count": 8,
   "metadata": {},
   "outputs": [],
   "source": [
    "transformedTraces_train=[trace_to_tensor(trace) for trace in train]\n",
    "\n",
    "transformedTraces_test=[trace_to_tensor(trace) for trace in test]"
   ]
  },
  {
   "cell_type": "code",
   "execution_count": 9,
   "metadata": {},
   "outputs": [],
   "source": [
    "for trace in transformedTraces_train:\n",
    "  nan_mask=torch.isnan(trace)\n",
    "  trace[nan_mask]=0\n",
    "\n",
    "\n",
    "for trace in transformedTraces_test:\n",
    "  nan_mask=torch.isnan(trace)\n",
    "  trace[nan_mask]=0\n"
   ]
  },
  {
   "cell_type": "code",
   "execution_count": 10,
   "metadata": {},
   "outputs": [
    {
     "data": {
      "text/plain": [
       "tensor([[1.6840e+01, 1.3627e+02, 8.0496e+00, 0.0000e+00, 0.0000e+00, 0.0000e+00,\n",
       "         0.0000e+00, 0.0000e+00, 1.0000e+00, 0.0000e+00, 0.0000e+00, 1.2748e+00],\n",
       "        [1.6840e+01, 1.3627e+02, 6.7748e+00, 0.0000e+00, 0.0000e+00, 0.0000e+00,\n",
       "         0.0000e+00, 0.0000e+00, 1.0000e+00, 0.0000e+00, 0.0000e+00, 3.1870e-01],\n",
       "        [1.6840e+01, 1.3627e+02, 6.4561e+00, 0.0000e+00, 0.0000e+00, 0.0000e+00,\n",
       "         0.0000e+00, 0.0000e+00, 1.0000e+00, 0.0000e+00, 0.0000e+00, 1.5935e-01],\n",
       "        [1.6840e+01, 1.3627e+02, 6.2968e+00, 0.0000e+00, 0.0000e+00, 0.0000e+00,\n",
       "         0.0000e+00, 0.0000e+00, 1.0000e+00, 0.0000e+00, 0.0000e+00, 9.9594e-02],\n",
       "        [1.6840e+01, 1.3627e+02, 6.1972e+00, 0.0000e+00, 0.0000e+00, 0.0000e+00,\n",
       "         0.0000e+00, 0.0000e+00, 1.0000e+00, 0.0000e+00, 0.0000e+00, 6.9716e-02],\n",
       "        [1.6840e+01, 1.3627e+02, 6.1274e+00, 0.0000e+00, 0.0000e+00, 0.0000e+00,\n",
       "         0.0000e+00, 0.0000e+00, 1.0000e+00, 0.0000e+00, 0.0000e+00, 5.2287e-02],\n",
       "        [1.6840e+01, 1.3627e+02, 6.0752e+00, 0.0000e+00, 1.0000e+00, 0.0000e+00,\n",
       "         0.0000e+00, 0.0000e+00, 0.0000e+00, 0.0000e+00, 0.0000e+00, 2.4017e-01],\n",
       "        [1.6600e+01, 1.3627e+02, 6.0752e+00, 0.0000e+00, 0.0000e+00, 0.0000e+00,\n",
       "         0.0000e+00, 0.0000e+00, 1.0000e+00, 0.0000e+00, 0.0000e+00, 4.1083e-02],\n",
       "        [1.6600e+01, 1.3627e+02, 6.0341e+00, 0.0000e+00, 0.0000e+00, 0.0000e+00,\n",
       "         0.0000e+00, 0.0000e+00, 1.0000e+00, 0.0000e+00, 0.0000e+00, 3.3380e-02],\n",
       "        [1.6600e+01, 1.3627e+02, 6.0007e+00, 0.0000e+00, 0.0000e+00, 0.0000e+00,\n",
       "         0.0000e+00, 0.0000e+00, 1.0000e+00, 0.0000e+00, 0.0000e+00, 2.7816e-02],\n",
       "        [1.6600e+01, 1.3627e+02, 5.9729e+00, 0.0000e+00, 0.0000e+00, 0.0000e+00,\n",
       "         0.0000e+00, 0.0000e+00, 1.0000e+00, 0.0000e+00, 0.0000e+00, 2.3644e-02],\n",
       "        [1.6600e+01, 1.3627e+02, 5.9492e+00, 0.0000e+00, 0.0000e+00, 0.0000e+00,\n",
       "         0.0000e+00, 0.0000e+00, 0.0000e+00, 0.0000e+00, 1.0000e+00, 0.0000e+00]])"
      ]
     },
     "execution_count": 10,
     "metadata": {},
     "output_type": "execute_result"
    }
   ],
   "source": []
  }
 ],
 "metadata": {
  "kernelspec": {
   "display_name": "camelot_env",
   "language": "python",
   "name": "python3"
  },
  "language_info": {
   "codemirror_mode": {
    "name": "ipython",
    "version": 3
   },
   "file_extension": ".py",
   "mimetype": "text/x-python",
   "name": "python",
   "nbconvert_exporter": "python",
   "pygments_lexer": "ipython3",
   "version": "3.12.2"
  }
 },
 "nbformat": 4,
 "nbformat_minor": 2
}
