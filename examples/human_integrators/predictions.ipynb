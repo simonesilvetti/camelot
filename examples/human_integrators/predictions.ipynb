{
 "cells": [
  {
   "cell_type": "code",
   "execution_count": 1,
   "metadata": {},
   "outputs": [],
   "source": [
    "import numpy as np\n",
    "import matplotlib.pyplot as plt\n",
    "import torch\n",
    "import torch.nn as nn\n",
    "import pickle\n",
    "import pandas as pd"
   ]
  },
  {
   "cell_type": "code",
   "execution_count": 2,
   "metadata": {},
   "outputs": [],
   "source": [
    "traces_train=pd.read_pickle('dataset/integrators_data_train.pickle')\n",
    "results_train=pd.read_pickle('dataset/integrators_outputs_train.pickle')\n",
    "\n",
    "traces_test=pd.read_pickle('dataset/integrators_data_test.pickle')\n",
    "results_test=pd.read_pickle('dataset/integrators_outputs_test.pickle')"
   ]
  },
  {
   "cell_type": "code",
   "execution_count": 3,
   "metadata": {},
   "outputs": [],
   "source": [
    "class RNN(nn.Module):\n",
    "    def __init__(self, input_size, hidden_size, output_size):\n",
    "        super(RNN, self).__init__()\n",
    "\n",
    "        self.hidden_size = hidden_size\n",
    "\n",
    "        self.i2h = nn.Linear(input_size + hidden_size, hidden_size)\n",
    "        self.h2o = nn.Linear(hidden_size, output_size)\n",
    "        self.softmax = nn.LogSoftmax(dim=1)\n",
    "        self.fc = nn.Linear(output_size, 1)\n",
    "        self.sig = nn.Sigmoid()\n",
    "\n",
    "    def forward(self, input, hidden):\n",
    "        combined = torch.cat((input, hidden), 1)\n",
    "        hidden = self.i2h(combined)\n",
    "        output = self.h2o(hidden)\n",
    "        output = self.fc(output)\n",
    "        output = self.sig(output)[0]\n",
    "        return output, hidden\n",
    "\n",
    "    def initHidden(self):\n",
    "        return torch.zeros(1, self.hidden_size)"
   ]
  },
  {
   "cell_type": "code",
   "execution_count": 4,
   "metadata": {},
   "outputs": [],
   "source": [
    "def train(trace,result,nn,learning_rate,loss_function):\n",
    "    hidden = nn.initHidden()\n",
    "    nn.zero_grad()\n",
    "    for i in range(len(trace)):\n",
    "        output, hidden = nn(trace[i], hidden)\n",
    "    loss = loss_function(output, result)\n",
    "    loss.backward()\n",
    "    for p in nn.parameters():\n",
    "        p.data.add_(p.grad.data, alpha=-learning_rate)\n",
    "    return output, loss.item()"
   ]
  },
  {
   "cell_type": "code",
   "execution_count": 5,
   "metadata": {},
   "outputs": [],
   "source": [
    "n_iters = 10000\n",
    "print_every = 500\n",
    "learning_rate = 0.005 # If you set this too high, it might explode. If too low, it might not learn\n",
    "loss_function = nn.BCELoss()\n",
    "n_hidden = 10\n",
    "rnn = RNN(traces_train[0].size(2),n_hidden,1)"
   ]
  },
  {
   "cell_type": "code",
   "execution_count": 6,
   "metadata": {},
   "outputs": [
    {
     "data": {
      "text/plain": [
       "tensor([[[1.0000e+00, 0.0000e+00, 0.0000e+00, 0.0000e+00, 0.0000e+00,\n",
       "          0.0000e+00, 0.0000e+00, 0.0000e+00, 0.0000e+00, 2.0032e+01,\n",
       "          1.3626e+02, 3.4512e-01, 0.0000e+00, 1.0921e-01]],\n",
       "\n",
       "        [[0.0000e+00, 0.0000e+00, 0.0000e+00, 0.0000e+00, 0.0000e+00,\n",
       "          1.0000e+00, 0.0000e+00, 0.0000e+00, 0.0000e+00, 0.0000e+00,\n",
       "          0.0000e+00, 0.0000e+00, 3.1549e+00, 4.7238e+01]],\n",
       "\n",
       "        [[1.0000e+00, 0.0000e+00, 0.0000e+00, 0.0000e+00, 0.0000e+00,\n",
       "          0.0000e+00, 0.0000e+00, 0.0000e+00, 0.0000e+00, 2.0032e+01,\n",
       "          1.3626e+02, 3.5000e+00, 0.0000e+00, 1.3817e-01]]])"
      ]
     },
     "execution_count": 6,
     "metadata": {},
     "output_type": "execute_result"
    }
   ],
   "source": [
    "traces_train[0]"
   ]
  },
  {
   "cell_type": "code",
   "execution_count": 7,
   "metadata": {},
   "outputs": [
    {
     "name": "stdout",
     "output_type": "stream",
     "text": [
      "tensor([0.4538], grad_fn=<SelectBackward0>) tensor([0.]) 0.6047884821891785\n",
      "tensor([0.2821], grad_fn=<SelectBackward0>) tensor([0.]) 0.3314201831817627\n",
      "tensor([0.0009], grad_fn=<SelectBackward0>) tensor([0.]) 0.0009466888732276857\n",
      "tensor([9.2255e-05], grad_fn=<SelectBackward0>) tensor([0.]) 9.225923713529482e-05\n",
      "tensor([0.9992], grad_fn=<SelectBackward0>) tensor([1.]) 0.00082353875041008\n",
      "tensor([0.9995], grad_fn=<SelectBackward0>) tensor([1.]) 0.0004874463484156877\n",
      "tensor([8.4515e-06], grad_fn=<SelectBackward0>) tensor([0.]) 8.451487701677252e-06\n",
      "tensor([1.0000], grad_fn=<SelectBackward0>) tensor([1.]) 5.841272468387615e-06\n",
      "tensor([1.0000], grad_fn=<SelectBackward0>) tensor([1.]) 7.271793037944008e-06\n",
      "tensor([3.7365e-06], grad_fn=<SelectBackward0>) tensor([0.]) 3.736550297617214e-06\n",
      "tensor([4.0360e-06], grad_fn=<SelectBackward0>) tensor([0.]) 4.035991423734231e-06\n",
      "tensor([2.7222e-06], grad_fn=<SelectBackward0>) tensor([0.]) 2.722249291764456e-06\n",
      "tensor([1.8151e-06], grad_fn=<SelectBackward0>) tensor([0.]) 1.8150985852116719e-06\n",
      "tensor([3.5861e-06], grad_fn=<SelectBackward0>) tensor([0.]) 3.5861030482919887e-06\n",
      "tensor([1.0000], grad_fn=<SelectBackward0>) tensor([1.]) 4.887592695013154e-06\n",
      "tensor([4.6315e-06], grad_fn=<SelectBackward0>) tensor([0.]) 4.631537194654811e-06\n",
      "tensor([1.3644e-05], grad_fn=<SelectBackward0>) tensor([0.]) 1.3643727470480371e-05\n",
      "tensor([1.0000], grad_fn=<SelectBackward0>) tensor([1.]) 3.3975225960602984e-05\n",
      "tensor([1.0000], grad_fn=<SelectBackward0>) tensor([1.]) 2.3841887468734058e-06\n",
      "tensor([1.0615e-06], grad_fn=<SelectBackward0>) tensor([0.]) 1.061544594449515e-06\n"
     ]
    }
   ],
   "source": [
    "losses=[]\n",
    "for iter in range(1, n_iters + 1):\n",
    "    index = np.random.randint(len(traces_train))\n",
    "    trace, result = traces_train[index], results_train[index]\n",
    "    output, loss = train(trace,result,rnn,learning_rate,loss_function)\n",
    "    losses.append(loss)\n",
    "    if iter % print_every == 0:\n",
    "        print(output, result, loss)"
   ]
  },
  {
   "cell_type": "code",
   "execution_count": 8,
   "metadata": {},
   "outputs": [
    {
     "data": {
      "text/plain": [
       "[<matplotlib.lines.Line2D at 0x7ac1da57ffe0>]"
      ]
     },
     "execution_count": 8,
     "metadata": {},
     "output_type": "execute_result"
    },
    {
     "data": {
      "image/png": "[encoded data removed]",
      "text/plain": [
       "<Figure size 640x480 with 1 Axes>"
      ]
     },
     "metadata": {},
     "output_type": "display_data"
    }
   ],
   "source": [
    "plt.plot(range(len(losses)),losses)"
   ]
  },
  {
   "cell_type": "code",
   "execution_count": 9,
   "metadata": {},
   "outputs": [
    {
     "name": "stdout",
     "output_type": "stream",
     "text": [
      "tensor([1.])\n"
     ]
    }
   ],
   "source": [
    "def evaluate(nn,trace,result):\n",
    "  hidden = rnn.initHidden()\n",
    "  for i in range(len(trace)):\n",
    "      output, hidden = nn(trace[i], hidden)\n",
    "      if output>0.5:\n",
    "         output=1\n",
    "      else:\n",
    "         output=0\n",
    "  return output==result\n",
    "\n",
    "correct=0\n",
    "for i in range(len(traces_test)):\n",
    "  correct+=evaluate(rnn,traces_test[i],results_test[i])\n",
    "\n",
    "print(correct/len(traces_test))"
   ]
  }
 ],
 "metadata": {
  "kernelspec": {
   "display_name": "camelot_env",
   "language": "python",
   "name": "python3"
  },
  "language_info": {
   "codemirror_mode": {
    "name": "ipython",
    "version": 3
   },
   "file_extension": ".py",
   "mimetype": "text/x-python",
   "name": "python",
   "nbconvert_exporter": "python",
   "pygments_lexer": "ipython3",
   "version": "3.12.2"
  }
 },
 "nbformat": 4,
 "nbformat_minor": 2
}
