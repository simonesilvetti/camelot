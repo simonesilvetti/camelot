{
  "cells": [
    {
      "cell_type": "code",
      "execution_count": 5,
      "metadata": {
        "id": "ALRxIVdEO8KI"
      },
      "outputs": [],
      "source": [
        "import numpy as np\n",
        "import matplotlib.pyplot as plt\n",
        "import torch\n",
        "import torch.nn as nn\n",
        "import torch.optim as optim\n",
        "import pickle\n",
        "import pandas as pd\n",
        "from sklearn.model_selection import train_test_split\n",
        "from tqdm.auto import trange\n"
      ]
    },
    {
      "cell_type": "code",
      "source": [
        "def get_default_device():\n",
        "    \"\"\"Pick GPU if available, else CPU\"\"\"\n",
        "    if torch.cuda.is_available():\n",
        "        return torch.device('cuda')\n",
        "    else:\n",
        "        return torch.device('cpu')\n",
        "\n",
        "device = get_default_device()"
      ],
      "metadata": {
        "id": "I_Q8hQdYVzmR"
      },
      "execution_count": 6,
      "outputs": []
    },
    {
      "cell_type": "code",
      "source": [
        "dataset=pd.read_pickle('/content/integrators_next_state.pickle')"
      ],
      "metadata": {
        "id": "is7KqLtUWwLv"
      },
      "execution_count": 7,
      "outputs": []
    },
    {
      "cell_type": "code",
      "source": [
        "train_set,test_set=train_test_split(dataset,test_size=0.2)\n",
        "training_set,validation_set=train_test_split(train_set,test_size=0.2)"
      ],
      "metadata": {
        "id": "9zcORjmrBOjK"
      },
      "execution_count": 8,
      "outputs": []
    },
    {
      "cell_type": "code",
      "execution_count": 9,
      "metadata": {
        "id": "M4J-yQG1O8KO"
      },
      "outputs": [],
      "source": [
        "class RNN(nn.Module):\n",
        "    def __init__(self, input_size, hidden_size, output_size):\n",
        "        super(RNN, self).__init__()\n",
        "\n",
        "        self.hidden_size = hidden_size\n",
        "\n",
        "        self.i2h = nn.Linear(input_size + hidden_size, hidden_size)\n",
        "        self.relu1=nn.ReLU()\n",
        "        self.h2o = nn.Linear(hidden_size, output_size)\n",
        "        self.relu2=nn.ReLU()\n",
        "        self.fc = nn.Linear(output_size, output_size)\n",
        "\n",
        "    def forward(self, input, hidden):\n",
        "        combined = torch.cat((input, hidden))\n",
        "        hidden = self.relu1(self.i2h(combined))\n",
        "        output = self.relu2(self.h2o(hidden))\n",
        "        output = self.fc(output)\n",
        "        return output, hidden\n",
        "\n",
        "    def initHidden(self):\n",
        "        #return torch.zeros(self.hidden_size).to(device)\n",
        "        return torch.rand(self.hidden_size).to(device)"
      ]
    },
    {
      "cell_type": "code",
      "execution_count": 44,
      "metadata": {
        "id": "3wiGXgINO8KQ"
      },
      "outputs": [],
      "source": [
        "EPOCHS   = 5\n",
        "learning_rate = 0.0001 # If you set this too high, it might explode. If too low, it might not learn\n",
        "momentum=0.9\n",
        "batch_size=16\n",
        "regression_loss_function=nn.MSELoss()\n",
        "classification_loss_function=nn.CrossEntropyLoss()\n",
        "n_hidden = 10\n",
        "dimension=training_set[0][0].size(0)\n",
        "rnn = RNN(dimension,n_hidden,dimension)\n",
        "optimizer=optim.SGD(rnn.parameters(),learning_rate,momentum=momentum)"
      ]
    },
    {
      "cell_type": "code",
      "source": [
        "training_losses=[]\n",
        "validation_losses=[]\n",
        "\n",
        "\n",
        "for epoch in trange(EPOCHS, desc=\"Training epoch\"):\n",
        "\n",
        "  rnn.train()\n",
        "\n",
        "  for batch_start in range(0, len(training_set), batch_size):\n",
        "    batch_end = min(batch_start + batch_size, len(training_set))\n",
        "    batch_traces = training_set[batch_start:batch_end]\n",
        "\n",
        "    optimizer.zero_grad()\n",
        "\n",
        "    for trace in batch_traces:\n",
        "      hidden = rnn.initHidden()\n",
        "      for i in range(len(trace) - 1):\n",
        "        output, hidden = rnn(trace[i], hidden)\n",
        "        hidden = hidden.clone().detach()\n",
        "\n",
        "        # Calculate losses for regression and classification\n",
        "        regression_output=output[:4]\n",
        "        regression_correct=trace[i+1][:4]\n",
        "\n",
        "        classification_output=output[4:]\n",
        "        classification_correct=trace[i+1][4:]\n",
        "\n",
        "\n",
        "        loss_regression = regression_loss_function(regression_output, regression_correct)\n",
        "        loss_classification = classification_loss_function(classification_output, classification_correct)\n",
        "\n",
        "        loss = loss_regression + 0.1*loss_classification\n",
        "\n",
        "        # Accumulate gradients\n",
        "        loss.backward()\n",
        "\n",
        "    # Update parameters based on accumulated gradients for the entire batch\n",
        "    optimizer.step()\n",
        "\n",
        "  rnn.eval()\n",
        "  with torch.no_grad():\n",
        "\n",
        "    training_loss=0\n",
        "\n",
        "    for trace in training_set:\n",
        "      hidden = rnn.initHidden()\n",
        "      for i in range(len(trace) - 1):\n",
        "        output, hidden = rnn(trace[i], hidden)\n",
        "        hidden = hidden.clone().detach()\n",
        "\n",
        "        # Calculate losses for regression and classification\n",
        "        regression_output=output[:4]\n",
        "        regression_correct=trace[i+1][:4]\n",
        "\n",
        "        classification_output=output[4:]\n",
        "        classification_correct=trace[i+1][4:]\n",
        "\n",
        "\n",
        "        loss_regression = regression_loss_function(regression_output, regression_correct).item()\n",
        "        loss_classification = classification_loss_function(classification_output, classification_correct).item()\n",
        "\n",
        "        training_loss += loss_regression + 0.1*loss_classification\n",
        "    training_losses.append(training_loss/len(training_set))\n",
        "\n",
        "    validation_loss=0\n",
        "\n",
        "    for trace in validation_set:\n",
        "      hidden = rnn.initHidden()\n",
        "      for i in range(len(trace) - 1):\n",
        "        output, hidden = rnn(trace[i], hidden)\n",
        "        hidden = hidden.clone().detach()\n",
        "\n",
        "        # Calculate losses for regression and classification\n",
        "        regression_output=output[:4]\n",
        "        regression_correct=trace[i+1][:4]\n",
        "\n",
        "        classification_output=output[4:]\n",
        "        classification_correct=trace[i+1][4:]\n",
        "\n",
        "\n",
        "        loss_regression = regression_loss_function(regression_output, regression_correct).item()\n",
        "        loss_classification = classification_loss_function(classification_output, classification_correct).item()\n",
        "\n",
        "        validation_loss += loss_regression + 0.1*loss_classification\n",
        "    validation_losses.append(validation_loss/len(validation_set))\n"
      ],
      "metadata": {
        "colab": {
          "base_uri": "https://localhost:8080/"
        },
        "id": "f0a7eKLV9yvi",
        "outputId": "f592da52-1b37-42a6-980c-2efaa23d3013"
      },
      "execution_count": 45,
      "outputs": [
        {
          "output_type": "stream",
          "name": "stderr",
          "text": [
            "Training epoch: 100%|██████████| 5/5 [00:20<00:00,  4.06s/it]\n"
          ]
        }
      ]
    },
    {
      "cell_type": "code",
      "source": [
        "plt.plot(training_losses,label='Training')\n",
        "plt.plot(validation_losses,label='Validation')\n",
        "plt.legend()"
      ],
      "metadata": {
        "colab": {
          "base_uri": "https://localhost:8080/",
          "height": 447
        },
        "id": "o6kgsfwSCaBu",
        "outputId": "f16a2b97-5597-429f-88e0-feaff477c6e9"
      },
      "execution_count": 46,
      "outputs": [
        {
          "output_type": "execute_result",
          "data": {
            "text/plain": [
              "<matplotlib.legend.Legend at 0x7b925f06fe50>"
            ]
          },
          "metadata": {},
          "execution_count": 46
        },
        {
          "output_type": "display_data",
          "data": {
            "text/plain": [
              "<Figure size 640x480 with 1 Axes>"
            ],
            "image/png": "[encoded data removed]"
          },
          "metadata": {}
        }
      ]
    },
    {
      "cell_type": "code",
      "execution_count": 21,
      "metadata": {
        "id": "0Jpobn1mO8KT"
      },
      "outputs": [],
      "source": [
        "def evaluate(nn,trace):\n",
        "    losses_regression=[]\n",
        "    correct=0\n",
        "    hidden = nn.initHidden()\n",
        "    for i in range(len(trace)-1):\n",
        "        output,hidden=nn(trace[i],hidden)\n",
        "\n",
        "        regression_output=output[:4]\n",
        "        regression_correct=trace[i+1][:4]\n",
        "\n",
        "        classification_output=torch.argmax(output[4:])\n",
        "        classification_correct=torch.argmax(trace[i+1][4:])\n",
        "\n",
        "        loss_regression=regression_loss_function(regression_output,regression_correct)\n",
        "        losses_regression.append(loss_regression)\n",
        "\n",
        "        if classification_output==classification_correct:\n",
        "          correct+=1\n",
        "\n",
        "    return losses_regression,correct\n"
      ]
    },
    {
      "cell_type": "code",
      "execution_count": 22,
      "metadata": {
        "colab": {
          "base_uri": "https://localhost:8080/",
          "height": 1000
        },
        "id": "zIm1EYMjO8KU",
        "outputId": "87445337-3d35-490f-c896-3266a37875c2"
      },
      "outputs": [
        {
          "output_type": "stream",
          "name": "stdout",
          "text": [
            "Accuracy is 51.105216622458%\n",
            "Mean loss is 0.0031049130484461784\n"
          ]
        },
        {
          "output_type": "execute_result",
          "data": {
            "text/plain": [
              "(array([735., 219.,  85.,  15.,  10.,  14.,   8.,   2.,   9.,   4.,   2.,\n",
              "          1.,   3.,   4.,   2.,   0.,   0.,   3.,   4.,   1.,   0.,   1.,\n",
              "          0.,   0.,   1.,   0.,   0.,   1.,   0.,   0.,   1.,   0.,   0.,\n",
              "          1.,   0.,   0.,   0.,   0.,   1.,   0.,   0.,   0.,   0.,   0.,\n",
              "          0.,   0.,   0.,   0.,   2.,   0.,   0.,   0.,   0.,   0.,   0.,\n",
              "          0.,   0.,   0.,   0.,   0.,   0.,   0.,   0.,   0.,   0.,   0.,\n",
              "          0.,   0.,   0.,   0.,   0.,   0.,   0.,   0.,   0.,   0.,   0.,\n",
              "          0.,   0.,   0.,   0.,   0.,   0.,   0.,   0.,   0.,   0.,   1.,\n",
              "          0.,   0.,   0.,   0.,   0.,   0.,   0.,   0.,   0.,   0.,   0.,\n",
              "          1.]),\n",
              " array([4.12764639e-05, 1.76843116e-03, 3.49558587e-03, 5.22274058e-03,\n",
              "        6.94989506e-03, 8.67704954e-03, 1.04042049e-02, 1.21313594e-02,\n",
              "        1.38585139e-02, 1.55856684e-02, 1.73128229e-02, 1.90399773e-02,\n",
              "        2.07671337e-02, 2.24942882e-02, 2.42214426e-02, 2.59485971e-02,\n",
              "        2.76757516e-02, 2.94029061e-02, 3.11300606e-02, 3.28572169e-02,\n",
              "        3.45843695e-02, 3.63115259e-02, 3.80386785e-02, 3.97658348e-02,\n",
              "        4.14929874e-02, 4.32201438e-02, 4.49473001e-02, 4.66744527e-02,\n",
              "        4.84016091e-02, 5.01287617e-02, 5.18559180e-02, 5.35830706e-02,\n",
              "        5.53102270e-02, 5.70373833e-02, 5.87645359e-02, 6.04916923e-02,\n",
              "        6.22188449e-02, 6.39460012e-02, 6.56731576e-02, 6.74003065e-02,\n",
              "        6.91274628e-02, 7.08546191e-02, 7.25817755e-02, 7.43089318e-02,\n",
              "        7.60360807e-02, 7.77632371e-02, 7.94903934e-02, 8.12175497e-02,\n",
              "        8.29446986e-02, 8.46718550e-02, 8.63990113e-02, 8.81261677e-02,\n",
              "        8.98533240e-02, 9.15804729e-02, 9.33076292e-02, 9.50347856e-02,\n",
              "        9.67619419e-02, 9.84890908e-02, 1.00216247e-01, 1.01943403e-01,\n",
              "        1.03670560e-01, 1.05397716e-01, 1.07124865e-01, 1.08852021e-01,\n",
              "        1.10579178e-01, 1.12306334e-01, 1.14033483e-01, 1.15760639e-01,\n",
              "        1.17487796e-01, 1.19214952e-01, 1.20942108e-01, 1.22669257e-01,\n",
              "        1.24396414e-01, 1.26123562e-01, 1.27850726e-01, 1.29577875e-01,\n",
              "        1.31305039e-01, 1.33032188e-01, 1.34759337e-01, 1.36486501e-01,\n",
              "        1.38213649e-01, 1.39940813e-01, 1.41667962e-01, 1.43395111e-01,\n",
              "        1.45122275e-01, 1.46849424e-01, 1.48576587e-01, 1.50303736e-01,\n",
              "        1.52030885e-01, 1.53758049e-01, 1.55485198e-01, 1.57212347e-01,\n",
              "        1.58939511e-01, 1.60666659e-01, 1.62393823e-01, 1.64120972e-01,\n",
              "        1.65848121e-01, 1.67575285e-01, 1.69302434e-01, 1.71029598e-01,\n",
              "        1.72756746e-01]),\n",
              " <BarContainer object of 100 artists>)"
            ]
          },
          "metadata": {},
          "execution_count": 22
        },
        {
          "output_type": "display_data",
          "data": {
            "text/plain": [
              "<Figure size 640x480 with 1 Axes>"
            ],
            "image/png": "[encoded data removed]"
          },
          "metadata": {}
        }
      ],
      "source": [
        "losses=[]\n",
        "correct=0\n",
        "tot=0\n",
        "for trace in test_set:\n",
        "    trace_losses,trace_correct=evaluate(rnn,trace)\n",
        "    losses.extend(trace_losses)\n",
        "    correct+=trace_correct\n",
        "    tot+=len(trace)-1\n",
        "\n",
        "losses=[loss.detach().cpu().numpy() for loss in losses]\n",
        "print(f\"Accuracy is {(correct/tot)*100}%\" )\n",
        "print(f\"Mean loss is {np.mean(losses)}\")\n",
        "plt.hist(losses,bins=100)"
      ]
    },
    {
      "cell_type": "code",
      "source": [
        "print(test_set[5])\n",
        "hidden=rnn.initHidden()\n",
        "rnn(test_set[5][0],hidden)"
      ],
      "metadata": {
        "colab": {
          "base_uri": "https://localhost:8080/"
        },
        "id": "rDuSNaRbghe1",
        "outputId": "43911604-6395-48e0-ac36-fbbaa484923a"
      },
      "execution_count": null,
      "outputs": [
        {
          "output_type": "stream",
          "name": "stdout",
          "text": [
            "tensor([[0.3066, 0.9117, 0.0195, 0.0000, 0.0000, 0.0000, 0.0000, 1.0000, 0.0000,\n",
            "         0.0000, 0.0000, 0.2050],\n",
            "        [0.3066, 0.9117, 0.1543, 1.0000, 0.0000, 0.0000, 0.0000, 0.0000, 0.0000,\n",
            "         0.0000, 0.0000, 0.2371],\n",
            "        [0.4188, 0.9117, 0.1543, 0.0000, 0.0000, 0.0000, 0.0000, 0.0000, 0.0000,\n",
            "         1.0000, 0.0000, 0.0000]])\n"
          ]
        },
        {
          "output_type": "execute_result",
          "data": {
            "text/plain": [
              "(tensor([0.4737, 0.8346, 0.2746, 0.2051, 0.1739, 0.1693, 0.1673, 0.1589, 0.6644,\n",
              "         0.1985, 0.1675, 0.1263], grad_fn=<SigmoidBackward0>),\n",
              " tensor([0.5362, 0.5692, 0.4343, 0.5372, 0.5127, 0.5215, 0.4979, 0.5028, 0.5803,\n",
              "         0.5993], grad_fn=<SigmoidBackward0>))"
            ]
          },
          "metadata": {},
          "execution_count": 45
        }
      ]
    },
    {
      "cell_type": "code",
      "source": [
        "def squared_error(input,target):\n",
        "  return torch.pow(input-target,2)"
      ],
      "metadata": {
        "id": "jlVhgQe8omlT"
      },
      "execution_count": null,
      "outputs": []
    },
    {
      "cell_type": "code",
      "source": [
        "class CustomLoss(nn.Module):\n",
        "  def __init__(self):\n",
        "        super(CustomLoss, self).__init__()\n",
        "\n",
        "  def forward(self,input,target):\n",
        "    mse=(1/4)*(squared_error(input[0],target[0])+squared_error(input[1],target[1])+squared_error(input[2],target[2])+squared_error(input[-1],target[-1]))\n",
        "    l=torch.zeros(8)\n",
        "    for i in range(len(l)):\n",
        "      l[i]=-(target[i]*torch.log(input[i])+(1-target[i])*torch.log(1-input[i]))\n",
        "    bce=torch.mean(l)\n",
        "    return 0.5*mse+bce"
      ],
      "metadata": {
        "id": "xFb8uPF6nQEn"
      },
      "execution_count": null,
      "outputs": []
    },
    {
      "cell_type": "code",
      "source": [
        "l=torch.zeros(3)\n",
        "l[1]=2\n",
        "l"
      ],
      "metadata": {
        "colab": {
          "base_uri": "https://localhost:8080/"
        },
        "id": "3LKXpP08qibC",
        "outputId": "8d30d11a-de90-4f06-bf75-29d3efb4a31c"
      },
      "execution_count": null,
      "outputs": [
        {
          "output_type": "execute_result",
          "data": {
            "text/plain": [
              "tensor([0., 2., 0.])"
            ]
          },
          "metadata": {},
          "execution_count": 12
        }
      ]
    },
    {
      "cell_type": "code",
      "source": [
        "train_set[0]"
      ],
      "metadata": {
        "colab": {
          "base_uri": "https://localhost:8080/"
        },
        "id": "BqXtYQa08SQc",
        "outputId": "c26fe838-a773-4a58-8232-75e56324e926"
      },
      "execution_count": null,
      "outputs": [
        {
          "output_type": "execute_result",
          "data": {
            "text/plain": [
              "tensor([[0.6102, 0.8874, 0.1609, 0.0000, 1.0000, 0.0000, 0.0000, 0.0000, 0.0000,\n",
              "         0.0000, 0.0000, 0.1765],\n",
              "        [0.5267, 0.8874, 0.1609, 0.0000, 0.0000, 0.0000, 0.0000, 0.0000, 0.0000,\n",
              "         1.0000, 0.0000, 0.0000]], device='cuda:0')"
            ]
          },
          "metadata": {},
          "execution_count": 8
        }
      ]
    },
    {
      "cell_type": "code",
      "source": [],
      "metadata": {
        "id": "5qGPiNmG8UIP"
      },
      "execution_count": null,
      "outputs": []
    }
  ],
  "metadata": {
    "kernelspec": {
      "display_name": "Python 3",
      "name": "python3"
    },
    "language_info": {
      "codemirror_mode": {
        "name": "ipython",
        "version": 3
      },
      "file_extension": ".py",
      "mimetype": "text/x-python",
      "name": "python",
      "nbconvert_exporter": "python",
      "pygments_lexer": "ipython3",
      "version": "3.12.2"
    },
    "colab": {
      "provenance": []
    }
  },
  "nbformat": 4,
  "nbformat_minor": 0
}