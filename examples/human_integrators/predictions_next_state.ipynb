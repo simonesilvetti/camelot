{
  "cells": [
    {
      "cell_type": "code",
      "execution_count": 1,
      "metadata": {
        "id": "ALRxIVdEO8KI"
      },
      "outputs": [],
      "source": [
        "import numpy as np\n",
        "import matplotlib.pyplot as plt\n",
        "import torch\n",
        "import torch.nn as nn\n",
        "import torch.optim as optim\n",
        "import pickle\n",
        "import pandas as pd"
      ]
    },
    {
      "cell_type": "code",
      "source": [
        "def get_default_device():\n",
        "    \"\"\"Pick GPU if available, else CPU\"\"\"\n",
        "    if torch.cuda.is_available():\n",
        "        return torch.device('cuda')\n",
        "    else:\n",
        "        return torch.device('cpu')\n",
        "\n",
        "device = get_default_device()"
      ],
      "metadata": {
        "id": "I_Q8hQdYVzmR"
      },
      "execution_count": 2,
      "outputs": []
    },
    {
      "cell_type": "code",
      "source": [
        "train_set=pd.read_pickle('/content/integrators_next_state_train.pickle')\n",
        "test_set=pd.read_pickle('/content/integrators_next_state_test.pickle')"
      ],
      "metadata": {
        "id": "is7KqLtUWwLv"
      },
      "execution_count": 3,
      "outputs": []
    },
    {
      "cell_type": "code",
      "source": [
        "train_set=[trace.to(device) for trace in train_set]\n",
        "test_set=[trace.to(device) for trace in test_set]"
      ],
      "metadata": {
        "id": "N0u9Ks0fW9t1"
      },
      "execution_count": 4,
      "outputs": []
    },
    {
      "cell_type": "code",
      "source": [
        "long_traces=[trace for trace in train_set if len(trace)>8]"
      ],
      "metadata": {
        "id": "njTpSg13KMGH"
      },
      "execution_count": 8,
      "outputs": []
    },
    {
      "cell_type": "code",
      "execution_count": 5,
      "metadata": {
        "id": "M4J-yQG1O8KO"
      },
      "outputs": [],
      "source": [
        "class RNN(nn.Module):\n",
        "    def __init__(self, input_size, hidden_size, output_size):\n",
        "        super(RNN, self).__init__()\n",
        "\n",
        "        self.hidden_size = hidden_size\n",
        "\n",
        "        self.i2h = nn.Linear(input_size + hidden_size, hidden_size)\n",
        "        self.relu1=nn.ReLU()\n",
        "        self.h2o = nn.Linear(hidden_size, output_size)\n",
        "        self.relu2=nn.ReLU()\n",
        "        self.fc = nn.Linear(output_size, output_size)\n",
        "        self.sigmoid=nn.Sigmoid()\n",
        "\n",
        "    def forward(self, input, hidden):\n",
        "        combined = torch.cat((input, hidden))\n",
        "        hidden = self.relu1(self.i2h(combined))\n",
        "        output = self.relu2(self.h2o(hidden))\n",
        "        output = self.sigmoid(self.fc(output))\n",
        "        return output, hidden\n",
        "\n",
        "    def initHidden(self):\n",
        "        #return torch.zeros(self.hidden_size).to(device)\n",
        "        return torch.rand(self.hidden_size).to(device)"
      ]
    },
    {
      "cell_type": "code",
      "execution_count": 223,
      "metadata": {
        "id": "3wiGXgINO8KQ"
      },
      "outputs": [],
      "source": [
        "n_iters = 50\n",
        "print_every = 10000\n",
        "learning_rate = 0.0001 # If you set this too high, it might explode. If too low, it might not learn\n",
        "batch_size=16\n",
        "regression_loss_function=nn.MSELoss()\n",
        "classification_loss_function=nn.BCELoss()\n",
        "n_hidden = 10\n",
        "dimension=train_set[0][0].size(0)\n",
        "rnn = RNN(dimension,n_hidden,dimension)\n",
        "rnn.to(device)\n",
        "optimizer=optim.SGD(rnn.parameters(),learning_rate)"
      ]
    },
    {
      "cell_type": "code",
      "source": [
        "losses=[]\n",
        "losses_regression=[]\n",
        "losses_classification=[]\n",
        "position_in_trace=[]\n",
        "losses_by_class={0:[],1:[],2:[],3:[],4:[],5:[],6:[],7:[]}\n",
        "\n",
        "length_of_trace=[]\n",
        "\n",
        "count=0\n",
        "\n",
        "# Modify the loop to batch the training data\n",
        "for iter in range(1, n_iters + 1):\n",
        "    for batch_start in range(0, len(train_set), batch_size):\n",
        "        batch_end = min(batch_start + batch_size, len(train_set))\n",
        "        batch_traces = train_set[batch_start:batch_end]\n",
        "\n",
        "        # Initialize gradients\n",
        "        optimizer.zero_grad()\n",
        "\n",
        "        for trace in batch_traces:\n",
        "            hidden = rnn.initHidden()\n",
        "            for i in range(len(trace) - 1):\n",
        "                output, hidden = rnn(trace[i], hidden)\n",
        "                hidden = hidden.clone().detach()\n",
        "\n",
        "                # Calculate losses for regression and classification\n",
        "                regression_output = torch.cat((output[0:3], output[-1].reshape(1)))\n",
        "                regression_correct = torch.cat((trace[i + 1][0:3], trace[i + 1][-1].reshape(1)))\n",
        "                classification_output = output[3:11]\n",
        "                classification_correct = trace[i + 1][3:11]\n",
        "\n",
        "                loss_regression = regression_loss_function(regression_output, regression_correct)\n",
        "                loss_classification = classification_loss_function(classification_output, classification_correct)\n",
        "\n",
        "                loss = loss_regression + 0.1*loss_classification\n",
        "\n",
        "                # Accumulate gradients\n",
        "                loss.backward()\n",
        "\n",
        "                # Record losses\n",
        "                if i>0 and len(trace)!=3 and len(trace)!=4:\n",
        "                  losses.append(loss.detach().cpu().numpy())\n",
        "                  losses_by_class[(classification_correct==1).nonzero().item()].append(loss.detach().cpu().numpy())\n",
        "                  position_in_trace.append(i)\n",
        "                  length_of_trace.append(len(trace))\n",
        "                  losses_regression.append(loss_regression.detach().cpu().numpy())\n",
        "                  losses_classification.append(loss_classification.detach().cpu().numpy())\n",
        "\n",
        "                if count % print_every == 0 and count>1:\n",
        "                  print(f\"total losses are between {min(losses[-print_every:])} and {max(losses[-print_every:])}\")\n",
        "                  print(f\"regression losses are between {min(losses_regression[-print_every:])} and {max(losses_regression[-print_every:])}\")\n",
        "                  print(f\"classification losses are between {min(losses_classification[-print_every:])} and {max(losses_classification[-print_every:])}\")\n",
        "                  print(\" \")\n",
        "                count += 1\n",
        "\n",
        "        # Update parameters based on accumulated gradients for the entire batch\n",
        "        optimizer.step()\n",
        "\n",
        "\n"
      ],
      "metadata": {
        "colab": {
          "base_uri": "https://localhost:8080/"
        },
        "id": "f0a7eKLV9yvi",
        "outputId": "d41b7a1e-778d-4461-adbe-716765358823"
      },
      "execution_count": 224,
      "outputs": [
        {
          "output_type": "stream",
          "name": "stdout",
          "text": [
            "total losses are between 0.10902708768844604 and 0.20850706100463867\n",
            "regression losses are between 0.03256627172231674 and 0.1333303302526474\n",
            "classification losses are between 0.7124813199043274 and 0.7687326669692993\n",
            " \n",
            "total losses are between 0.1049131229519844 and 0.20011280477046967\n",
            "regression losses are between 0.028837746009230614 and 0.12475091218948364\n",
            "classification losses are between 0.7069809436798096 and 0.7647876739501953\n",
            " \n",
            "total losses are between 0.10108157992362976 and 0.187848299741745\n",
            "regression losses are between 0.025644375011324883 and 0.11403437703847885\n",
            "classification losses are between 0.7021768093109131 and 0.7611560821533203\n",
            " \n",
            "total losses are between 0.097158282995224 and 0.17826054990291595\n",
            "regression losses are between 0.022164929658174515 and 0.10553380846977234\n",
            "classification losses are between 0.6973879337310791 and 0.7571678757667542\n",
            " \n",
            "total losses are between 0.09320907294750214 and 0.16861984133720398\n",
            "regression losses are between 0.018713917583227158 and 0.097603440284729\n",
            "classification losses are between 0.6928010582923889 and 0.7534900307655334\n",
            " \n",
            "total losses are between 0.0889739915728569 and 0.16013506054878235\n",
            "regression losses are between 0.014795273542404175 and 0.08700227737426758\n",
            "classification losses are between 0.687551736831665 and 0.7488613128662109\n",
            " \n",
            "total losses are between 0.08567454665899277 and 0.15223562717437744\n",
            "regression losses are between 0.012081487104296684 and 0.08030864596366882\n",
            "classification losses are between 0.6814505457878113 and 0.7449857592582703\n",
            " \n",
            "total losses are between 0.0835825651884079 and 0.14321187138557434\n",
            "regression losses are between 0.010370482690632343 and 0.0730261504650116\n",
            "classification losses are between 0.6758298873901367 and 0.7411224246025085\n",
            " \n",
            "total losses are between 0.08140678703784943 and 0.1354331225156784\n",
            "regression losses are between 0.008557462133467197 and 0.06708236783742905\n",
            "classification losses are between 0.6695680022239685 and 0.7374346852302551\n",
            " \n",
            "total losses are between 0.07966092973947525 and 0.12900304794311523\n",
            "regression losses are between 0.007229661103338003 and 0.06137724220752716\n",
            "classification losses are between 0.6603206396102905 and 0.7332562804222107\n",
            " \n",
            "total losses are between 0.07844887673854828 and 0.1253093034029007\n",
            "regression losses are between 0.006362372078001499 and 0.05677543953061104\n",
            "classification losses are between 0.6528067588806152 and 0.7279599905014038\n",
            " \n",
            "total losses are between 0.07689890265464783 and 0.12614679336547852\n",
            "regression losses are between 0.0054636080749332905 and 0.05802750959992409\n",
            "classification losses are between 0.6448274850845337 and 0.7228639125823975\n",
            " \n",
            "total losses are between 0.07582801580429077 and 0.1273699700832367\n",
            "regression losses are between 0.004778307396918535 and 0.059412725269794464\n",
            "classification losses are between 0.6353958249092102 and 0.7183068990707397\n",
            " \n",
            "total losses are between 0.07439673691987991 and 0.12928920984268188\n",
            "regression losses are between 0.0037768336478620768 and 0.06223855912685394\n",
            "classification losses are between 0.6249067187309265 and 0.7138538360595703\n",
            " \n",
            "total losses are between 0.07281288504600525 and 0.13109110295772552\n",
            "regression losses are between 0.002930649556219578 and 0.06457363814115524\n",
            "classification losses are between 0.6143967509269714 and 0.7090944647789001\n",
            " \n",
            "total losses are between 0.0709015429019928 and 0.13244110345840454\n",
            "regression losses are between 0.00239023519679904 and 0.06645070016384125\n",
            "classification losses are between 0.6011328101158142 and 0.7024482488632202\n",
            " \n",
            "total losses are between 0.06775140017271042 and 0.13409873843193054\n",
            "regression losses are between 0.002015140140429139 and 0.06862032413482666\n",
            "classification losses are between 0.5886589288711548 and 0.6971023678779602\n",
            " \n",
            "total losses are between 0.06592258810997009 and 0.13531196117401123\n",
            "regression losses are between 0.0019940801430493593 and 0.07047024369239807\n",
            "classification losses are between 0.5771500468254089 and 0.6910769939422607\n",
            " \n",
            "total losses are between 0.06392572075128555 and 0.1371178776025772\n",
            "regression losses are between 0.0016865527722984552 and 0.07284120470285416\n",
            "classification losses are between 0.5646952986717224 and 0.6852986216545105\n",
            " \n",
            "total losses are between 0.06106319651007652 and 0.1400216817855835\n",
            "regression losses are between 0.0008188302745111287 and 0.07646249979734421\n",
            "classification losses are between 0.5513899326324463 and 0.6791783571243286\n",
            " \n",
            "total losses are between 0.05899817496538162 and 0.14155219495296478\n",
            "regression losses are between 0.0004627949383575469 and 0.07870132476091385\n",
            "classification losses are between 0.5372713804244995 and 0.6732166409492493\n",
            " \n",
            "total losses are between 0.05692187696695328 and 0.14322541654109955\n",
            "regression losses are between 0.00024774318444542587 and 0.08094295859336853\n",
            "classification losses are between 0.5190541744232178 and 0.6633843183517456\n",
            " \n",
            "total losses are between 0.055418532341718674 and 0.14458335936069489\n",
            "regression losses are between 0.00014680394087918103 and 0.08280234783887863\n",
            "classification losses are between 0.5042497515678406 and 0.6571698188781738\n",
            " \n"
          ]
        }
      ]
    },
    {
      "cell_type": "code",
      "source": [
        "plt.scatter(length_of_trace[100000:],losses[100000:])\n"
      ],
      "metadata": {
        "colab": {
          "base_uri": "https://localhost:8080/",
          "height": 447
        },
        "id": "o6kgsfwSCaBu",
        "outputId": "ea804c66-1b0f-418b-abb1-657c79a2f4f0"
      },
      "execution_count": 225,
      "outputs": [
        {
          "output_type": "execute_result",
          "data": {
            "text/plain": [
              "<matplotlib.collections.PathCollection at 0x79fc60f958a0>"
            ]
          },
          "metadata": {},
          "execution_count": 225
        },
        {
          "output_type": "display_data",
          "data": {
            "text/plain": [
              "<Figure size 640x480 with 1 Axes>"
            ],
            "image/png": "[encoded data removed]"
          },
          "metadata": {}
        }
      ]
    },
    {
      "cell_type": "code",
      "source": [
        "plt.scatter(position_in_trace[100000:],losses[100000:])\n"
      ],
      "metadata": {
        "colab": {
          "base_uri": "https://localhost:8080/",
          "height": 447
        },
        "id": "z_KyQMWGr4Zs",
        "outputId": "9cae66ad-f66d-442c-c1fd-d18a4b55c034"
      },
      "execution_count": 226,
      "outputs": [
        {
          "output_type": "execute_result",
          "data": {
            "text/plain": [
              "<matplotlib.collections.PathCollection at 0x79fc61bd16f0>"
            ]
          },
          "metadata": {},
          "execution_count": 226
        },
        {
          "output_type": "display_data",
          "data": {
            "text/plain": [
              "<Figure size 640x480 with 1 Axes>"
            ],
            "image/png": "[encoded data removed]"
          },
          "metadata": {}
        }
      ]
    },
    {
      "cell_type": "code",
      "execution_count": 227,
      "metadata": {
        "colab": {
          "base_uri": "https://localhost:8080/",
          "height": 447
        },
        "id": "u8KXsecmO8KS",
        "outputId": "9ffda28e-9a7e-40c0-e502-f31b8a4fdbeb"
      },
      "outputs": [
        {
          "output_type": "execute_result",
          "data": {
            "text/plain": [
              "[<matplotlib.lines.Line2D at 0x79fc607c83d0>]"
            ]
          },
          "metadata": {},
          "execution_count": 227
        },
        {
          "output_type": "display_data",
          "data": {
            "text/plain": [
              "<Figure size 640x480 with 1 Axes>"
            ],
            "image/png": "[encoded data removed]"
          },
          "metadata": {}
        }
      ],
      "source": [
        "plt.plot(range(len(losses)),losses)\n"
      ]
    },
    {
      "cell_type": "code",
      "source": [
        "plt.plot(range(len(losses_regression)),losses_regression)\n"
      ],
      "metadata": {
        "colab": {
          "base_uri": "https://localhost:8080/",
          "height": 447
        },
        "id": "CdWs2cr1KJ4I",
        "outputId": "96960c1d-aa31-45ed-8486-9d6accc014be"
      },
      "execution_count": 228,
      "outputs": [
        {
          "output_type": "execute_result",
          "data": {
            "text/plain": [
              "[<matplotlib.lines.Line2D at 0x79fc63d84220>]"
            ]
          },
          "metadata": {},
          "execution_count": 228
        },
        {
          "output_type": "display_data",
          "data": {
            "text/plain": [
              "<Figure size 640x480 with 1 Axes>"
            ],
            "image/png": "[encoded data removed]"
          },
          "metadata": {}
        }
      ]
    },
    {
      "cell_type": "code",
      "source": [],
      "metadata": {
        "id": "OpvBRz2TB4i6"
      },
      "execution_count": null,
      "outputs": []
    },
    {
      "cell_type": "code",
      "source": [
        "plt.plot(range(len(losses_classification)),losses_classification)\n"
      ],
      "metadata": {
        "colab": {
          "base_uri": "https://localhost:8080/",
          "height": 447
        },
        "id": "Lvod00C--B8n",
        "outputId": "1192d93c-8ef9-4511-df4b-d87310073d65"
      },
      "execution_count": 214,
      "outputs": [
        {
          "output_type": "execute_result",
          "data": {
            "text/plain": [
              "[<matplotlib.lines.Line2D at 0x79fc5fe04400>]"
            ]
          },
          "metadata": {},
          "execution_count": 214
        },
        {
          "output_type": "display_data",
          "data": {
            "text/plain": [
              "<Figure size 640x480 with 1 Axes>"
            ],
            "image/png": "[encoded data removed]"
          },
          "metadata": {}
        }
      ]
    },
    {
      "cell_type": "code",
      "source": [
        "for i in range(8):\n",
        "  print(np.mean(losses_by_class[i]))"
      ],
      "metadata": {
        "colab": {
          "base_uri": "https://localhost:8080/"
        },
        "id": "cHRzPGwu5-fE",
        "outputId": "7fa8bff0-a15a-4960-ede7-b42f4b82e986"
      },
      "execution_count": 171,
      "outputs": [
        {
          "output_type": "stream",
          "name": "stdout",
          "text": [
            "0.11668015\n",
            "0.11841555\n",
            "0.10664893\n",
            "0.11579222\n",
            "0.12737142\n",
            "0.11300366\n",
            "0.13245197\n",
            "0.11772076\n"
          ]
        }
      ]
    },
    {
      "cell_type": "code",
      "source": [
        "frequency_of_classes=np.zeros(8)\n",
        "for trace in train_set:\n",
        "  for i in range(2,len(trace)):\n",
        "    clas=trace[i][3:11]\n",
        "    frequency_of_classes[(clas==1).nonzero().item()]+=1"
      ],
      "metadata": {
        "id": "t6W2tAdt1Az-"
      },
      "execution_count": 168,
      "outputs": []
    },
    {
      "cell_type": "code",
      "source": [
        "frequency_of_classes"
      ],
      "metadata": {
        "colab": {
          "base_uri": "https://localhost:8080/"
        },
        "id": "yfXqbHk02dYU",
        "outputId": "cabf55ce-b572-4f0d-aace-6857a97396b7"
      },
      "execution_count": 169,
      "outputs": [
        {
          "output_type": "execute_result",
          "data": {
            "text/plain": [
              "array([  39.,   45.,   38.,   34.,   26., 3017.,  293.,  347.])"
            ]
          },
          "metadata": {},
          "execution_count": 169
        }
      ]
    },
    {
      "cell_type": "code",
      "execution_count": 44,
      "metadata": {
        "id": "0Jpobn1mO8KT"
      },
      "outputs": [],
      "source": [
        "def evaluate(nn,trace):\n",
        "    losses_regression=[]\n",
        "    correct=0\n",
        "    hidden = nn.initHidden()\n",
        "    for i in range(len(trace)-1):\n",
        "        output,hidden=nn(trace[i],hidden)\n",
        "\n",
        "        regression_output=torch.cat((output[0:3],output[-1].reshape(1)))\n",
        "        regression_correct=torch.cat((trace[i+1][0:3],trace[i+1][-1].reshape(1)))\n",
        "\n",
        "        classification_output=(output[3:11]>=0.5)\n",
        "        classification_correct=(trace[i+1][3:11]>=0.5)\n",
        "\n",
        "        loss_regression=regression_loss_function(regression_output,regression_correct)\n",
        "        losses_regression.append(loss_regression)\n",
        "\n",
        "        if torch.equal(classification_output,classification_correct):\n",
        "          correct+=1\n",
        "\n",
        "    return losses_regression,correct\n"
      ]
    },
    {
      "cell_type": "code",
      "execution_count": 188,
      "metadata": {
        "colab": {
          "base_uri": "https://localhost:8080/",
          "height": 1000
        },
        "id": "zIm1EYMjO8KU",
        "outputId": "ba8be9f8-7d37-41b5-83f6-ccde03a6b06b"
      },
      "outputs": [
        {
          "output_type": "stream",
          "name": "stdout",
          "text": [
            "Accuracy is 68.21773485513609%\n",
            "Mean loss is 0.008444787003099918\n"
          ]
        },
        {
          "output_type": "execute_result",
          "data": {
            "text/plain": [
              "(array([  2.,   3.,  13.,  36., 151., 322., 247., 136.,  40.,  40.,  34.,\n",
              "         29.,  26.,  16.,   5.,   3.,   6.,   3.,   2.,   1.,   4.,   5.,\n",
              "          2.,   1.,   1.,   0.,   0.,   0.,   1.,   1.,   1.,   1.,   0.,\n",
              "          0.,   1.,   0.,   1.,   0.,   0.,   0.,   0.,   1.,   0.,   0.,\n",
              "          0.,   0.,   0.,   0.,   0.,   0.,   0.,   0.,   0.,   0.,   0.,\n",
              "          0.,   0.,   0.,   0.,   0.,   0.,   1.,   0.,   0.,   1.,   0.,\n",
              "          0.,   0.,   0.,   0.,   0.,   0.,   0.,   0.,   1.,   0.,   0.,\n",
              "          0.,   0.,   0.,   0.,   0.,   0.,   0.,   0.,   0.,   0.,   0.,\n",
              "          0.,   0.,   0.,   0.,   0.,   0.,   0.,   0.,   0.,   0.,   0.,\n",
              "          1.]),\n",
              " array([0.00070909, 0.00176861, 0.00282813, 0.00388764, 0.00494716,\n",
              "        0.00600667, 0.00706619, 0.00812571, 0.00918522, 0.01024474,\n",
              "        0.01130426, 0.01236377, 0.01342329, 0.0144828 , 0.01554232,\n",
              "        0.01660184, 0.01766135, 0.01872087, 0.01978039, 0.0208399 ,\n",
              "        0.02189942, 0.02295893, 0.02401845, 0.02507797, 0.02613748,\n",
              "        0.027197  , 0.02825652, 0.02931603, 0.03037555, 0.03143506,\n",
              "        0.03249458, 0.0335541 , 0.03461361, 0.03567313, 0.03673264,\n",
              "        0.03779216, 0.03885168, 0.0399112 , 0.04097071, 0.04203023,\n",
              "        0.04308974, 0.04414926, 0.04520877, 0.04626829, 0.04732781,\n",
              "        0.04838732, 0.04944684, 0.05050636, 0.05156587, 0.05262539,\n",
              "        0.05368491, 0.05474442, 0.05580394, 0.05686345, 0.05792297,\n",
              "        0.05898249, 0.060042  , 0.06110152, 0.06216104, 0.06322055,\n",
              "        0.06428007, 0.06533958, 0.0663991 , 0.06745861, 0.06851813,\n",
              "        0.06957765, 0.07063717, 0.07169668, 0.07275619, 0.07381571,\n",
              "        0.07487523, 0.07593475, 0.07699426, 0.07805378, 0.0791133 ,\n",
              "        0.08017281, 0.08123232, 0.08229184, 0.08335136, 0.08441088,\n",
              "        0.08547039, 0.08652991, 0.08758943, 0.08864894, 0.08970845,\n",
              "        0.09076797, 0.09182749, 0.09288701, 0.09394652, 0.09500604,\n",
              "        0.09606555, 0.09712507, 0.09818459, 0.0992441 , 0.10030362,\n",
              "        0.10136314, 0.10242265, 0.10348216, 0.10454168, 0.1056012 ,\n",
              "        0.10666072]),\n",
              " <BarContainer object of 100 artists>)"
            ]
          },
          "metadata": {},
          "execution_count": 188
        },
        {
          "output_type": "display_data",
          "data": {
            "text/plain": [
              "<Figure size 640x480 with 1 Axes>"
            ],
            "image/png": "[encoded data removed]"
          },
          "metadata": {}
        }
      ],
      "source": [
        "losses=[]\n",
        "correct=0\n",
        "tot=0\n",
        "for trace in test_set:\n",
        "    trace_losses,trace_correct=evaluate(rnn,trace)\n",
        "    losses.extend(trace_losses)\n",
        "    correct+=trace_correct\n",
        "    tot+=len(trace)-1\n",
        "\n",
        "losses=[loss.detach().cpu().numpy() for loss in losses]\n",
        "print(f\"Accuracy is {(correct/tot)*100}%\" )\n",
        "print(f\"Mean loss is {np.mean(losses)}\")\n",
        "plt.hist(losses,bins=100)"
      ]
    },
    {
      "cell_type": "code",
      "source": [
        "print(test_set[5])\n",
        "hidden=rnn.initHidden()\n",
        "rnn(test_set[5][0],hidden)"
      ],
      "metadata": {
        "colab": {
          "base_uri": "https://localhost:8080/"
        },
        "id": "rDuSNaRbghe1",
        "outputId": "43911604-6395-48e0-ac36-fbbaa484923a"
      },
      "execution_count": 45,
      "outputs": [
        {
          "output_type": "stream",
          "name": "stdout",
          "text": [
            "tensor([[0.3066, 0.9117, 0.0195, 0.0000, 0.0000, 0.0000, 0.0000, 1.0000, 0.0000,\n",
            "         0.0000, 0.0000, 0.2050],\n",
            "        [0.3066, 0.9117, 0.1543, 1.0000, 0.0000, 0.0000, 0.0000, 0.0000, 0.0000,\n",
            "         0.0000, 0.0000, 0.2371],\n",
            "        [0.4188, 0.9117, 0.1543, 0.0000, 0.0000, 0.0000, 0.0000, 0.0000, 0.0000,\n",
            "         1.0000, 0.0000, 0.0000]])\n"
          ]
        },
        {
          "output_type": "execute_result",
          "data": {
            "text/plain": [
              "(tensor([0.4737, 0.8346, 0.2746, 0.2051, 0.1739, 0.1693, 0.1673, 0.1589, 0.6644,\n",
              "         0.1985, 0.1675, 0.1263], grad_fn=<SigmoidBackward0>),\n",
              " tensor([0.5362, 0.5692, 0.4343, 0.5372, 0.5127, 0.5215, 0.4979, 0.5028, 0.5803,\n",
              "         0.5993], grad_fn=<SigmoidBackward0>))"
            ]
          },
          "metadata": {},
          "execution_count": 45
        }
      ]
    },
    {
      "cell_type": "code",
      "source": [
        "def squared_error(input,target):\n",
        "  return torch.pow(input-target,2)"
      ],
      "metadata": {
        "id": "jlVhgQe8omlT"
      },
      "execution_count": null,
      "outputs": []
    },
    {
      "cell_type": "code",
      "source": [
        "class CustomLoss(nn.Module):\n",
        "  def __init__(self):\n",
        "        super(CustomLoss, self).__init__()\n",
        "\n",
        "  def forward(self,input,target):\n",
        "    mse=(1/4)*(squared_error(input[0],target[0])+squared_error(input[1],target[1])+squared_error(input[2],target[2])+squared_error(input[-1],target[-1]))\n",
        "    l=torch.zeros(8)\n",
        "    for i in range(len(l)):\n",
        "      l[i]=-(target[i]*torch.log(input[i])+(1-target[i])*torch.log(1-input[i]))\n",
        "    bce=torch.mean(l)\n",
        "    return 0.5*mse+bce"
      ],
      "metadata": {
        "id": "xFb8uPF6nQEn"
      },
      "execution_count": null,
      "outputs": []
    },
    {
      "cell_type": "code",
      "source": [
        "l=torch.zeros(3)\n",
        "l[1]=2\n",
        "l"
      ],
      "metadata": {
        "colab": {
          "base_uri": "https://localhost:8080/"
        },
        "id": "3LKXpP08qibC",
        "outputId": "8d30d11a-de90-4f06-bf75-29d3efb4a31c"
      },
      "execution_count": null,
      "outputs": [
        {
          "output_type": "execute_result",
          "data": {
            "text/plain": [
              "tensor([0., 2., 0.])"
            ]
          },
          "metadata": {},
          "execution_count": 12
        }
      ]
    },
    {
      "cell_type": "code",
      "source": [
        "train_set[0]"
      ],
      "metadata": {
        "colab": {
          "base_uri": "https://localhost:8080/"
        },
        "id": "BqXtYQa08SQc",
        "outputId": "c26fe838-a773-4a58-8232-75e56324e926"
      },
      "execution_count": null,
      "outputs": [
        {
          "output_type": "execute_result",
          "data": {
            "text/plain": [
              "tensor([[0.6102, 0.8874, 0.1609, 0.0000, 1.0000, 0.0000, 0.0000, 0.0000, 0.0000,\n",
              "         0.0000, 0.0000, 0.1765],\n",
              "        [0.5267, 0.8874, 0.1609, 0.0000, 0.0000, 0.0000, 0.0000, 0.0000, 0.0000,\n",
              "         1.0000, 0.0000, 0.0000]], device='cuda:0')"
            ]
          },
          "metadata": {},
          "execution_count": 8
        }
      ]
    },
    {
      "cell_type": "code",
      "source": [],
      "metadata": {
        "id": "5qGPiNmG8UIP"
      },
      "execution_count": null,
      "outputs": []
    }
  ],
  "metadata": {
    "kernelspec": {
      "display_name": "Python 3",
      "name": "python3"
    },
    "language_info": {
      "codemirror_mode": {
        "name": "ipython",
        "version": 3
      },
      "file_extension": ".py",
      "mimetype": "text/x-python",
      "name": "python",
      "nbconvert_exporter": "python",
      "pygments_lexer": "ipython3",
      "version": "3.12.2"
    },
    "colab": {
      "provenance": []
    }
  },
  "nbformat": 4,
  "nbformat_minor": 0
}