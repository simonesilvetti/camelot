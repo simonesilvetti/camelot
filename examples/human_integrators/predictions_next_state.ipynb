{
  "cells": [
    {
      "cell_type": "code",
      "execution_count": 1,
      "metadata": {
        "id": "ALRxIVdEO8KI"
      },
      "outputs": [],
      "source": [
        "import numpy as np\n",
        "import matplotlib.pyplot as plt\n",
        "import torch\n",
        "import torch.nn as nn\n",
        "import torch.optim as optim\n",
        "import pickle\n",
        "import pandas as pd\n",
        "from sklearn.model_selection import train_test_split\n",
        "from tqdm.auto import trange\n",
        "from torch.utils.data import Dataset,DataLoader"
      ]
    },
    {
      "cell_type": "code",
      "source": [
        "def get_default_device():\n",
        "    \"\"\"Pick GPU if available, else CPU\"\"\"\n",
        "    if torch.cuda.is_available():\n",
        "        return torch.device('cuda')\n",
        "    else:\n",
        "        return torch.device('cpu')\n",
        "\n",
        "device = get_default_device()"
      ],
      "metadata": {
        "id": "I_Q8hQdYVzmR"
      },
      "execution_count": 2,
      "outputs": []
    },
    {
      "cell_type": "code",
      "source": [
        "dataset=pd.read_pickle('/content/integrators_next_state.pickle')"
      ],
      "metadata": {
        "id": "is7KqLtUWwLv"
      },
      "execution_count": 4,
      "outputs": []
    },
    {
      "cell_type": "code",
      "source": [
        "train_set,test_set=train_test_split(dataset,test_size=0.2,random_state=9)\n",
        "training_set,validation_set=train_test_split(train_set,test_size=0.2,random_state=9)"
      ],
      "metadata": {
        "id": "9zcORjmrBOjK"
      },
      "execution_count": 5,
      "outputs": []
    },
    {
      "cell_type": "code",
      "execution_count": 6,
      "metadata": {
        "id": "M4J-yQG1O8KO"
      },
      "outputs": [],
      "source": [
        "class RNN(nn.Module):\n",
        "    def __init__(self, input_size, hidden_size, output_size):\n",
        "        super(RNN, self).__init__()\n",
        "\n",
        "        self.hidden_size = hidden_size\n",
        "\n",
        "        self.i2h = nn.Linear(input_size + hidden_size, hidden_size)\n",
        "        self.relu1=nn.ReLU()\n",
        "        self.h2o = nn.Linear(hidden_size, output_size)\n",
        "        self.relu2=nn.ReLU()\n",
        "        self.fc = nn.Linear(output_size, output_size)\n",
        "\n",
        "    def forward(self, input, hidden):\n",
        "        combined = torch.cat((input, hidden))\n",
        "        hidden = self.relu1(self.i2h(combined))\n",
        "        output = self.relu2(self.h2o(hidden))\n",
        "        output = self.fc(output)\n",
        "        return output, hidden\n",
        "\n",
        "    def initHidden(self):\n",
        "        #return torch.zeros(self.hidden_size).to(device)\n",
        "        return torch.rand(self.hidden_size).to(device)"
      ]
    },
    {
      "cell_type": "code",
      "execution_count": 20,
      "metadata": {
        "id": "3wiGXgINO8KQ"
      },
      "outputs": [],
      "source": [
        "EPOCHS   = 50\n",
        "learning_rate = 0.001 # If you set this too high, it might explode. If too low, it might not learn\n",
        "momentum=0.9\n",
        "batch_size=16\n",
        "regression_loss_function=nn.MSELoss()\n",
        "classification_loss_function=nn.CrossEntropyLoss()\n",
        "n_hidden = 12\n",
        "dimension=training_set[0][0].size(0)\n",
        "rnn = RNN(dimension,n_hidden,dimension)\n",
        "#rnn.to(device)\n",
        "optimizer=optim.SGD(rnn.parameters(),learning_rate)"
      ]
    },
    {
      "cell_type": "code",
      "source": [
        "training_losses=[]\n",
        "validation_losses=[]\n",
        "\n",
        "training_losses_class=[]\n",
        "validation_losses_class=[]\n",
        "\n",
        "training_losses_reg=[]\n",
        "validation_losses_reg=[]\n",
        "\n",
        "\n",
        "\n",
        "\n",
        "for epoch in trange(EPOCHS, desc=\"Training epoch\"):\n",
        "\n",
        "  rnn.train()\n",
        "\n",
        "  for batch_start in range(0, len(training_set), batch_size):\n",
        "    batch_end = min(batch_start + batch_size, len(training_set))\n",
        "    batch_traces = training_set[batch_start:batch_end]\n",
        "\n",
        "    optimizer.zero_grad()\n",
        "\n",
        "    for trace in batch_traces:\n",
        "      hidden = rnn.initHidden()\n",
        "      for i in range(len(trace) - 1):\n",
        "        output, hidden = rnn(trace[i], hidden)\n",
        "        hidden = hidden.clone().detach()\n",
        "\n",
        "        # Calculate losses for regression and classification\n",
        "        regression_output=output[:4]\n",
        "        regression_correct=trace[i+1][:4]\n",
        "\n",
        "        classification_output=output[4:]\n",
        "        classification_correct=trace[i+1][4:]\n",
        "\n",
        "\n",
        "        loss_regression = regression_loss_function(regression_output, regression_correct)\n",
        "        loss_classification = classification_loss_function(classification_output, classification_correct)\n",
        "\n",
        "        loss = loss_regression + 0.1*loss_classification\n",
        "\n",
        "        # Accumulate gradients\n",
        "        loss.backward()\n",
        "\n",
        "    # Update parameters based on accumulated gradients for the entire batch\n",
        "    optimizer.step()\n",
        "\n",
        "  rnn.eval()\n",
        "  with torch.no_grad():\n",
        "\n",
        "    training_loss=0\n",
        "    validation_loss=0\n",
        "\n",
        "    training_loss_reg=0\n",
        "    validation_loss_reg=0\n",
        "\n",
        "    training_loss_class=0\n",
        "    validation_loss_class=0\n",
        "\n",
        "    num_elem_training=0\n",
        "    num_elem_validation=0\n",
        "\n",
        "    for trace in training_set:\n",
        "      hidden = rnn.initHidden()\n",
        "      for i in range(len(trace) - 1):\n",
        "        output, hidden = rnn(trace[i], hidden)\n",
        "        hidden = hidden.clone().detach()\n",
        "\n",
        "        # Calculate losses for regression and classification\n",
        "        regression_output=output[:4]\n",
        "        regression_correct=trace[i+1][:4]\n",
        "\n",
        "        classification_output=output[4:]\n",
        "        classification_correct=trace[i+1][4:]\n",
        "\n",
        "\n",
        "        loss_regression = regression_loss_function(regression_output, regression_correct).item()\n",
        "        loss_classification = classification_loss_function(classification_output, classification_correct).item()\n",
        "\n",
        "        training_loss += loss_regression + 0.1*loss_classification\n",
        "        training_loss_reg += loss_regression\n",
        "        training_loss_class += loss_classification\n",
        "        num_elem_training+=1\n",
        "    training_losses.append(training_loss/num_elem_training)\n",
        "    training_losses_reg.append(training_loss_reg/num_elem_training)\n",
        "    training_losses_class.append(training_loss_class/num_elem_training)\n",
        "\n",
        "\n",
        "    for trace in validation_set:\n",
        "      hidden = rnn.initHidden()\n",
        "      for i in range(len(trace) - 1):\n",
        "        output, hidden = rnn(trace[i], hidden)\n",
        "        hidden = hidden.clone().detach()\n",
        "\n",
        "        # Calculate losses for regression and classification\n",
        "        regression_output=output[:4]\n",
        "        regression_correct=trace[i+1][:4]\n",
        "\n",
        "        classification_output=output[4:]\n",
        "        classification_correct=trace[i+1][4:]\n",
        "\n",
        "\n",
        "        loss_regression = regression_loss_function(regression_output, regression_correct).item()\n",
        "        loss_classification = classification_loss_function(classification_output, classification_correct).item()\n",
        "\n",
        "        validation_loss += loss_regression + 0.1*loss_classification\n",
        "        validation_loss_reg += loss_regression\n",
        "        validation_loss_class += loss_classification\n",
        "        num_elem_validation+=1\n",
        "    validation_losses.append(validation_loss/num_elem_validation)\n",
        "    validation_losses_reg.append(validation_loss_reg/num_elem_validation)\n",
        "    validation_losses_class.append(validation_loss_class/num_elem_validation)\n"
      ],
      "metadata": {
        "colab": {
          "base_uri": "https://localhost:8080/",
          "height": 49,
          "referenced_widgets": [
            "f2eb7615a41d48dfbdb20ad0fe85e6ea",
            "8c964932819b4d759bb334151e9d0adc",
            "a04cde2a84994258b687d134d073892b",
            "72dccea604b74a169e7d8c922f424670",
            "74754281f6204450876ce3f129b79d2b",
            "b910182fc96f4a0cb2e0471b1443f44c",
            "c37c26c43b9b40b89591c8a6901d6cfa",
            "3646f1fbf45641b0b4c518f6fed57e60",
            "13f54e0c6b174e00943efd1bcd988c78",
            "f9eecdec13fe4c1f95898d00869a8d49",
            "b5cecb6b2508414f9cf9006e25bdecb6"
          ]
        },
        "id": "f0a7eKLV9yvi",
        "outputId": "936cecc7-2de5-4c43-c8b9-230f41cabfc1"
      },
      "execution_count": 21,
      "outputs": [
        {
          "output_type": "display_data",
          "data": {
            "text/plain": [
              "Training epoch:   0%|          | 0/50 [00:00<?, ?it/s]"
            ],
            "application/vnd.jupyter.widget-view+json": {
              "version_major": 2,
              "version_minor": 0,
              "model_id": "f2eb7615a41d48dfbdb20ad0fe85e6ea"
            }
          },
          "metadata": {}
        }
      ]
    },
    {
      "cell_type": "code",
      "source": [
        "plt.plot(training_losses,label='Training')\n",
        "plt.plot(validation_losses,label='Validation')\n",
        "plt.legend()"
      ],
      "metadata": {
        "colab": {
          "base_uri": "https://localhost:8080/",
          "height": 447
        },
        "id": "o6kgsfwSCaBu",
        "outputId": "eae3cbd6-fa88-4cb3-fcb0-3fa2524220ea"
      },
      "execution_count": 22,
      "outputs": [
        {
          "output_type": "execute_result",
          "data": {
            "text/plain": [
              "<matplotlib.legend.Legend at 0x7a4acf8e5540>"
            ]
          },
          "metadata": {},
          "execution_count": 22
        },
        {
          "output_type": "display_data",
          "data": {
            "text/plain": [
              "<Figure size 640x480 with 1 Axes>"
            ],
            "image/png": "[encoded data removed]"
          },
          "metadata": {}
        }
      ]
    },
    {
      "cell_type": "code",
      "source": [
        "plt.plot(training_losses_reg,label='Training')\n",
        "plt.plot(validation_losses_reg,label='Validation')\n",
        "plt.legend()"
      ],
      "metadata": {
        "id": "bWKZKCmHEHOM",
        "outputId": "1ad41de5-0423-4067-c7ff-8720de8485db",
        "colab": {
          "base_uri": "https://localhost:8080/",
          "height": 447
        }
      },
      "execution_count": 23,
      "outputs": [
        {
          "output_type": "execute_result",
          "data": {
            "text/plain": [
              "<matplotlib.legend.Legend at 0x7a4acf95b460>"
            ]
          },
          "metadata": {},
          "execution_count": 23
        },
        {
          "output_type": "display_data",
          "data": {
            "text/plain": [
              "<Figure size 640x480 with 1 Axes>"
            ],
            "image/png": "[encoded data removed]"
          },
          "metadata": {}
        }
      ]
    },
    {
      "cell_type": "code",
      "source": [
        "plt.plot(training_losses_class,label='Training')\n",
        "plt.plot(validation_losses_class,label='Validation')\n",
        "plt.legend()"
      ],
      "metadata": {
        "id": "v7EC1STyEKxH",
        "outputId": "31fa841b-a995-4581-dae3-c9dcbe07f38b",
        "colab": {
          "base_uri": "https://localhost:8080/",
          "height": 447
        }
      },
      "execution_count": 24,
      "outputs": [
        {
          "output_type": "execute_result",
          "data": {
            "text/plain": [
              "<matplotlib.legend.Legend at 0x7a4acf7ebbe0>"
            ]
          },
          "metadata": {},
          "execution_count": 24
        },
        {
          "output_type": "display_data",
          "data": {
            "text/plain": [
              "<Figure size 640x480 with 1 Axes>"
            ],
            "image/png": "[encoded data removed]"
          },
          "metadata": {}
        }
      ]
    },
    {
      "cell_type": "code",
      "execution_count": 10,
      "metadata": {
        "id": "0Jpobn1mO8KT"
      },
      "outputs": [],
      "source": [
        "def evaluate(nn,trace):\n",
        "    losses_regression=[]\n",
        "    correct=0\n",
        "    hidden = nn.initHidden()\n",
        "    for i in range(len(trace)-1):\n",
        "        output,hidden=nn(trace[i],hidden)\n",
        "\n",
        "        regression_output=output[:4]\n",
        "        regression_correct=trace[i+1][:4]\n",
        "\n",
        "        classification_output=torch.argmax(output[4:])\n",
        "        classification_correct=torch.argmax(trace[i+1][4:])\n",
        "\n",
        "        loss_regression=regression_loss_function(regression_output,regression_correct)\n",
        "        losses_regression.append(loss_regression.item())\n",
        "\n",
        "        if classification_output==classification_correct:\n",
        "          correct+=1\n",
        "\n",
        "    return losses_regression,correct\n"
      ]
    },
    {
      "cell_type": "code",
      "execution_count": 19,
      "metadata": {
        "colab": {
          "base_uri": "https://localhost:8080/",
          "height": 1000
        },
        "id": "zIm1EYMjO8KU",
        "outputId": "6d659b0d-fddf-4a00-d4d8-143deb0e029b"
      },
      "outputs": [
        {
          "output_type": "stream",
          "name": "stdout",
          "text": [
            "Accuracy is 40.595238095238095%\n",
            "Mean loss is 0.003496366041307348\n"
          ]
        },
        {
          "output_type": "execute_result",
          "data": {
            "text/plain": [
              "(array([382., 232.,  88.,  57.,  12.,   9.,   5.,   7.,   6.,   7.,   0.,\n",
              "          2.,   1.,   2.,   3.,   1.,   2.,   3.,   3.,   0.,   0.,   2.,\n",
              "          0.,   0.,   1.,   3.,   3.,   0.,   1.,   1.,   1.,   1.,   0.,\n",
              "          1.,   0.,   1.,   0.,   0.,   0.,   0.,   0.,   0.,   0.,   0.,\n",
              "          1.,   1.,   0.,   0.,   0.,   0.,   0.,   0.,   0.,   0.,   0.,\n",
              "          0.,   0.,   0.,   0.,   0.,   0.,   0.,   0.,   0.,   0.,   0.,\n",
              "          0.,   0.,   0.,   0.,   0.,   0.,   0.,   0.,   0.,   0.,   0.,\n",
              "          0.,   0.,   0.,   0.,   0.,   0.,   0.,   0.,   0.,   0.,   0.,\n",
              "          0.,   0.,   0.,   0.,   0.,   0.,   0.,   0.,   0.,   0.,   0.,\n",
              "          1.]),\n",
              " array([2.92533132e-05, 1.41840927e-03, 2.80756523e-03, 4.19672119e-03,\n",
              "        5.58587716e-03, 6.97503312e-03, 8.36418908e-03, 9.75334504e-03,\n",
              "        1.11425010e-02, 1.25316570e-02, 1.39208129e-02, 1.53099689e-02,\n",
              "        1.66991248e-02, 1.80882808e-02, 1.94774368e-02, 2.08665927e-02,\n",
              "        2.22557487e-02, 2.36449046e-02, 2.50340606e-02, 2.64232166e-02,\n",
              "        2.78123725e-02, 2.92015285e-02, 3.05906844e-02, 3.19798404e-02,\n",
              "        3.33689964e-02, 3.47581523e-02, 3.61473083e-02, 3.75364642e-02,\n",
              "        3.89256202e-02, 4.03147762e-02, 4.17039321e-02, 4.30930881e-02,\n",
              "        4.44822441e-02, 4.58714000e-02, 4.72605560e-02, 4.86497119e-02,\n",
              "        5.00388679e-02, 5.14280239e-02, 5.28171798e-02, 5.42063358e-02,\n",
              "        5.55954917e-02, 5.69846477e-02, 5.83738037e-02, 5.97629596e-02,\n",
              "        6.11521156e-02, 6.25412715e-02, 6.39304275e-02, 6.53195835e-02,\n",
              "        6.67087394e-02, 6.80978954e-02, 6.94870513e-02, 7.08762073e-02,\n",
              "        7.22653633e-02, 7.36545192e-02, 7.50436752e-02, 7.64328311e-02,\n",
              "        7.78219871e-02, 7.92111431e-02, 8.06002990e-02, 8.19894550e-02,\n",
              "        8.33786109e-02, 8.47677669e-02, 8.61569229e-02, 8.75460788e-02,\n",
              "        8.89352348e-02, 9.03243908e-02, 9.17135467e-02, 9.31027027e-02,\n",
              "        9.44918586e-02, 9.58810146e-02, 9.72701706e-02, 9.86593265e-02,\n",
              "        1.00048482e-01, 1.01437638e-01, 1.02826794e-01, 1.04215950e-01,\n",
              "        1.05605106e-01, 1.06994262e-01, 1.08383418e-01, 1.09772574e-01,\n",
              "        1.11161730e-01, 1.12550886e-01, 1.13940042e-01, 1.15329198e-01,\n",
              "        1.16718354e-01, 1.18107510e-01, 1.19496666e-01, 1.20885822e-01,\n",
              "        1.22274978e-01, 1.23664134e-01, 1.25053290e-01, 1.26442446e-01,\n",
              "        1.27831602e-01, 1.29220758e-01, 1.30609914e-01, 1.31999070e-01,\n",
              "        1.33388226e-01, 1.34777381e-01, 1.36166537e-01, 1.37555693e-01,\n",
              "        1.38944849e-01]),\n",
              " <BarContainer object of 100 artists>)"
            ]
          },
          "metadata": {},
          "execution_count": 19
        },
        {
          "output_type": "display_data",
          "data": {
            "text/plain": [
              "<Figure size 640x480 with 1 Axes>"
            ],
            "image/png": "[encoded data removed]"
          },
          "metadata": {}
        }
      ],
      "source": [
        "losses=[]\n",
        "correct=0\n",
        "tot=0\n",
        "for trace in test_set:\n",
        "    trace_losses,trace_correct=evaluate(rnn,trace)\n",
        "    losses.extend(trace_losses)\n",
        "    correct+=trace_correct\n",
        "    tot+=len(trace)-1\n",
        "\n",
        "print(f\"Accuracy is {(correct/tot)*100}%\" )\n",
        "print(f\"Mean loss is {np.mean(losses)}\")\n",
        "plt.hist(losses,bins=100)"
      ]
    }
  ],
  "metadata": {
    "kernelspec": {
      "display_name": "Python 3",
      "name": "python3"
    },
    "language_info": {
      "codemirror_mode": {
        "name": "ipython",
        "version": 3
      },
      "file_extension": ".py",
      "mimetype": "text/x-python",
      "name": "python",
      "nbconvert_exporter": "python",
      "pygments_lexer": "ipython3",
      "version": "3.12.2"
    },
    "colab": {
      "provenance": []
    },
    "widgets": {
      "application/vnd.jupyter.widget-state+json": {
        "f2eb7615a41d48dfbdb20ad0fe85e6ea": {
          "model_module": "@jupyter-widgets/controls",
          "model_name": "HBoxModel",
          "model_module_version": "1.5.0",
          "state": {
            "_dom_classes": [],
            "_model_module": "@jupyter-widgets/controls",
            "_model_module_version": "1.5.0",
            "_model_name": "HBoxModel",
            "_view_count": null,
            "_view_module": "@jupyter-widgets/controls",
            "_view_module_version": "1.5.0",
            "_view_name": "HBoxView",
            "box_style": "",
            "children": [
              "IPY_MODEL_8c964932819b4d759bb334151e9d0adc",
              "IPY_MODEL_a04cde2a84994258b687d134d073892b",
              "IPY_MODEL_72dccea604b74a169e7d8c922f424670"
            ],
            "layout": "IPY_MODEL_74754281f6204450876ce3f129b79d2b"
          }
        },
        "8c964932819b4d759bb334151e9d0adc": {
          "model_module": "@jupyter-widgets/controls",
          "model_name": "HTMLModel",
          "model_module_version": "1.5.0",
          "state": {
            "_dom_classes": [],
            "_model_module": "@jupyter-widgets/controls",
            "_model_module_version": "1.5.0",
            "_model_name": "HTMLModel",
            "_view_count": null,
            "_view_module": "@jupyter-widgets/controls",
            "_view_module_version": "1.5.0",
            "_view_name": "HTMLView",
            "description": "",
            "description_tooltip": null,
            "layout": "IPY_MODEL_b910182fc96f4a0cb2e0471b1443f44c",
            "placeholder": "​",
            "style": "IPY_MODEL_c37c26c43b9b40b89591c8a6901d6cfa",
            "value": "Training epoch: 100%"
          }
        },
        "a04cde2a84994258b687d134d073892b": {
          "model_module": "@jupyter-widgets/controls",
          "model_name": "FloatProgressModel",
          "model_module_version": "1.5.0",
          "state": {
            "_dom_classes": [],
            "_model_module": "@jupyter-widgets/controls",
            "_model_module_version": "1.5.0",
            "_model_name": "FloatProgressModel",
            "_view_count": null,
            "_view_module": "@jupyter-widgets/controls",
            "_view_module_version": "1.5.0",
            "_view_name": "ProgressView",
            "bar_style": "success",
            "description": "",
            "description_tooltip": null,
            "layout": "IPY_MODEL_3646f1fbf45641b0b4c518f6fed57e60",
            "max": 50,
            "min": 0,
            "orientation": "horizontal",
            "style": "IPY_MODEL_13f54e0c6b174e00943efd1bcd988c78",
            "value": 50
          }
        },
        "72dccea604b74a169e7d8c922f424670": {
          "model_module": "@jupyter-widgets/controls",
          "model_name": "HTMLModel",
          "model_module_version": "1.5.0",
          "state": {
            "_dom_classes": [],
            "_model_module": "@jupyter-widgets/controls",
            "_model_module_version": "1.5.0",
            "_model_name": "HTMLModel",
            "_view_count": null,
            "_view_module": "@jupyter-widgets/controls",
            "_view_module_version": "1.5.0",
            "_view_name": "HTMLView",
            "description": "",
            "description_tooltip": null,
            "layout": "IPY_MODEL_f9eecdec13fe4c1f95898d00869a8d49",
            "placeholder": "​",
            "style": "IPY_MODEL_b5cecb6b2508414f9cf9006e25bdecb6",
            "value": " 50/50 [03:18&lt;00:00,  3.52s/it]"
          }
        },
        "74754281f6204450876ce3f129b79d2b": {
          "model_module": "@jupyter-widgets/base",
          "model_name": "LayoutModel",
          "model_module_version": "1.2.0",
          "state": {
            "_model_module": "@jupyter-widgets/base",
            "_model_module_version": "1.2.0",
            "_model_name": "LayoutModel",
            "_view_count": null,
            "_view_module": "@jupyter-widgets/base",
            "_view_module_version": "1.2.0",
            "_view_name": "LayoutView",
            "align_content": null,
            "align_items": null,
            "align_self": null,
            "border": null,
            "bottom": null,
            "display": null,
            "flex": null,
            "flex_flow": null,
            "grid_area": null,
            "grid_auto_columns": null,
            "grid_auto_flow": null,
            "grid_auto_rows": null,
            "grid_column": null,
            "grid_gap": null,
            "grid_row": null,
            "grid_template_areas": null,
            "grid_template_columns": null,
            "grid_template_rows": null,
            "height": null,
            "justify_content": null,
            "justify_items": null,
            "left": null,
            "margin": null,
            "max_height": null,
            "max_width": null,
            "min_height": null,
            "min_width": null,
            "object_fit": null,
            "object_position": null,
            "order": null,
            "overflow": null,
            "overflow_x": null,
            "overflow_y": null,
            "padding": null,
            "right": null,
            "top": null,
            "visibility": null,
            "width": null
          }
        },
        "b910182fc96f4a0cb2e0471b1443f44c": {
          "model_module": "@jupyter-widgets/base",
          "model_name": "LayoutModel",
          "model_module_version": "1.2.0",
          "state": {
            "_model_module": "@jupyter-widgets/base",
            "_model_module_version": "1.2.0",
            "_model_name": "LayoutModel",
            "_view_count": null,
            "_view_module": "@jupyter-widgets/base",
            "_view_module_version": "1.2.0",
            "_view_name": "LayoutView",
            "align_content": null,
            "align_items": null,
            "align_self": null,
            "border": null,
            "bottom": null,
            "display": null,
            "flex": null,
            "flex_flow": null,
            "grid_area": null,
            "grid_auto_columns": null,
            "grid_auto_flow": null,
            "grid_auto_rows": null,
            "grid_column": null,
            "grid_gap": null,
            "grid_row": null,
            "grid_template_areas": null,
            "grid_template_columns": null,
            "grid_template_rows": null,
            "height": null,
            "justify_content": null,
            "justify_items": null,
            "left": null,
            "margin": null,
            "max_height": null,
            "max_width": null,
            "min_height": null,
            "min_width": null,
            "object_fit": null,
            "object_position": null,
            "order": null,
            "overflow": null,
            "overflow_x": null,
            "overflow_y": null,
            "padding": null,
            "right": null,
            "top": null,
            "visibility": null,
            "width": null
          }
        },
        "c37c26c43b9b40b89591c8a6901d6cfa": {
          "model_module": "@jupyter-widgets/controls",
          "model_name": "DescriptionStyleModel",
          "model_module_version": "1.5.0",
          "state": {
            "_model_module": "@jupyter-widgets/controls",
            "_model_module_version": "1.5.0",
            "_model_name": "DescriptionStyleModel",
            "_view_count": null,
            "_view_module": "@jupyter-widgets/base",
            "_view_module_version": "1.2.0",
            "_view_name": "StyleView",
            "description_width": ""
          }
        },
        "3646f1fbf45641b0b4c518f6fed57e60": {
          "model_module": "@jupyter-widgets/base",
          "model_name": "LayoutModel",
          "model_module_version": "1.2.0",
          "state": {
            "_model_module": "@jupyter-widgets/base",
            "_model_module_version": "1.2.0",
            "_model_name": "LayoutModel",
            "_view_count": null,
            "_view_module": "@jupyter-widgets/base",
            "_view_module_version": "1.2.0",
            "_view_name": "LayoutView",
            "align_content": null,
            "align_items": null,
            "align_self": null,
            "border": null,
            "bottom": null,
            "display": null,
            "flex": null,
            "flex_flow": null,
            "grid_area": null,
            "grid_auto_columns": null,
            "grid_auto_flow": null,
            "grid_auto_rows": null,
            "grid_column": null,
            "grid_gap": null,
            "grid_row": null,
            "grid_template_areas": null,
            "grid_template_columns": null,
            "grid_template_rows": null,
            "height": null,
            "justify_content": null,
            "justify_items": null,
            "left": null,
            "margin": null,
            "max_height": null,
            "max_width": null,
            "min_height": null,
            "min_width": null,
            "object_fit": null,
            "object_position": null,
            "order": null,
            "overflow": null,
            "overflow_x": null,
            "overflow_y": null,
            "padding": null,
            "right": null,
            "top": null,
            "visibility": null,
            "width": null
          }
        },
        "13f54e0c6b174e00943efd1bcd988c78": {
          "model_module": "@jupyter-widgets/controls",
          "model_name": "ProgressStyleModel",
          "model_module_version": "1.5.0",
          "state": {
            "_model_module": "@jupyter-widgets/controls",
            "_model_module_version": "1.5.0",
            "_model_name": "ProgressStyleModel",
            "_view_count": null,
            "_view_module": "@jupyter-widgets/base",
            "_view_module_version": "1.2.0",
            "_view_name": "StyleView",
            "bar_color": null,
            "description_width": ""
          }
        },
        "f9eecdec13fe4c1f95898d00869a8d49": {
          "model_module": "@jupyter-widgets/base",
          "model_name": "LayoutModel",
          "model_module_version": "1.2.0",
          "state": {
            "_model_module": "@jupyter-widgets/base",
            "_model_module_version": "1.2.0",
            "_model_name": "LayoutModel",
            "_view_count": null,
            "_view_module": "@jupyter-widgets/base",
            "_view_module_version": "1.2.0",
            "_view_name": "LayoutView",
            "align_content": null,
            "align_items": null,
            "align_self": null,
            "border": null,
            "bottom": null,
            "display": null,
            "flex": null,
            "flex_flow": null,
            "grid_area": null,
            "grid_auto_columns": null,
            "grid_auto_flow": null,
            "grid_auto_rows": null,
            "grid_column": null,
            "grid_gap": null,
            "grid_row": null,
            "grid_template_areas": null,
            "grid_template_columns": null,
            "grid_template_rows": null,
            "height": null,
            "justify_content": null,
            "justify_items": null,
            "left": null,
            "margin": null,
            "max_height": null,
            "max_width": null,
            "min_height": null,
            "min_width": null,
            "object_fit": null,
            "object_position": null,
            "order": null,
            "overflow": null,
            "overflow_x": null,
            "overflow_y": null,
            "padding": null,
            "right": null,
            "top": null,
            "visibility": null,
            "width": null
          }
        },
        "b5cecb6b2508414f9cf9006e25bdecb6": {
          "model_module": "@jupyter-widgets/controls",
          "model_name": "DescriptionStyleModel",
          "model_module_version": "1.5.0",
          "state": {
            "_model_module": "@jupyter-widgets/controls",
            "_model_module_version": "1.5.0",
            "_model_name": "DescriptionStyleModel",
            "_view_count": null,
            "_view_module": "@jupyter-widgets/base",
            "_view_module_version": "1.2.0",
            "_view_name": "StyleView",
            "description_width": ""
          }
        }
      }
    }
  },
  "nbformat": 4,
  "nbformat_minor": 0
}