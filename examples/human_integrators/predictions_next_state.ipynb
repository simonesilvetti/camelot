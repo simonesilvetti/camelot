{
  "cells": [
    {
      "cell_type": "code",
      "execution_count": 1,
      "metadata": {
        "id": "ALRxIVdEO8KI"
      },
      "outputs": [],
      "source": [
        "import numpy as np\n",
        "import matplotlib.pyplot as plt\n",
        "import torch\n",
        "import torch.nn as nn\n",
        "import torch.optim as optim\n",
        "import pickle\n",
        "import pandas as pd\n",
        "from sklearn.model_selection import train_test_split\n",
        "from tqdm.auto import trange\n"
      ]
    },
    {
      "cell_type": "code",
      "source": [
        "def get_default_device():\n",
        "    \"\"\"Pick GPU if available, else CPU\"\"\"\n",
        "    if torch.cuda.is_available():\n",
        "        return torch.device('cuda')\n",
        "    else:\n",
        "        return torch.device('cpu')\n",
        "\n",
        "device = get_default_device()"
      ],
      "metadata": {
        "id": "I_Q8hQdYVzmR"
      },
      "execution_count": 2,
      "outputs": []
    },
    {
      "cell_type": "code",
      "source": [
        "dataset=pd.read_pickle('/content/integrators_next_state.pickle')"
      ],
      "metadata": {
        "id": "is7KqLtUWwLv"
      },
      "execution_count": 3,
      "outputs": []
    },
    {
      "cell_type": "code",
      "source": [
        "train_set,test_set=train_test_split(dataset,test_size=0.2,random_state=9)\n",
        "training_set,validation_set=train_test_split(train_set,test_size=0.2,random_state=9)"
      ],
      "metadata": {
        "id": "9zcORjmrBOjK"
      },
      "execution_count": 12,
      "outputs": []
    },
    {
      "cell_type": "code",
      "execution_count": 5,
      "metadata": {
        "id": "M4J-yQG1O8KO"
      },
      "outputs": [],
      "source": [
        "class RNN(nn.Module):\n",
        "    def __init__(self, input_size, hidden_size, output_size):\n",
        "        super(RNN, self).__init__()\n",
        "\n",
        "        self.hidden_size = hidden_size\n",
        "\n",
        "        self.i2h = nn.Linear(input_size + hidden_size, hidden_size)\n",
        "        self.relu1=nn.ReLU()\n",
        "        self.h2o = nn.Linear(hidden_size, output_size)\n",
        "        self.relu2=nn.ReLU()\n",
        "        self.fc = nn.Linear(output_size, output_size)\n",
        "\n",
        "    def forward(self, input, hidden):\n",
        "        combined = torch.cat((input, hidden))\n",
        "        hidden = self.relu1(self.i2h(combined))\n",
        "        output = self.relu2(self.h2o(hidden))\n",
        "        output = self.fc(output)\n",
        "        return output, hidden\n",
        "\n",
        "    def initHidden(self):\n",
        "        #return torch.zeros(self.hidden_size).to(device)\n",
        "        return torch.rand(self.hidden_size).to(device)"
      ]
    },
    {
      "cell_type": "code",
      "execution_count": 32,
      "metadata": {
        "id": "3wiGXgINO8KQ"
      },
      "outputs": [],
      "source": [
        "EPOCHS   = 5\n",
        "learning_rate = 0.0001 # If you set this too high, it might explode. If too low, it might not learn\n",
        "momentum=0.9\n",
        "batch_size=16\n",
        "regression_loss_function=nn.MSELoss()\n",
        "classification_loss_function=nn.CrossEntropyLoss()\n",
        "n_hidden = 10\n",
        "dimension=training_set[0][0].size(0)\n",
        "rnn = RNN(dimension,n_hidden,dimension)\n",
        "optimizer=optim.SGD(rnn.parameters(),learning_rate)"
      ]
    },
    {
      "cell_type": "code",
      "source": [
        "training_losses=[]\n",
        "validation_losses=[]\n",
        "\n",
        "\n",
        "for epoch in trange(EPOCHS, desc=\"Training epoch\"):\n",
        "\n",
        "  rnn.train()\n",
        "\n",
        "  for batch_start in range(0, len(training_set), batch_size):\n",
        "    batch_end = min(batch_start + batch_size, len(training_set))\n",
        "    batch_traces = training_set[batch_start:batch_end]\n",
        "\n",
        "    optimizer.zero_grad()\n",
        "\n",
        "    for trace in batch_traces:\n",
        "      hidden = rnn.initHidden()\n",
        "      for i in range(len(trace) - 1):\n",
        "        output, hidden = rnn(trace[i], hidden)\n",
        "        hidden = hidden.clone().detach()\n",
        "\n",
        "        # Calculate losses for regression and classification\n",
        "        regression_output=output[:4]\n",
        "        regression_correct=trace[i+1][:4]\n",
        "\n",
        "        classification_output=output[4:]\n",
        "        classification_correct=trace[i+1][4:]\n",
        "\n",
        "\n",
        "        loss_regression = regression_loss_function(regression_output, regression_correct)\n",
        "        loss_classification = classification_loss_function(classification_output, classification_correct)\n",
        "\n",
        "        loss = loss_regression + 0.1*loss_classification\n",
        "\n",
        "        # Accumulate gradients\n",
        "        loss.backward()\n",
        "\n",
        "    # Update parameters based on accumulated gradients for the entire batch\n",
        "    optimizer.step()\n",
        "\n",
        "  rnn.eval()\n",
        "  with torch.no_grad():\n",
        "\n",
        "    training_loss=0\n",
        "    validation_loss=0\n",
        "\n",
        "    for trace in training_set:\n",
        "      hidden = rnn.initHidden()\n",
        "      for i in range(len(trace) - 1):\n",
        "        output, hidden = rnn(trace[i], hidden)\n",
        "        hidden = hidden.clone().detach()\n",
        "\n",
        "        # Calculate losses for regression and classification\n",
        "        regression_output=output[:4]\n",
        "        regression_correct=trace[i+1][:4]\n",
        "\n",
        "        classification_output=output[4:]\n",
        "        classification_correct=trace[i+1][4:]\n",
        "\n",
        "\n",
        "        loss_regression = regression_loss_function(regression_output, regression_correct).item()\n",
        "        loss_classification = classification_loss_function(classification_output, classification_correct).item()\n",
        "\n",
        "        training_loss += loss_regression + 0.1*loss_classification\n",
        "    training_losses.append(training_loss/len(training_set))\n",
        "\n",
        "\n",
        "    for trace in validation_set:\n",
        "      hidden = rnn.initHidden()\n",
        "      for i in range(len(trace) - 1):\n",
        "        output, hidden = rnn(trace[i], hidden)\n",
        "        hidden = hidden.clone().detach()\n",
        "\n",
        "        # Calculate losses for regression and classification\n",
        "        regression_output=output[:4]\n",
        "        regression_correct=trace[i+1][:4]\n",
        "\n",
        "        classification_output=output[4:]\n",
        "        classification_correct=trace[i+1][4:]\n",
        "\n",
        "\n",
        "        loss_regression = regression_loss_function(regression_output, regression_correct).item()\n",
        "        loss_classification = classification_loss_function(classification_output, classification_correct).item()\n",
        "\n",
        "        validation_loss += loss_regression + 0.1*loss_classification\n",
        "    validation_losses.append(validation_loss/len(validation_set))\n"
      ],
      "metadata": {
        "colab": {
          "base_uri": "https://localhost:8080/",
          "height": 49,
          "referenced_widgets": [
            "72bde759c1034bb4a075c48c481a7b43",
            "f3749431c169440d8a7dbb7d208bd0db",
            "98ea24200b9d4755b155195aa165bf8f",
            "e276b839f5b84cf39461ce42efd87d4b",
            "351a5e685f0f4881b77bd5970225cf2a",
            "183b8934cd0c42e4b6ae90fc67d5cce7",
            "e7e1b8ed93514144b005aa87d040062e",
            "4acb8906bc5c416793ef11252b06d344",
            "8a31a8ea7a6c4ef38f63c49a1300049f",
            "ed47484631e346169ab731113bf30000",
            "53d86005b70046b5a034a2239a430e05"
          ]
        },
        "id": "f0a7eKLV9yvi",
        "outputId": "f09fe6d4-ccb0-4b12-be32-cce66040572a"
      },
      "execution_count": 33,
      "outputs": [
        {
          "output_type": "display_data",
          "data": {
            "text/plain": [
              "Training epoch:   0%|          | 0/5 [00:00<?, ?it/s]"
            ],
            "application/vnd.jupyter.widget-view+json": {
              "version_major": 2,
              "version_minor": 0,
              "model_id": "72bde759c1034bb4a075c48c481a7b43"
            }
          },
          "metadata": {}
        }
      ]
    },
    {
      "cell_type": "code",
      "source": [
        "plt.plot(training_losses,label='Training')\n",
        "plt.plot(validation_losses,label='Validation')\n",
        "plt.legend()"
      ],
      "metadata": {
        "colab": {
          "base_uri": "https://localhost:8080/",
          "height": 447
        },
        "id": "o6kgsfwSCaBu",
        "outputId": "4b5b4b07-9dae-4fb3-da9c-b90b119e45f5"
      },
      "execution_count": 29,
      "outputs": [
        {
          "output_type": "execute_result",
          "data": {
            "text/plain": [
              "<matplotlib.legend.Legend at 0x7c4da6053160>"
            ]
          },
          "metadata": {},
          "execution_count": 29
        },
        {
          "output_type": "display_data",
          "data": {
            "text/plain": [
              "<Figure size 640x480 with 1 Axes>"
            ],
            "image/png": "[encoded data removed]"
          },
          "metadata": {}
        }
      ]
    },
    {
      "cell_type": "code",
      "execution_count": 9,
      "metadata": {
        "id": "0Jpobn1mO8KT"
      },
      "outputs": [],
      "source": [
        "def evaluate(nn,trace):\n",
        "    losses_regression=[]\n",
        "    correct=0\n",
        "    hidden = nn.initHidden()\n",
        "    for i in range(len(trace)-1):\n",
        "        output,hidden=nn(trace[i],hidden)\n",
        "\n",
        "        regression_output=output[:4]\n",
        "        regression_correct=trace[i+1][:4]\n",
        "\n",
        "        classification_output=torch.argmax(output[4:])\n",
        "        classification_correct=torch.argmax(trace[i+1][4:])\n",
        "\n",
        "        loss_regression=regression_loss_function(regression_output,regression_correct)\n",
        "        losses_regression.append(loss_regression.item())\n",
        "\n",
        "        if classification_output==classification_correct:\n",
        "          correct+=1\n",
        "\n",
        "    return losses_regression,correct\n"
      ]
    },
    {
      "cell_type": "code",
      "execution_count": 31,
      "metadata": {
        "colab": {
          "base_uri": "https://localhost:8080/",
          "height": 1000
        },
        "id": "zIm1EYMjO8KU",
        "outputId": "1db35498-9e87-44a8-bf99-1e5f072603d7"
      },
      "outputs": [
        {
          "output_type": "stream",
          "name": "stdout",
          "text": [
            "Accuracy is 24.642857142857146%\n",
            "Mean loss is 0.004019883319354752\n"
          ]
        },
        {
          "output_type": "execute_result",
          "data": {
            "text/plain": [
              "(array([253., 227., 190.,  52.,  36.,  14.,   4.,   8.,   7.,   7.,   5.,\n",
              "          4.,   2.,   0.,   2.,   1.,   3.,   1.,   1.,   1.,   1.,   2.,\n",
              "          1.,   1.,   0.,   3.,   0.,   4.,   1.,   0.,   2.,   1.,   0.,\n",
              "          0.,   0.,   0.,   1.,   0.,   0.,   0.,   2.,   1.,   0.,   0.,\n",
              "          0.,   0.,   0.,   0.,   0.,   0.,   1.,   0.,   0.,   0.,   0.,\n",
              "          0.,   0.,   0.,   0.,   0.,   0.,   0.,   0.,   0.,   0.,   0.,\n",
              "          0.,   0.,   0.,   0.,   0.,   0.,   0.,   0.,   0.,   0.,   0.,\n",
              "          0.,   0.,   0.,   0.,   0.,   0.,   0.,   0.,   0.,   0.,   0.,\n",
              "          0.,   0.,   0.,   0.,   0.,   0.,   0.,   0.,   0.,   0.,   0.,\n",
              "          1.]),\n",
              " array([4.29159118e-05, 1.35879007e-03, 2.67466422e-03, 3.99053837e-03,\n",
              "        5.30641253e-03, 6.62228668e-03, 7.93816083e-03, 9.25403499e-03,\n",
              "        1.05699091e-02, 1.18857833e-02, 1.32016574e-02, 1.45175316e-02,\n",
              "        1.58334058e-02, 1.71492799e-02, 1.84651541e-02, 1.97810282e-02,\n",
              "        2.10969024e-02, 2.24127765e-02, 2.37286507e-02, 2.50445248e-02,\n",
              "        2.63603990e-02, 2.76762731e-02, 2.89921473e-02, 3.03080214e-02,\n",
              "        3.16238956e-02, 3.29397698e-02, 3.42556439e-02, 3.55715181e-02,\n",
              "        3.68873922e-02, 3.82032664e-02, 3.95191405e-02, 4.08350147e-02,\n",
              "        4.21508888e-02, 4.34667630e-02, 4.47826371e-02, 4.60985113e-02,\n",
              "        4.74143854e-02, 4.87302596e-02, 5.00461338e-02, 5.13620079e-02,\n",
              "        5.26778821e-02, 5.39937562e-02, 5.53096304e-02, 5.66255045e-02,\n",
              "        5.79413787e-02, 5.92572528e-02, 6.05731270e-02, 6.18890011e-02,\n",
              "        6.32048753e-02, 6.45207494e-02, 6.58366236e-02, 6.71524977e-02,\n",
              "        6.84683719e-02, 6.97842461e-02, 7.11001202e-02, 7.24159944e-02,\n",
              "        7.37318685e-02, 7.50477427e-02, 7.63636168e-02, 7.76794910e-02,\n",
              "        7.89953651e-02, 8.03112393e-02, 8.16271134e-02, 8.29429876e-02,\n",
              "        8.42588617e-02, 8.55747359e-02, 8.68906101e-02, 8.82064842e-02,\n",
              "        8.95223584e-02, 9.08382325e-02, 9.21541067e-02, 9.34699808e-02,\n",
              "        9.47858550e-02, 9.61017291e-02, 9.74176033e-02, 9.87334774e-02,\n",
              "        1.00049352e-01, 1.01365226e-01, 1.02681100e-01, 1.03996974e-01,\n",
              "        1.05312848e-01, 1.06628722e-01, 1.07944597e-01, 1.09260471e-01,\n",
              "        1.10576345e-01, 1.11892219e-01, 1.13208093e-01, 1.14523967e-01,\n",
              "        1.15839841e-01, 1.17155716e-01, 1.18471590e-01, 1.19787464e-01,\n",
              "        1.21103338e-01, 1.22419212e-01, 1.23735086e-01, 1.25050961e-01,\n",
              "        1.26366835e-01, 1.27682709e-01, 1.28998583e-01, 1.30314457e-01,\n",
              "        1.31630331e-01]),\n",
              " <BarContainer object of 100 artists>)"
            ]
          },
          "metadata": {},
          "execution_count": 31
        },
        {
          "output_type": "display_data",
          "data": {
            "text/plain": [
              "<Figure size 640x480 with 1 Axes>"
            ],
            "image/png": "[encoded data removed]"
          },
          "metadata": {}
        }
      ],
      "source": [
        "losses=[]\n",
        "correct=0\n",
        "tot=0\n",
        "for trace in test_set:\n",
        "    trace_losses,trace_correct=evaluate(rnn,trace)\n",
        "    losses.extend(trace_losses)\n",
        "    correct+=trace_correct\n",
        "    tot+=len(trace)-1\n",
        "\n",
        "print(f\"Accuracy is {(correct/tot)*100}%\" )\n",
        "print(f\"Mean loss is {np.mean(losses)}\")\n",
        "plt.hist(losses,bins=100)"
      ]
    },
    {
      "cell_type": "code",
      "source": [
        "print(test_set[5])\n",
        "hidden=rnn.initHidden()\n",
        "rnn(test_set[5][0],hidden)"
      ],
      "metadata": {
        "colab": {
          "base_uri": "https://localhost:8080/"
        },
        "id": "rDuSNaRbghe1",
        "outputId": "43911604-6395-48e0-ac36-fbbaa484923a"
      },
      "execution_count": null,
      "outputs": [
        {
          "output_type": "stream",
          "name": "stdout",
          "text": [
            "tensor([[0.3066, 0.9117, 0.0195, 0.0000, 0.0000, 0.0000, 0.0000, 1.0000, 0.0000,\n",
            "         0.0000, 0.0000, 0.2050],\n",
            "        [0.3066, 0.9117, 0.1543, 1.0000, 0.0000, 0.0000, 0.0000, 0.0000, 0.0000,\n",
            "         0.0000, 0.0000, 0.2371],\n",
            "        [0.4188, 0.9117, 0.1543, 0.0000, 0.0000, 0.0000, 0.0000, 0.0000, 0.0000,\n",
            "         1.0000, 0.0000, 0.0000]])\n"
          ]
        },
        {
          "output_type": "execute_result",
          "data": {
            "text/plain": [
              "(tensor([0.4737, 0.8346, 0.2746, 0.2051, 0.1739, 0.1693, 0.1673, 0.1589, 0.6644,\n",
              "         0.1985, 0.1675, 0.1263], grad_fn=<SigmoidBackward0>),\n",
              " tensor([0.5362, 0.5692, 0.4343, 0.5372, 0.5127, 0.5215, 0.4979, 0.5028, 0.5803,\n",
              "         0.5993], grad_fn=<SigmoidBackward0>))"
            ]
          },
          "metadata": {},
          "execution_count": 45
        }
      ]
    }
  ],
  "metadata": {
    "kernelspec": {
      "display_name": "Python 3",
      "name": "python3"
    },
    "language_info": {
      "codemirror_mode": {
        "name": "ipython",
        "version": 3
      },
      "file_extension": ".py",
      "mimetype": "text/x-python",
      "name": "python",
      "nbconvert_exporter": "python",
      "pygments_lexer": "ipython3",
      "version": "3.12.2"
    },
    "colab": {
      "provenance": []
    },
    "widgets": {
      "application/vnd.jupyter.widget-state+json": {
        "72bde759c1034bb4a075c48c481a7b43": {
          "model_module": "@jupyter-widgets/controls",
          "model_name": "HBoxModel",
          "model_module_version": "1.5.0",
          "state": {
            "_dom_classes": [],
            "_model_module": "@jupyter-widgets/controls",
            "_model_module_version": "1.5.0",
            "_model_name": "HBoxModel",
            "_view_count": null,
            "_view_module": "@jupyter-widgets/controls",
            "_view_module_version": "1.5.0",
            "_view_name": "HBoxView",
            "box_style": "",
            "children": [
              "IPY_MODEL_f3749431c169440d8a7dbb7d208bd0db",
              "IPY_MODEL_98ea24200b9d4755b155195aa165bf8f",
              "IPY_MODEL_e276b839f5b84cf39461ce42efd87d4b"
            ],
            "layout": "IPY_MODEL_351a5e685f0f4881b77bd5970225cf2a"
          }
        },
        "f3749431c169440d8a7dbb7d208bd0db": {
          "model_module": "@jupyter-widgets/controls",
          "model_name": "HTMLModel",
          "model_module_version": "1.5.0",
          "state": {
            "_dom_classes": [],
            "_model_module": "@jupyter-widgets/controls",
            "_model_module_version": "1.5.0",
            "_model_name": "HTMLModel",
            "_view_count": null,
            "_view_module": "@jupyter-widgets/controls",
            "_view_module_version": "1.5.0",
            "_view_name": "HTMLView",
            "description": "",
            "description_tooltip": null,
            "layout": "IPY_MODEL_183b8934cd0c42e4b6ae90fc67d5cce7",
            "placeholder": "​",
            "style": "IPY_MODEL_e7e1b8ed93514144b005aa87d040062e",
            "value": "Training epoch: 100%"
          }
        },
        "98ea24200b9d4755b155195aa165bf8f": {
          "model_module": "@jupyter-widgets/controls",
          "model_name": "FloatProgressModel",
          "model_module_version": "1.5.0",
          "state": {
            "_dom_classes": [],
            "_model_module": "@jupyter-widgets/controls",
            "_model_module_version": "1.5.0",
            "_model_name": "FloatProgressModel",
            "_view_count": null,
            "_view_module": "@jupyter-widgets/controls",
            "_view_module_version": "1.5.0",
            "_view_name": "ProgressView",
            "bar_style": "success",
            "description": "",
            "description_tooltip": null,
            "layout": "IPY_MODEL_4acb8906bc5c416793ef11252b06d344",
            "max": 5,
            "min": 0,
            "orientation": "horizontal",
            "style": "IPY_MODEL_8a31a8ea7a6c4ef38f63c49a1300049f",
            "value": 5
          }
        },
        "e276b839f5b84cf39461ce42efd87d4b": {
          "model_module": "@jupyter-widgets/controls",
          "model_name": "HTMLModel",
          "model_module_version": "1.5.0",
          "state": {
            "_dom_classes": [],
            "_model_module": "@jupyter-widgets/controls",
            "_model_module_version": "1.5.0",
            "_model_name": "HTMLModel",
            "_view_count": null,
            "_view_module": "@jupyter-widgets/controls",
            "_view_module_version": "1.5.0",
            "_view_name": "HTMLView",
            "description": "",
            "description_tooltip": null,
            "layout": "IPY_MODEL_ed47484631e346169ab731113bf30000",
            "placeholder": "​",
            "style": "IPY_MODEL_53d86005b70046b5a034a2239a430e05",
            "value": " 5/5 [00:26&lt;00:00,  6.04s/it]"
          }
        },
        "351a5e685f0f4881b77bd5970225cf2a": {
          "model_module": "@jupyter-widgets/base",
          "model_name": "LayoutModel",
          "model_module_version": "1.2.0",
          "state": {
            "_model_module": "@jupyter-widgets/base",
            "_model_module_version": "1.2.0",
            "_model_name": "LayoutModel",
            "_view_count": null,
            "_view_module": "@jupyter-widgets/base",
            "_view_module_version": "1.2.0",
            "_view_name": "LayoutView",
            "align_content": null,
            "align_items": null,
            "align_self": null,
            "border": null,
            "bottom": null,
            "display": null,
            "flex": null,
            "flex_flow": null,
            "grid_area": null,
            "grid_auto_columns": null,
            "grid_auto_flow": null,
            "grid_auto_rows": null,
            "grid_column": null,
            "grid_gap": null,
            "grid_row": null,
            "grid_template_areas": null,
            "grid_template_columns": null,
            "grid_template_rows": null,
            "height": null,
            "justify_content": null,
            "justify_items": null,
            "left": null,
            "margin": null,
            "max_height": null,
            "max_width": null,
            "min_height": null,
            "min_width": null,
            "object_fit": null,
            "object_position": null,
            "order": null,
            "overflow": null,
            "overflow_x": null,
            "overflow_y": null,
            "padding": null,
            "right": null,
            "top": null,
            "visibility": null,
            "width": null
          }
        },
        "183b8934cd0c42e4b6ae90fc67d5cce7": {
          "model_module": "@jupyter-widgets/base",
          "model_name": "LayoutModel",
          "model_module_version": "1.2.0",
          "state": {
            "_model_module": "@jupyter-widgets/base",
            "_model_module_version": "1.2.0",
            "_model_name": "LayoutModel",
            "_view_count": null,
            "_view_module": "@jupyter-widgets/base",
            "_view_module_version": "1.2.0",
            "_view_name": "LayoutView",
            "align_content": null,
            "align_items": null,
            "align_self": null,
            "border": null,
            "bottom": null,
            "display": null,
            "flex": null,
            "flex_flow": null,
            "grid_area": null,
            "grid_auto_columns": null,
            "grid_auto_flow": null,
            "grid_auto_rows": null,
            "grid_column": null,
            "grid_gap": null,
            "grid_row": null,
            "grid_template_areas": null,
            "grid_template_columns": null,
            "grid_template_rows": null,
            "height": null,
            "justify_content": null,
            "justify_items": null,
            "left": null,
            "margin": null,
            "max_height": null,
            "max_width": null,
            "min_height": null,
            "min_width": null,
            "object_fit": null,
            "object_position": null,
            "order": null,
            "overflow": null,
            "overflow_x": null,
            "overflow_y": null,
            "padding": null,
            "right": null,
            "top": null,
            "visibility": null,
            "width": null
          }
        },
        "e7e1b8ed93514144b005aa87d040062e": {
          "model_module": "@jupyter-widgets/controls",
          "model_name": "DescriptionStyleModel",
          "model_module_version": "1.5.0",
          "state": {
            "_model_module": "@jupyter-widgets/controls",
            "_model_module_version": "1.5.0",
            "_model_name": "DescriptionStyleModel",
            "_view_count": null,
            "_view_module": "@jupyter-widgets/base",
            "_view_module_version": "1.2.0",
            "_view_name": "StyleView",
            "description_width": ""
          }
        },
        "4acb8906bc5c416793ef11252b06d344": {
          "model_module": "@jupyter-widgets/base",
          "model_name": "LayoutModel",
          "model_module_version": "1.2.0",
          "state": {
            "_model_module": "@jupyter-widgets/base",
            "_model_module_version": "1.2.0",
            "_model_name": "LayoutModel",
            "_view_count": null,
            "_view_module": "@jupyter-widgets/base",
            "_view_module_version": "1.2.0",
            "_view_name": "LayoutView",
            "align_content": null,
            "align_items": null,
            "align_self": null,
            "border": null,
            "bottom": null,
            "display": null,
            "flex": null,
            "flex_flow": null,
            "grid_area": null,
            "grid_auto_columns": null,
            "grid_auto_flow": null,
            "grid_auto_rows": null,
            "grid_column": null,
            "grid_gap": null,
            "grid_row": null,
            "grid_template_areas": null,
            "grid_template_columns": null,
            "grid_template_rows": null,
            "height": null,
            "justify_content": null,
            "justify_items": null,
            "left": null,
            "margin": null,
            "max_height": null,
            "max_width": null,
            "min_height": null,
            "min_width": null,
            "object_fit": null,
            "object_position": null,
            "order": null,
            "overflow": null,
            "overflow_x": null,
            "overflow_y": null,
            "padding": null,
            "right": null,
            "top": null,
            "visibility": null,
            "width": null
          }
        },
        "8a31a8ea7a6c4ef38f63c49a1300049f": {
          "model_module": "@jupyter-widgets/controls",
          "model_name": "ProgressStyleModel",
          "model_module_version": "1.5.0",
          "state": {
            "_model_module": "@jupyter-widgets/controls",
            "_model_module_version": "1.5.0",
            "_model_name": "ProgressStyleModel",
            "_view_count": null,
            "_view_module": "@jupyter-widgets/base",
            "_view_module_version": "1.2.0",
            "_view_name": "StyleView",
            "bar_color": null,
            "description_width": ""
          }
        },
        "ed47484631e346169ab731113bf30000": {
          "model_module": "@jupyter-widgets/base",
          "model_name": "LayoutModel",
          "model_module_version": "1.2.0",
          "state": {
            "_model_module": "@jupyter-widgets/base",
            "_model_module_version": "1.2.0",
            "_model_name": "LayoutModel",
            "_view_count": null,
            "_view_module": "@jupyter-widgets/base",
            "_view_module_version": "1.2.0",
            "_view_name": "LayoutView",
            "align_content": null,
            "align_items": null,
            "align_self": null,
            "border": null,
            "bottom": null,
            "display": null,
            "flex": null,
            "flex_flow": null,
            "grid_area": null,
            "grid_auto_columns": null,
            "grid_auto_flow": null,
            "grid_auto_rows": null,
            "grid_column": null,
            "grid_gap": null,
            "grid_row": null,
            "grid_template_areas": null,
            "grid_template_columns": null,
            "grid_template_rows": null,
            "height": null,
            "justify_content": null,
            "justify_items": null,
            "left": null,
            "margin": null,
            "max_height": null,
            "max_width": null,
            "min_height": null,
            "min_width": null,
            "object_fit": null,
            "object_position": null,
            "order": null,
            "overflow": null,
            "overflow_x": null,
            "overflow_y": null,
            "padding": null,
            "right": null,
            "top": null,
            "visibility": null,
            "width": null
          }
        },
        "53d86005b70046b5a034a2239a430e05": {
          "model_module": "@jupyter-widgets/controls",
          "model_name": "DescriptionStyleModel",
          "model_module_version": "1.5.0",
          "state": {
            "_model_module": "@jupyter-widgets/controls",
            "_model_module_version": "1.5.0",
            "_model_name": "DescriptionStyleModel",
            "_view_count": null,
            "_view_module": "@jupyter-widgets/base",
            "_view_module_version": "1.2.0",
            "_view_name": "StyleView",
            "description_width": ""
          }
        }
      }
    }
  },
  "nbformat": 4,
  "nbformat_minor": 0
}