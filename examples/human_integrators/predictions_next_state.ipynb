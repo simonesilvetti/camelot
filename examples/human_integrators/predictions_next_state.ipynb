{
  "cells": [
    {
      "cell_type": "code",
      "execution_count": 4,
      "metadata": {
        "id": "ALRxIVdEO8KI"
      },
      "outputs": [],
      "source": [
        "import numpy as np\n",
        "import matplotlib.pyplot as plt\n",
        "import torch\n",
        "import torch.nn as nn\n",
        "import torch.optim as optim\n",
        "import pickle\n",
        "import pandas as pd"
      ]
    },
    {
      "cell_type": "code",
      "source": [
        "def get_default_device():\n",
        "    \"\"\"Pick GPU if available, else CPU\"\"\"\n",
        "    if torch.cuda.is_available():\n",
        "        return torch.device('cuda')\n",
        "    else:\n",
        "        return torch.device('cpu')\n",
        "\n",
        "device = get_default_device()"
      ],
      "metadata": {
        "id": "I_Q8hQdYVzmR"
      },
      "execution_count": 5,
      "outputs": []
    },
    {
      "cell_type": "code",
      "source": [
        "train_set=pd.read_pickle('/content/integrators_next_state_train.pickle')\n",
        "test_set=pd.read_pickle('/content/integrators_next_state_test.pickle')"
      ],
      "metadata": {
        "id": "is7KqLtUWwLv"
      },
      "execution_count": 6,
      "outputs": []
    },
    {
      "cell_type": "code",
      "source": [
        "train_set=[trace.to(device) for trace in train_set]\n",
        "test_set=[trace.to(device) for trace in test_set]"
      ],
      "metadata": {
        "id": "N0u9Ks0fW9t1"
      },
      "execution_count": 7,
      "outputs": []
    },
    {
      "cell_type": "code",
      "execution_count": 11,
      "metadata": {
        "id": "M4J-yQG1O8KO"
      },
      "outputs": [],
      "source": [
        "class RNN(nn.Module):\n",
        "    def __init__(self, input_size, hidden_size, output_size):\n",
        "        super(RNN, self).__init__()\n",
        "\n",
        "        self.hidden_size = hidden_size\n",
        "\n",
        "        self.i2h = nn.Linear(input_size + hidden_size, hidden_size)\n",
        "        self.h2o = nn.Linear(hidden_size, output_size)\n",
        "        self.fc = nn.Linear(output_size, output_size)\n",
        "        self.sigmoid=nn.Sigmoid()\n",
        "\n",
        "    def forward(self, input, hidden):\n",
        "        combined = torch.cat((input, hidden))\n",
        "        hidden = self.sigmoid(self.i2h(combined))\n",
        "        output = self.sigmoid(self.h2o(hidden))\n",
        "        output = self.sigmoid(self.fc(output))\n",
        "        return output, hidden\n",
        "\n",
        "    def initHidden(self):\n",
        "        return torch.zeros(self.hidden_size).to(device)"
      ]
    },
    {
      "cell_type": "code",
      "execution_count": 64,
      "metadata": {
        "id": "3wiGXgINO8KQ"
      },
      "outputs": [],
      "source": [
        "n_iters = 100\n",
        "print_every = 5\n",
        "learning_rate = 0.00005 # If you set this too high, it might explode. If too low, it might not learn\n",
        "#loss_function = nn.MSELoss()\n",
        "loss_function = CustomLoss()\n",
        "regression_loss_function=nn.MSELoss()\n",
        "classification_loss_function=nn.BCELoss()\n",
        "n_hidden = 10\n",
        "dimension=train_set[0][0].size(0)\n",
        "rnn = RNN(dimension,n_hidden,dimension)\n",
        "rnn.to(device)\n",
        "optimizer=optim.SGD(rnn.parameters(),learning_rate)"
      ]
    },
    {
      "cell_type": "code",
      "execution_count": 65,
      "metadata": {
        "colab": {
          "base_uri": "https://localhost:8080/"
        },
        "id": "SY959_7HO8KR",
        "outputId": "f12126bf-2402-41ac-cf9a-eff122b153c3"
      },
      "outputs": [
        {
          "output_type": "stream",
          "name": "stdout",
          "text": [
            "total losses are between 0.29455727338790894 and 0.3545948565006256\n",
            "regression losses are between 0.04676438122987747 and 0.0929652526974678\n",
            "regression classification are between 0.21537736058235168 and 0.27252501249313354\n",
            " \n",
            "total losses are between 0.25752758979797363 and 0.31330710649490356\n",
            "regression losses are between 0.03316115587949753 and 0.07101839780807495\n",
            "regression classification are between 0.19864535331726074 and 0.252434104681015\n",
            " \n",
            "total losses are between 0.23037511110305786 and 0.2823967933654785\n",
            "regression losses are between 0.02440202794969082 and 0.05571596324443817\n",
            "regression classification are between 0.18546780943870544 and 0.23539236187934875\n",
            " \n",
            "total losses are between 0.21047979593276978 and 0.2584892213344574\n",
            "regression losses are between 0.018682003021240234 and 0.04485362023115158\n",
            "regression classification are between 0.17535343766212463 and 0.2212185263633728\n",
            " \n",
            "total losses are between 0.19590039551258087 and 0.2399095594882965\n",
            "regression losses are between 0.014871357008814812 and 0.03694814443588257\n",
            "regression classification are between 0.16778622567653656 and 0.20964381098747253\n",
            " \n",
            "total losses are between 0.1852346956729889 and 0.22543534636497498\n",
            "regression losses are between 0.012285958975553513 and 0.03104729764163494\n",
            "regression classification are between 0.1622735559940338 and 0.20033955574035645\n",
            " \n",
            "total losses are between 0.17745493352413177 and 0.21414563059806824\n",
            "regression losses are between 0.010508164763450623 and 0.026540007442235947\n",
            "regression classification are between 0.15836770832538605 and 0.19295379519462585\n",
            " \n",
            "total losses are between 0.1718006581068039 and 0.2053288072347641\n",
            "regression losses are between 0.009277183562517166 and 0.02302716299891472\n",
            "regression classification are between 0.15568460524082184 and 0.18714386224746704\n",
            " \n",
            "total losses are between 0.16772477328777313 and 0.19844546914100647\n",
            "regression losses are between 0.008426012471318245 and 0.02024221420288086\n",
            "regression classification are between 0.15392673015594482 and 0.18261505663394928\n",
            " \n",
            "total losses are between 0.16481229662895203 and 0.19306164979934692\n",
            "regression losses are between 0.007842494174838066 and 0.017999665811657906\n",
            "regression classification are between 0.15285158157348633 and 0.17910310626029968\n",
            " \n",
            "total losses are between 0.16276133060455322 and 0.1888478398323059\n",
            "regression losses are between 0.007452437654137611 and 0.016170985996723175\n",
            "regression classification are between 0.15227530896663666 and 0.17639486491680145\n",
            " \n",
            "total losses are between 0.16134995222091675 and 0.1855524331331253\n",
            "regression losses are between 0.007202399894595146 and 0.014662185683846474\n",
            "regression classification are between 0.1520622968673706 and 0.17432424426078796\n",
            " \n",
            "total losses are between 0.1604200154542923 and 0.18297532200813293\n",
            "regression losses are between 0.00705561600625515 and 0.013405157253146172\n",
            "regression classification are between 0.15211614966392517 and 0.1727524995803833\n",
            " \n",
            "total losses are between 0.1598401665687561 and 0.18096420168876648\n",
            "regression losses are between 0.00698564387857914 and 0.012348087504506111\n",
            "regression classification are between 0.1523514986038208 and 0.1715734302997589\n",
            " \n",
            "total losses are between 0.15953058004379272 and 0.1793970763683319\n",
            "regression losses are between 0.006807247176766396 and 0.01145207230001688\n",
            "regression classification are between 0.15272332727909088 and 0.1706998646259308\n",
            " \n",
            "total losses are between 0.15941643714904785 and 0.17818550765514374\n",
            "regression losses are between 0.006232080049812794 and 0.010686122812330723\n",
            "regression classification are between 0.15318435430526733 and 0.17007097601890564\n",
            " \n",
            "total losses are between 0.15944068133831024 and 0.1772574484348297\n",
            "regression losses are between 0.005744622088968754 and 0.010028472170233727\n",
            "regression classification are between 0.15369606018066406 and 0.16963428258895874\n",
            " \n",
            "total losses are between 0.159575417637825 and 0.17654725909233093\n",
            "regression losses are between 0.0053284652531147 and 0.009460304863750935\n",
            "regression classification are between 0.1542469561100006 and 0.1693401038646698\n",
            " \n",
            "total losses are between 0.15979687869548798 and 0.17601630091667175\n",
            "regression losses are between 0.0049704574048519135 and 0.008965895511209965\n",
            "regression classification are between 0.15482641756534576 and 0.16916392743587494\n",
            " \n",
            "total losses are between 0.16006076335906982 and 0.17561931908130646\n",
            "regression losses are between 0.00466019194573164 and 0.008533156476914883\n",
            "regression classification are between 0.1554005742073059 and 0.16907143592834473\n",
            " \n"
          ]
        }
      ],
      "source": [
        "losses=[]\n",
        "losses_regression=[]\n",
        "losses_classification=[]\n",
        "\n",
        "count=0\n",
        "for iter in range(1, n_iters + 1):\n",
        "    for trace in train_set:\n",
        "        hidden=rnn.initHidden()\n",
        "        for i in range(len(trace)-1):\n",
        "            #print(hidden)\n",
        "            output, hidden=rnn(trace[i],hidden)\n",
        "\n",
        "\n",
        "            hidden=hidden.clone().detach()\n",
        "            #loss=loss_function(output,trace[i+1])\n",
        "\n",
        "            regression_output=torch.cat((output[0:3],output[-1].reshape(1)))\n",
        "            regression_correct=torch.cat((trace[i+1][0:3],trace[i+1][-1].reshape(1)))\n",
        "\n",
        "            classification_output=output[3:11]\n",
        "            classification_correct=trace[i+1][3:11]\n",
        "\n",
        "            loss_regression=regression_loss_function(regression_output,regression_correct)\n",
        "            loss_classification=regression_loss_function(classification_output,classification_correct)\n",
        "\n",
        "            loss=loss_regression+loss_classification\n",
        "\n",
        "            optimizer.zero_grad()\n",
        "            loss.backward()\n",
        "\n",
        "            optimizer.step()\n",
        "\n",
        "            losses.append(loss)\n",
        "            losses_regression.append(loss_regression)\n",
        "            losses_classification.append(loss_classification)\n",
        "    if count % print_every == 0:\n",
        "        print(f\"total losses are between {min(losses[-5:])} and {max(losses[-5:])}\")\n",
        "        print(f\"regression losses are between {min(losses_regression[-5:])} and {max(losses_regression[-5:])}\")\n",
        "        print(f\"regression classification are between {min(losses_classification[-5:])} and {max(losses_classification[-5:])}\")\n",
        "        print(\" \")\n",
        "    count+=1"
      ]
    },
    {
      "cell_type": "code",
      "source": [
        "a=[1,2,3,4,5]\n",
        "a[-2:]"
      ],
      "metadata": {
        "colab": {
          "base_uri": "https://localhost:8080/"
        },
        "id": "msrUBTZ3THSp",
        "outputId": "00ab6803-3339-45dd-d985-6068113d1a7f"
      },
      "execution_count": 81,
      "outputs": [
        {
          "output_type": "execute_result",
          "data": {
            "text/plain": [
              "[4, 5]"
            ]
          },
          "metadata": {},
          "execution_count": 81
        }
      ]
    },
    {
      "cell_type": "code",
      "source": [
        "min(losses[-100:])"
      ],
      "metadata": {
        "colab": {
          "base_uri": "https://localhost:8080/"
        },
        "id": "5CKfW_WAS-rV",
        "outputId": "4afe2297-05af-494c-a915-6d6e3bab25c5"
      },
      "execution_count": 80,
      "outputs": [
        {
          "output_type": "execute_result",
          "data": {
            "text/plain": [
              "tensor(0.0458, device='cuda:0', grad_fn=<AddBackward0>)"
            ]
          },
          "metadata": {},
          "execution_count": 80
        }
      ]
    },
    {
      "cell_type": "code",
      "source": [
        "min(losses[-5:])"
      ],
      "metadata": {
        "colab": {
          "base_uri": "https://localhost:8080/"
        },
        "id": "HJTyEU9oRe3P",
        "outputId": "bed1919a-b5dd-4871-d2df-2dd0298d0262"
      },
      "execution_count": 79,
      "outputs": [
        {
          "output_type": "execute_result",
          "data": {
            "text/plain": [
              "tensor(0.1603, device='cuda:0', grad_fn=<AddBackward0>)"
            ]
          },
          "metadata": {},
          "execution_count": 79
        }
      ]
    },
    {
      "cell_type": "code",
      "execution_count": 66,
      "metadata": {
        "colab": {
          "base_uri": "https://localhost:8080/",
          "height": 447
        },
        "id": "u8KXsecmO8KS",
        "outputId": "33ac943d-bf51-49be-b9c5-b1070a6f8dd5"
      },
      "outputs": [
        {
          "output_type": "execute_result",
          "data": {
            "text/plain": [
              "[<matplotlib.lines.Line2D at 0x7bd25d7443d0>]"
            ]
          },
          "metadata": {},
          "execution_count": 66
        },
        {
          "output_type": "display_data",
          "data": {
            "text/plain": [
              "<Figure size 640x480 with 1 Axes>"
            ],
            "image/png": "[encoded data removed]"
          },
          "metadata": {}
        }
      ],
      "source": [
        "plt.plot(range(len(losses)),[loss.detach().cpu().numpy() for loss in losses])\n"
      ]
    },
    {
      "cell_type": "code",
      "source": [
        "plt.plot(range(len(losses_regression)),[loss.detach().cpu().numpy() for loss in losses_regression])\n"
      ],
      "metadata": {
        "colab": {
          "base_uri": "https://localhost:8080/",
          "height": 447
        },
        "id": "CdWs2cr1KJ4I",
        "outputId": "87d852a9-d1bc-4a55-9b5a-3cab8a3fc3f4"
      },
      "execution_count": 70,
      "outputs": [
        {
          "output_type": "execute_result",
          "data": {
            "text/plain": [
              "[<matplotlib.lines.Line2D at 0x7bd247a8de40>]"
            ]
          },
          "metadata": {},
          "execution_count": 70
        },
        {
          "output_type": "display_data",
          "data": {
            "text/plain": [
              "<Figure size 640x480 with 1 Axes>"
            ],
            "image/png": "[encoded data removed]"
          },
          "metadata": {}
        }
      ]
    },
    {
      "cell_type": "code",
      "source": [
        "losses[0]"
      ],
      "metadata": {
        "colab": {
          "base_uri": "https://localhost:8080/"
        },
        "id": "iriTqoiDSgBc",
        "outputId": "ffb3389d-83a1-406a-84f6-9e8760d9de94"
      },
      "execution_count": 73,
      "outputs": [
        {
          "output_type": "execute_result",
          "data": {
            "text/plain": [
              "tensor(0.3568, device='cuda:0', grad_fn=<AddBackward0>)"
            ]
          },
          "metadata": {},
          "execution_count": 73
        }
      ]
    },
    {
      "cell_type": "code",
      "source": [
        "losses[0].detach().cpu().numpy().item()"
      ],
      "metadata": {
        "colab": {
          "base_uri": "https://localhost:8080/"
        },
        "id": "RChaxi96Sihd",
        "outputId": "259f6edb-5f48-45ab-ff01-7ef0c985ce6d"
      },
      "execution_count": 76,
      "outputs": [
        {
          "output_type": "execute_result",
          "data": {
            "text/plain": [
              "0.3567594885826111"
            ]
          },
          "metadata": {},
          "execution_count": 76
        }
      ]
    },
    {
      "cell_type": "code",
      "source": [
        "plt.scatter(range(len(losses)),[loss.detach().cpu().numpy().item() for loss in losses_classification])\n"
      ],
      "metadata": {
        "colab": {
          "base_uri": "https://localhost:8080/",
          "height": 447
        },
        "id": "cr-moCBvKOLA",
        "outputId": "be12f2da-587e-4430-b0cb-c314fefb3843"
      },
      "execution_count": 77,
      "outputs": [
        {
          "output_type": "execute_result",
          "data": {
            "text/plain": [
              "<matplotlib.collections.PathCollection at 0x7bd247c05c30>"
            ]
          },
          "metadata": {},
          "execution_count": 77
        },
        {
          "output_type": "display_data",
          "data": {
            "text/plain": [
              "<Figure size 640x480 with 1 Axes>"
            ],
            "image/png": "[encoded data removed]"
          },
          "metadata": {}
        }
      ]
    },
    {
      "cell_type": "code",
      "execution_count": 28,
      "metadata": {
        "id": "0Jpobn1mO8KT"
      },
      "outputs": [],
      "source": [
        "def evaluate(nn,trace):\n",
        "    losses=[]\n",
        "    hidden = rnn.initHidden()\n",
        "    for i in range(len(trace)-1):\n",
        "        output,hidden=nn(trace[i],hidden)\n",
        "        losses.append(loss_function(output,trace[i+1]).item())\n",
        "        #print(f\"tryingt to predict {trace[i+1]}\")\n",
        "        #print(f\"predicted {output}\")\n",
        "        #    print(\" \")\n",
        "    return losses\n",
        ""
      ]
    },
    {
      "cell_type": "code",
      "source": [
        "evaluate(rnn,test_set[5])"
      ],
      "metadata": {
        "colab": {
          "base_uri": "https://localhost:8080/"
        },
        "id": "FsI4jWb4h1O9",
        "outputId": "5243c7fb-83f4-432b-bcc0-56b4dc13233a"
      },
      "execution_count": 29,
      "outputs": [
        {
          "output_type": "stream",
          "name": "stdout",
          "text": [
            "tryingt to predict tensor([0.8334, 0.9253, 0.5150, 0.0000, 1.0000, 0.0000, 0.0000, 0.0000, 0.0000,\n",
            "        0.0000, 0.0000, 0.4956], device='cuda:0')\n",
            "predicted tensor([0.5250, 0.4934, 0.5809, 0.4115, 0.4415, 0.5512, 0.5109, 0.5843, 0.6301,\n",
            "        0.4694, 0.3946, 0.5397], device='cuda:0', grad_fn=<SigmoidBackward0>)\n",
            " \n",
            "tryingt to predict tensor([0.6088, 0.9253, 0.5150, 0.0000, 0.0000, 0.0000, 0.0000, 0.0000, 1.0000,\n",
            "        0.0000, 0.0000, 0.0563], device='cuda:0')\n",
            "predicted tensor([0.5245, 0.4931, 0.5807, 0.4129, 0.4414, 0.5507, 0.5105, 0.5836, 0.6297,\n",
            "        0.4697, 0.3949, 0.5407], device='cuda:0', grad_fn=<SigmoidBackward0>)\n",
            " \n",
            "tryingt to predict tensor([0.6088, 0.9253, 0.4717, 0.0000, 0.0000, 0.0000, 0.0000, 0.0000, 1.0000,\n",
            "        0.0000, 0.0000, 0.0281], device='cuda:0')\n",
            "predicted tensor([0.5239, 0.4941, 0.5805, 0.4131, 0.4417, 0.5509, 0.5110, 0.5842, 0.6297,\n",
            "        0.4705, 0.3944, 0.5402], device='cuda:0', grad_fn=<SigmoidBackward0>)\n",
            " \n",
            "tryingt to predict tensor([0.6088, 0.9253, 0.4501, 0.0000, 0.0000, 0.0000, 0.0000, 0.0000, 1.0000,\n",
            "        0.0000, 0.0000, 0.0176], device='cuda:0')\n",
            "predicted tensor([0.5239, 0.4942, 0.5805, 0.4131, 0.4417, 0.5509, 0.5110, 0.5843, 0.6296,\n",
            "        0.4706, 0.3945, 0.5402], device='cuda:0', grad_fn=<SigmoidBackward0>)\n",
            " \n",
            "tryingt to predict tensor([0.6088, 0.9253, 0.4366, 0.0000, 0.0000, 0.0000, 0.0000, 0.0000, 1.0000,\n",
            "        0.0000, 0.0000, 0.0123], device='cuda:0')\n",
            "predicted tensor([0.5239, 0.4941, 0.5805, 0.4131, 0.4417, 0.5509, 0.5110, 0.5843, 0.6296,\n",
            "        0.4707, 0.3945, 0.5402], device='cuda:0', grad_fn=<SigmoidBackward0>)\n",
            " \n",
            "tryingt to predict tensor([0.6088, 0.9253, 0.4271, 0.0000, 0.0000, 0.0000, 0.0000, 0.0000, 1.0000,\n",
            "        0.0000, 0.0000, 0.0092], device='cuda:0')\n",
            "predicted tensor([0.5239, 0.4941, 0.5805, 0.4131, 0.4417, 0.5509, 0.5110, 0.5843, 0.6296,\n",
            "        0.4707, 0.3945, 0.5402], device='cuda:0', grad_fn=<SigmoidBackward0>)\n",
            " \n",
            "tryingt to predict tensor([0.6088, 0.9253, 0.4200, 0.0000, 0.0000, 0.0000, 0.0000, 0.0000, 1.0000,\n",
            "        0.0000, 0.0000, 0.0073], device='cuda:0')\n",
            "predicted tensor([0.5239, 0.4941, 0.5805, 0.4131, 0.4417, 0.5509, 0.5110, 0.5843, 0.6296,\n",
            "        0.4706, 0.3945, 0.5402], device='cuda:0', grad_fn=<SigmoidBackward0>)\n",
            " \n",
            "tryingt to predict tensor([0.6088, 0.9253, 0.4145, 0.0000, 0.0000, 0.0000, 0.0000, 0.0000, 1.0000,\n",
            "        0.0000, 0.0000, 0.0059], device='cuda:0')\n",
            "predicted tensor([0.5239, 0.4941, 0.5805, 0.4131, 0.4417, 0.5509, 0.5110, 0.5843, 0.6296,\n",
            "        0.4706, 0.3945, 0.5402], device='cuda:0', grad_fn=<SigmoidBackward0>)\n",
            " \n",
            "tryingt to predict tensor([0.6088, 0.9253, 0.4099, 0.0000, 0.0000, 0.0000, 0.0000, 0.0000, 1.0000,\n",
            "        0.0000, 0.0000, 0.0049], device='cuda:0')\n",
            "predicted tensor([0.5239, 0.4941, 0.5805, 0.4131, 0.4417, 0.5509, 0.5110, 0.5843, 0.6296,\n",
            "        0.4706, 0.3945, 0.5402], device='cuda:0', grad_fn=<SigmoidBackward0>)\n",
            " \n",
            "tryingt to predict tensor([0.6088, 0.9253, 0.4062, 0.0000, 0.0000, 0.0000, 0.0000, 0.0000, 1.0000,\n",
            "        0.0000, 0.0000, 0.0042], device='cuda:0')\n",
            "predicted tensor([0.5239, 0.4941, 0.5805, 0.4131, 0.4417, 0.5509, 0.5110, 0.5843, 0.6296,\n",
            "        0.4706, 0.3945, 0.5402], device='cuda:0', grad_fn=<SigmoidBackward0>)\n",
            " \n",
            "tryingt to predict tensor([0.6088, 0.9253, 0.4029, 0.0000, 0.0000, 0.0000, 0.0000, 0.0000, 0.0000,\n",
            "        0.0000, 1.0000, 0.0000], device='cuda:0')\n",
            "predicted tensor([0.5239, 0.4941, 0.5805, 0.4131, 0.4417, 0.5509, 0.5110, 0.5843, 0.6296,\n",
            "        0.4706, 0.3945, 0.5402], device='cuda:0', grad_fn=<SigmoidBackward0>)\n",
            " \n"
          ]
        },
        {
          "output_type": "execute_result",
          "data": {
            "text/plain": [
              "[0.20403961837291718,\n",
              " 0.1847011297941208,\n",
              " 0.18773488700389862,\n",
              " 0.18910348415374756,\n",
              " 0.18987946212291718,\n",
              " 0.1903865784406662,\n",
              " 0.1907482147216797,\n",
              " 0.19102126359939575,\n",
              " 0.19123613834381104,\n",
              " 0.1914106011390686,\n",
              " 0.2310633659362793]"
            ]
          },
          "metadata": {},
          "execution_count": 29
        }
      ]
    },
    {
      "cell_type": "code",
      "execution_count": 11,
      "metadata": {
        "colab": {
          "base_uri": "https://localhost:8080/",
          "height": 534
        },
        "id": "zIm1EYMjO8KU",
        "outputId": "9a92e1dc-1a7b-4e53-8ef8-ed9caff57a46"
      },
      "outputs": [
        {
          "output_type": "stream",
          "name": "stdout",
          "text": [
            "0.06196266186658208\n"
          ]
        },
        {
          "output_type": "execute_result",
          "data": {
            "text/plain": [
              "(array([83.,  7.,  4.,  3.,  1.,  3.,  6.,  7., 11.,  6.]),\n",
              " array([0.02777645, 0.0410588 , 0.05434116, 0.06762351, 0.08090587,\n",
              "        0.09418823, 0.10747058, 0.12075294, 0.13403529, 0.14731765,\n",
              "        0.16060001]),\n",
              " <BarContainer object of 10 artists>)"
            ]
          },
          "metadata": {},
          "execution_count": 11
        },
        {
          "output_type": "display_data",
          "data": {
            "text/plain": [
              "<Figure size 640x480 with 1 Axes>"
            ],
            "image/png": "[encoded data removed]"
          },
          "metadata": {}
        }
      ],
      "source": [
        "losses=[]\n",
        "for trace in test_set:\n",
        "    losses.extend(evaluate(rnn,trace))\n",
        "    #print(losses)\n",
        "print(np.mean(losses))\n",
        "plt.hist(losses)"
      ]
    },
    {
      "cell_type": "code",
      "source": [
        "print(test_set[5])\n",
        "hidden=rnn.initHidden()\n",
        "rnn(test_set[5][0],hidden)"
      ],
      "metadata": {
        "colab": {
          "base_uri": "https://localhost:8080/"
        },
        "id": "rDuSNaRbghe1",
        "outputId": "4fcb2562-8591-4427-c586-8d39ee2142f2"
      },
      "execution_count": 13,
      "outputs": [
        {
          "output_type": "stream",
          "name": "stdout",
          "text": [
            "tensor([[0.8334, 0.9253, 0.6879, 0.0000, 0.0000, 0.0000, 0.0000, 0.0000, 1.0000,\n",
            "         0.0000, 0.0000, 0.2250],\n",
            "        [0.8334, 0.9253, 0.5150, 0.0000, 1.0000, 0.0000, 0.0000, 0.0000, 0.0000,\n",
            "         0.0000, 0.0000, 0.4956],\n",
            "        [0.6088, 0.9253, 0.5150, 0.0000, 0.0000, 0.0000, 0.0000, 0.0000, 1.0000,\n",
            "         0.0000, 0.0000, 0.0563],\n",
            "        [0.6088, 0.9253, 0.4717, 0.0000, 0.0000, 0.0000, 0.0000, 0.0000, 1.0000,\n",
            "         0.0000, 0.0000, 0.0281],\n",
            "        [0.6088, 0.9253, 0.4501, 0.0000, 0.0000, 0.0000, 0.0000, 0.0000, 1.0000,\n",
            "         0.0000, 0.0000, 0.0176],\n",
            "        [0.6088, 0.9253, 0.4366, 0.0000, 0.0000, 0.0000, 0.0000, 0.0000, 1.0000,\n",
            "         0.0000, 0.0000, 0.0123],\n",
            "        [0.6088, 0.9253, 0.4271, 0.0000, 0.0000, 0.0000, 0.0000, 0.0000, 1.0000,\n",
            "         0.0000, 0.0000, 0.0092],\n",
            "        [0.6088, 0.9253, 0.4200, 0.0000, 0.0000, 0.0000, 0.0000, 0.0000, 1.0000,\n",
            "         0.0000, 0.0000, 0.0073],\n",
            "        [0.6088, 0.9253, 0.4145, 0.0000, 0.0000, 0.0000, 0.0000, 0.0000, 1.0000,\n",
            "         0.0000, 0.0000, 0.0059],\n",
            "        [0.6088, 0.9253, 0.4099, 0.0000, 0.0000, 0.0000, 0.0000, 0.0000, 1.0000,\n",
            "         0.0000, 0.0000, 0.0049],\n",
            "        [0.6088, 0.9253, 0.4062, 0.0000, 0.0000, 0.0000, 0.0000, 0.0000, 1.0000,\n",
            "         0.0000, 0.0000, 0.0042],\n",
            "        [0.6088, 0.9253, 0.4029, 0.0000, 0.0000, 0.0000, 0.0000, 0.0000, 0.0000,\n",
            "         0.0000, 1.0000, 0.0000]], device='cuda:0')\n"
          ]
        },
        {
          "output_type": "execute_result",
          "data": {
            "text/plain": [
              "(tensor([ 0.2664,  0.6558,  0.3472,  0.2856,  0.0257,  0.0760, -0.0689,  0.0726,\n",
              "          0.4490,  0.0738, -0.1794,  0.0750], device='cuda:0',\n",
              "        grad_fn=<ViewBackward0>),\n",
              " tensor([ 0.1157, -0.1700,  0.2668,  0.0674,  0.1884, -0.3713,  0.3740, -0.1209,\n",
              "         -0.3581, -0.4019], device='cuda:0', grad_fn=<ViewBackward0>))"
            ]
          },
          "metadata": {},
          "execution_count": 13
        }
      ]
    },
    {
      "cell_type": "code",
      "source": [
        "def squared_error(input,target):\n",
        "  return torch.pow(input-target,2)"
      ],
      "metadata": {
        "id": "jlVhgQe8omlT"
      },
      "execution_count": 14,
      "outputs": []
    },
    {
      "cell_type": "code",
      "source": [
        "class CustomLoss(nn.Module):\n",
        "  def __init__(self):\n",
        "        super(CustomLoss, self).__init__()\n",
        "\n",
        "  def forward(self,input,target):\n",
        "    mse=(1/4)*(squared_error(input[0],target[0])+squared_error(input[1],target[1])+squared_error(input[2],target[2])+squared_error(input[-1],target[-1]))\n",
        "    l=torch.zeros(8)\n",
        "    for i in range(len(l)):\n",
        "      l[i]=-(target[i]*torch.log(input[i])+(1-target[i])*torch.log(1-input[i]))\n",
        "    bce=torch.mean(l)\n",
        "    return 0.5*mse+bce"
      ],
      "metadata": {
        "id": "xFb8uPF6nQEn"
      },
      "execution_count": 21,
      "outputs": []
    },
    {
      "cell_type": "code",
      "source": [
        "l=torch.zeros(3)\n",
        "l[1]=2\n",
        "l"
      ],
      "metadata": {
        "colab": {
          "base_uri": "https://localhost:8080/"
        },
        "id": "3LKXpP08qibC",
        "outputId": "8d30d11a-de90-4f06-bf75-29d3efb4a31c"
      },
      "execution_count": 12,
      "outputs": [
        {
          "output_type": "execute_result",
          "data": {
            "text/plain": [
              "tensor([0., 2., 0.])"
            ]
          },
          "metadata": {},
          "execution_count": 12
        }
      ]
    },
    {
      "cell_type": "code",
      "source": [
        "train_set[0]"
      ],
      "metadata": {
        "colab": {
          "base_uri": "https://localhost:8080/"
        },
        "id": "BqXtYQa08SQc",
        "outputId": "c26fe838-a773-4a58-8232-75e56324e926"
      },
      "execution_count": 8,
      "outputs": [
        {
          "output_type": "execute_result",
          "data": {
            "text/plain": [
              "tensor([[0.6102, 0.8874, 0.1609, 0.0000, 1.0000, 0.0000, 0.0000, 0.0000, 0.0000,\n",
              "         0.0000, 0.0000, 0.1765],\n",
              "        [0.5267, 0.8874, 0.1609, 0.0000, 0.0000, 0.0000, 0.0000, 0.0000, 0.0000,\n",
              "         1.0000, 0.0000, 0.0000]], device='cuda:0')"
            ]
          },
          "metadata": {},
          "execution_count": 8
        }
      ]
    },
    {
      "cell_type": "code",
      "source": [],
      "metadata": {
        "id": "5qGPiNmG8UIP"
      },
      "execution_count": null,
      "outputs": []
    }
  ],
  "metadata": {
    "kernelspec": {
      "display_name": "Python 3",
      "name": "python3"
    },
    "language_info": {
      "codemirror_mode": {
        "name": "ipython",
        "version": 3
      },
      "file_extension": ".py",
      "mimetype": "text/x-python",
      "name": "python",
      "nbconvert_exporter": "python",
      "pygments_lexer": "ipython3",
      "version": "3.12.2"
    },
    "colab": {
      "provenance": []
    }
  },
  "nbformat": 4,
  "nbformat_minor": 0
}