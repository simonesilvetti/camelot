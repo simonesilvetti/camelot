{
  "cells": [
    {
      "cell_type": "code",
      "execution_count": 1,
      "metadata": {
        "id": "ALRxIVdEO8KI"
      },
      "outputs": [],
      "source": [
        "import numpy as np\n",
        "import matplotlib.pyplot as plt\n",
        "import torch\n",
        "import torch.nn as nn\n",
        "import torch.optim as optim\n",
        "import pickle\n",
        "import pandas as pd\n",
        "from sklearn.model_selection import train_test_split\n",
        "from tqdm.auto import trange\n",
        "from torch.utils.data import Dataset,DataLoader"
      ]
    },
    {
      "cell_type": "code",
      "source": [
        "def get_default_device():\n",
        "    \"\"\"Pick GPU if available, else CPU\"\"\"\n",
        "    if torch.cuda.is_available():\n",
        "        return torch.device('cuda')\n",
        "    else:\n",
        "        return torch.device('cpu')\n",
        "\n",
        "device = get_default_device()"
      ],
      "metadata": {
        "id": "I_Q8hQdYVzmR"
      },
      "execution_count": null,
      "outputs": []
    },
    {
      "cell_type": "code",
      "source": [
        "dataset=pd.read_pickle('/content/integrators_next_state.pickle')"
      ],
      "metadata": {
        "id": "is7KqLtUWwLv"
      },
      "execution_count": 10,
      "outputs": []
    },
    {
      "cell_type": "code",
      "source": [
        "train_set,test_set=train_test_split(dataset,test_size=0.2,random_state=9)\n",
        "training_set,validation_set=train_test_split(train_set,test_size=0.2,random_state=9)"
      ],
      "metadata": {
        "id": "9zcORjmrBOjK"
      },
      "execution_count": 11,
      "outputs": []
    },
    {
      "cell_type": "code",
      "execution_count": 12,
      "metadata": {
        "id": "M4J-yQG1O8KO"
      },
      "outputs": [],
      "source": [
        "class RNN(nn.Module):\n",
        "    def __init__(self, input_size, hidden_size, output_size):\n",
        "        super(RNN, self).__init__()\n",
        "\n",
        "        self.hidden_size = hidden_size\n",
        "\n",
        "        self.i2h = nn.Linear(input_size + hidden_size, hidden_size)\n",
        "        self.relu1=nn.ReLU()\n",
        "        self.h2o = nn.Linear(hidden_size, output_size)\n",
        "        self.relu2=nn.ReLU()\n",
        "        self.fc = nn.Linear(output_size, output_size)\n",
        "\n",
        "    def forward(self, input, hidden):\n",
        "        combined = torch.cat((input, hidden))\n",
        "        hidden = self.relu1(self.i2h(combined))\n",
        "        output = self.relu2(self.h2o(hidden))\n",
        "        output = self.fc(output)\n",
        "        return output, hidden\n",
        "\n",
        "    def initHidden(self):\n",
        "        #return torch.zeros(self.hidden_size).to(device)\n",
        "        #return torch.rand(self.hidden_size).to(device)\n",
        "        return torch.rand(self.hidden_size)"
      ]
    },
    {
      "cell_type": "code",
      "execution_count": 13,
      "metadata": {
        "id": "3wiGXgINO8KQ"
      },
      "outputs": [],
      "source": [
        "EPOCHS   = 200\n",
        "learning_rate = 0.001 # If you set this too high, it might explode. If too low, it might not learn\n",
        "momentum=0.9\n",
        "batch_size=16\n",
        "regression_loss_function=nn.MSELoss()\n",
        "classification_loss_function=nn.CrossEntropyLoss()\n",
        "n_hidden = 12\n",
        "dimension=training_set[0][0].size(0)\n",
        "rnn = RNN(dimension,n_hidden,dimension)\n",
        "#rnn.to(device)\n",
        "optimizer=optim.SGD(rnn.parameters(),learning_rate)"
      ]
    },
    {
      "cell_type": "code",
      "source": [
        "training_losses=[]\n",
        "validation_losses=[]\n",
        "\n",
        "training_losses_class=[]\n",
        "validation_losses_class=[]\n",
        "\n",
        "training_losses_reg=[]\n",
        "validation_losses_reg=[]\n",
        "\n",
        "\n",
        "\n",
        "\n",
        "for epoch in trange(EPOCHS, desc=\"Training epoch\"):\n",
        "\n",
        "  rnn.train()\n",
        "\n",
        "  for batch_start in range(0, len(training_set), batch_size):\n",
        "    batch_end = min(batch_start + batch_size, len(training_set))\n",
        "    batch_traces = training_set[batch_start:batch_end]\n",
        "\n",
        "    optimizer.zero_grad()\n",
        "\n",
        "    for trace in batch_traces:\n",
        "      hidden = rnn.initHidden()\n",
        "      for i in range(len(trace) - 1):\n",
        "        output, hidden = rnn(trace[i], hidden)\n",
        "        hidden = hidden.clone().detach()\n",
        "\n",
        "        # Calculate losses for regression and classification\n",
        "        regression_output=output[:4]\n",
        "        regression_correct=trace[i+1][:4]\n",
        "\n",
        "        classification_output=output[4:]\n",
        "        classification_correct=trace[i+1][4:]\n",
        "\n",
        "\n",
        "        loss_regression = regression_loss_function(regression_output, regression_correct)\n",
        "        loss_classification = classification_loss_function(classification_output, classification_correct)\n",
        "\n",
        "        loss = loss_regression + 0.1*loss_classification\n",
        "\n",
        "        # Accumulate gradients\n",
        "        loss.backward()\n",
        "\n",
        "    # Update parameters based on accumulated gradients for the entire batch\n",
        "    optimizer.step()\n",
        "\n",
        "  rnn.eval()\n",
        "  with torch.no_grad():\n",
        "\n",
        "    training_loss=0\n",
        "    validation_loss=0\n",
        "\n",
        "    training_loss_reg=0\n",
        "    validation_loss_reg=0\n",
        "\n",
        "    training_loss_class=0\n",
        "    validation_loss_class=0\n",
        "\n",
        "    num_elem_training=0\n",
        "    num_elem_validation=0\n",
        "\n",
        "    for trace in training_set:\n",
        "      hidden = rnn.initHidden()\n",
        "      for i in range(len(trace) - 1):\n",
        "        output, hidden = rnn(trace[i], hidden)\n",
        "        hidden = hidden.clone().detach()\n",
        "\n",
        "        # Calculate losses for regression and classification\n",
        "        regression_output=output[:4]\n",
        "        regression_correct=trace[i+1][:4]\n",
        "\n",
        "        classification_output=output[4:]\n",
        "        classification_correct=trace[i+1][4:]\n",
        "\n",
        "\n",
        "        loss_regression = regression_loss_function(regression_output, regression_correct).item()\n",
        "        loss_classification = classification_loss_function(classification_output, classification_correct).item()\n",
        "\n",
        "        training_loss += loss_regression + 0.1*loss_classification\n",
        "        training_loss_reg += loss_regression\n",
        "        training_loss_class += loss_classification\n",
        "        num_elem_training+=1\n",
        "    training_losses.append(training_loss/num_elem_training)\n",
        "    training_losses_reg.append(training_loss_reg/num_elem_training)\n",
        "    training_losses_class.append(training_loss_class/num_elem_training)\n",
        "\n",
        "\n",
        "    for trace in validation_set:\n",
        "      hidden = rnn.initHidden()\n",
        "      for i in range(len(trace) - 1):\n",
        "        output, hidden = rnn(trace[i], hidden)\n",
        "        hidden = hidden.clone().detach()\n",
        "\n",
        "        # Calculate losses for regression and classification\n",
        "        regression_output=output[:4]\n",
        "        regression_correct=trace[i+1][:4]\n",
        "\n",
        "        classification_output=output[4:]\n",
        "        classification_correct=trace[i+1][4:]\n",
        "\n",
        "\n",
        "        loss_regression = regression_loss_function(regression_output, regression_correct).item()\n",
        "        loss_classification = classification_loss_function(classification_output, classification_correct).item()\n",
        "\n",
        "        validation_loss += loss_regression + 0.1*loss_classification\n",
        "        validation_loss_reg += loss_regression\n",
        "        validation_loss_class += loss_classification\n",
        "        num_elem_validation+=1\n",
        "    validation_losses.append(validation_loss/num_elem_validation)\n",
        "    validation_losses_reg.append(validation_loss_reg/num_elem_validation)\n",
        "    validation_losses_class.append(validation_loss_class/num_elem_validation)\n"
      ],
      "metadata": {
        "colab": {
          "base_uri": "https://localhost:8080/",
          "height": 49,
          "referenced_widgets": [
            "26f22e27011443f7841f88c17a80597e",
            "49dadf2384cd43fd919f391bb02f7284",
            "e1b94f3370934ad7913deaca7e8ad66e",
            "d2a8cb16c2d641da9049d160c66cd90b",
            "7728ac4f61f3420792b836253d6c22f5",
            "45568e5bfabd4491b982cc75654ce595",
            "e1feb08ae9304bd49595019ff5b25fc0",
            "070fdb25d384449d90ca88ad63278281",
            "d61daa68503f46de98a72e9c5b2ab69c",
            "50aeff9ef4264064819e083346308328",
            "59780d5c2d7047858efb0866e1908f6b"
          ]
        },
        "id": "f0a7eKLV9yvi",
        "outputId": "8b08fdc2-7c65-4009-fdc1-7ce4b3344c30"
      },
      "execution_count": 14,
      "outputs": [
        {
          "output_type": "display_data",
          "data": {
            "text/plain": [
              "Training epoch:   0%|          | 0/200 [00:00<?, ?it/s]"
            ],
            "application/vnd.jupyter.widget-view+json": {
              "version_major": 2,
              "version_minor": 0,
              "model_id": "26f22e27011443f7841f88c17a80597e"
            }
          },
          "metadata": {}
        }
      ]
    },
    {
      "cell_type": "code",
      "source": [
        "plt.plot(training_losses,label='Training')\n",
        "plt.plot(validation_losses,label='Validation')\n",
        "plt.legend()"
      ],
      "metadata": {
        "colab": {
          "base_uri": "https://localhost:8080/",
          "height": 447
        },
        "id": "o6kgsfwSCaBu",
        "outputId": "77981ef7-df5a-4954-8b33-8c59b3ab9317"
      },
      "execution_count": 15,
      "outputs": [
        {
          "output_type": "execute_result",
          "data": {
            "text/plain": [
              "<matplotlib.legend.Legend at 0x78f9fb52bbe0>"
            ]
          },
          "metadata": {},
          "execution_count": 15
        },
        {
          "output_type": "display_data",
          "data": {
            "text/plain": [
              "<Figure size 640x480 with 1 Axes>"
            ],
            "image/png": "[encoded data removed]"
          },
          "metadata": {}
        }
      ]
    },
    {
      "cell_type": "code",
      "source": [
        "plt.plot(training_losses_reg,label='Training')\n",
        "plt.plot(validation_losses_reg,label='Validation')\n",
        "plt.legend()"
      ],
      "metadata": {
        "id": "bWKZKCmHEHOM",
        "outputId": "df03019c-a655-41fd-e47f-80af44e269e3",
        "colab": {
          "base_uri": "https://localhost:8080/",
          "height": 447
        }
      },
      "execution_count": 16,
      "outputs": [
        {
          "output_type": "execute_result",
          "data": {
            "text/plain": [
              "<matplotlib.legend.Legend at 0x78f9fb4487f0>"
            ]
          },
          "metadata": {},
          "execution_count": 16
        },
        {
          "output_type": "display_data",
          "data": {
            "text/plain": [
              "<Figure size 640x480 with 1 Axes>"
            ],
            "image/png": "[encoded data removed]"
          },
          "metadata": {}
        }
      ]
    },
    {
      "cell_type": "code",
      "source": [
        "plt.plot(training_losses_class,label='Training')\n",
        "plt.plot(validation_losses_class,label='Validation')\n",
        "plt.legend()"
      ],
      "metadata": {
        "id": "v7EC1STyEKxH",
        "outputId": "7cacfcd7-87a2-422f-e60e-e89983a12250",
        "colab": {
          "base_uri": "https://localhost:8080/",
          "height": 447
        }
      },
      "execution_count": 17,
      "outputs": [
        {
          "output_type": "execute_result",
          "data": {
            "text/plain": [
              "<matplotlib.legend.Legend at 0x78f9fb575c90>"
            ]
          },
          "metadata": {},
          "execution_count": 17
        },
        {
          "output_type": "display_data",
          "data": {
            "text/plain": [
              "<Figure size 640x480 with 1 Axes>"
            ],
            "image/png": "[encoded data removed]"
          },
          "metadata": {}
        }
      ]
    },
    {
      "cell_type": "code",
      "execution_count": 18,
      "metadata": {
        "id": "0Jpobn1mO8KT"
      },
      "outputs": [],
      "source": [
        "def evaluate(nn,trace):\n",
        "    losses_regression=[]\n",
        "    correct=0\n",
        "    hidden = nn.initHidden()\n",
        "    for i in range(len(trace)-1):\n",
        "        output,hidden=nn(trace[i],hidden)\n",
        "\n",
        "        regression_output=output[:4]\n",
        "        regression_correct=trace[i+1][:4]\n",
        "\n",
        "        classification_output=torch.argmax(output[4:])\n",
        "        classification_correct=torch.argmax(trace[i+1][4:])\n",
        "\n",
        "        loss_regression=regression_loss_function(regression_output,regression_correct)\n",
        "        losses_regression.append(loss_regression.item())\n",
        "\n",
        "        if classification_output==classification_correct:\n",
        "          correct+=1\n",
        "\n",
        "    return losses_regression,correct\n"
      ]
    },
    {
      "cell_type": "code",
      "execution_count": 19,
      "metadata": {
        "colab": {
          "base_uri": "https://localhost:8080/",
          "height": 1000
        },
        "id": "zIm1EYMjO8KU",
        "outputId": "c1b76a3a-8bbd-46ee-8473-f9a728ca8ba2"
      },
      "outputs": [
        {
          "output_type": "stream",
          "name": "stdout",
          "text": [
            "Accuracy is 73.5631138595853%\n",
            "Mean loss is 0.0011926509029854342\n"
          ]
        },
        {
          "output_type": "execute_result",
          "data": {
            "text/plain": [
              "(array([9.394e+03, 9.540e+02, 1.950e+02, 9.900e+01, 6.600e+01, 3.800e+01,\n",
              "        1.600e+01, 4.000e+01, 2.300e+01, 2.400e+01, 2.000e+01, 1.000e+01,\n",
              "        1.600e+01, 1.100e+01, 8.000e+00, 8.000e+00, 8.000e+00, 6.000e+00,\n",
              "        9.000e+00, 6.000e+00, 2.000e+00, 4.000e+00, 5.000e+00, 5.000e+00,\n",
              "        2.000e+00, 3.000e+00, 0.000e+00, 0.000e+00, 0.000e+00, 1.000e+00,\n",
              "        1.000e+00, 0.000e+00, 2.000e+00, 1.000e+00, 1.000e+00, 0.000e+00,\n",
              "        3.000e+00, 0.000e+00, 1.000e+00, 1.000e+00, 0.000e+00, 0.000e+00,\n",
              "        2.000e+00, 0.000e+00, 1.000e+00, 0.000e+00, 0.000e+00, 0.000e+00,\n",
              "        1.000e+00, 0.000e+00, 1.000e+00, 1.000e+00, 1.000e+00, 0.000e+00,\n",
              "        0.000e+00, 0.000e+00, 1.000e+00, 0.000e+00, 0.000e+00, 1.000e+00,\n",
              "        1.000e+00, 0.000e+00, 1.000e+00, 0.000e+00, 0.000e+00, 0.000e+00,\n",
              "        0.000e+00, 0.000e+00, 0.000e+00, 0.000e+00, 0.000e+00, 0.000e+00,\n",
              "        0.000e+00, 0.000e+00, 0.000e+00, 0.000e+00, 0.000e+00, 0.000e+00,\n",
              "        0.000e+00, 0.000e+00, 0.000e+00, 0.000e+00, 0.000e+00, 0.000e+00,\n",
              "        0.000e+00, 0.000e+00, 0.000e+00, 0.000e+00, 1.000e+00, 0.000e+00,\n",
              "        0.000e+00, 0.000e+00, 0.000e+00, 0.000e+00, 0.000e+00, 0.000e+00,\n",
              "        0.000e+00, 0.000e+00, 0.000e+00, 1.000e+00]),\n",
              " array([6.15598901e-06, 1.42109365e-03, 2.83603130e-03, 4.25096896e-03,\n",
              "        5.66590662e-03, 7.08084427e-03, 8.49578193e-03, 9.91071959e-03,\n",
              "        1.13256572e-02, 1.27405949e-02, 1.41555326e-02, 1.55704702e-02,\n",
              "        1.69854079e-02, 1.84003455e-02, 1.98152832e-02, 2.12302208e-02,\n",
              "        2.26451585e-02, 2.40600962e-02, 2.54750338e-02, 2.68899715e-02,\n",
              "        2.83049091e-02, 2.97198468e-02, 3.11347844e-02, 3.25497221e-02,\n",
              "        3.39646598e-02, 3.53795974e-02, 3.67945351e-02, 3.82094727e-02,\n",
              "        3.96244104e-02, 4.10393480e-02, 4.24542857e-02, 4.38692234e-02,\n",
              "        4.52841610e-02, 4.66990987e-02, 4.81140363e-02, 4.95289740e-02,\n",
              "        5.09439116e-02, 5.23588493e-02, 5.37737870e-02, 5.51887246e-02,\n",
              "        5.66036623e-02, 5.80185999e-02, 5.94335376e-02, 6.08484752e-02,\n",
              "        6.22634129e-02, 6.36783505e-02, 6.50932882e-02, 6.65082259e-02,\n",
              "        6.79231635e-02, 6.93381012e-02, 7.07530388e-02, 7.21679765e-02,\n",
              "        7.35829141e-02, 7.49978518e-02, 7.64127895e-02, 7.78277271e-02,\n",
              "        7.92426648e-02, 8.06576024e-02, 8.20725401e-02, 8.34874777e-02,\n",
              "        8.49024154e-02, 8.63173531e-02, 8.77322907e-02, 8.91472284e-02,\n",
              "        9.05621660e-02, 9.19771037e-02, 9.33920413e-02, 9.48069790e-02,\n",
              "        9.62219167e-02, 9.76368543e-02, 9.90517920e-02, 1.00466730e-01,\n",
              "        1.01881667e-01, 1.03296605e-01, 1.04711543e-01, 1.06126480e-01,\n",
              "        1.07541418e-01, 1.08956356e-01, 1.10371293e-01, 1.11786231e-01,\n",
              "        1.13201169e-01, 1.14616106e-01, 1.16031044e-01, 1.17445982e-01,\n",
              "        1.18860919e-01, 1.20275857e-01, 1.21690794e-01, 1.23105732e-01,\n",
              "        1.24520670e-01, 1.25935607e-01, 1.27350545e-01, 1.28765483e-01,\n",
              "        1.30180420e-01, 1.31595358e-01, 1.33010296e-01, 1.34425233e-01,\n",
              "        1.35840171e-01, 1.37255109e-01, 1.38670046e-01, 1.40084984e-01,\n",
              "        1.41499922e-01]),\n",
              " <BarContainer object of 100 artists>)"
            ]
          },
          "metadata": {},
          "execution_count": 19
        },
        {
          "output_type": "display_data",
          "data": {
            "text/plain": [
              "<Figure size 640x480 with 1 Axes>"
            ],
            "image/png": "[encoded data removed]"
          },
          "metadata": {}
        }
      ],
      "source": [
        "losses=[]\n",
        "correct=0\n",
        "tot=0\n",
        "for trace in test_set:\n",
        "    trace_losses,trace_correct=evaluate(rnn,trace)\n",
        "    losses.extend(trace_losses)\n",
        "    correct+=trace_correct\n",
        "    tot+=len(trace)-1\n",
        "\n",
        "print(f\"Accuracy is {(correct/tot)*100}%\" )\n",
        "print(f\"Mean loss is {np.mean(losses)}\")\n",
        "plt.hist(losses,bins=100)"
      ]
    },
    {
      "cell_type": "code",
      "source": [
        "losses=[]\n",
        "correct=0\n",
        "tot=0\n",
        "for trace in training_set:\n",
        "    trace_losses,trace_correct=evaluate(rnn,trace)\n",
        "    losses.extend(trace_losses)\n",
        "    correct+=trace_correct\n",
        "    tot+=len(trace)-1\n",
        "\n",
        "print(f\"Accuracy is {(correct/tot)*100}%\" )\n",
        "print(f\"Mean loss is {np.mean(losses)}\")\n",
        "plt.hist(losses,bins=100)"
      ],
      "metadata": {
        "id": "I_H4ALWvDSeJ",
        "outputId": "d8ac90ff-bfe0-4b09-b256-6f30e830f76e",
        "colab": {
          "base_uri": "https://localhost:8080/",
          "height": 1000
        }
      },
      "execution_count": 20,
      "outputs": [
        {
          "output_type": "stream",
          "name": "stdout",
          "text": [
            "Accuracy is 73.45290962569929%\n",
            "Mean loss is 0.001215997124935024\n"
          ]
        },
        {
          "output_type": "execute_result",
          "data": {
            "text/plain": [
              "(array([3.2159e+04, 1.1860e+03, 3.8700e+02, 2.2400e+02, 1.5700e+02,\n",
              "        1.0100e+02, 6.9000e+01, 7.8000e+01, 4.3000e+01, 4.6000e+01,\n",
              "        3.4000e+01, 1.7000e+01, 1.8000e+01, 2.2000e+01, 1.9000e+01,\n",
              "        1.0000e+01, 1.3000e+01, 1.0000e+01, 1.1000e+01, 5.0000e+00,\n",
              "        7.0000e+00, 6.0000e+00, 6.0000e+00, 2.0000e+00, 7.0000e+00,\n",
              "        2.0000e+00, 2.0000e+00, 0.0000e+00, 4.0000e+00, 3.0000e+00,\n",
              "        4.0000e+00, 1.0000e+00, 2.0000e+00, 1.0000e+00, 4.0000e+00,\n",
              "        0.0000e+00, 0.0000e+00, 1.0000e+00, 4.0000e+00, 0.0000e+00,\n",
              "        0.0000e+00, 2.0000e+00, 1.0000e+00, 0.0000e+00, 2.0000e+00,\n",
              "        2.0000e+00, 2.0000e+00, 0.0000e+00, 1.0000e+00, 0.0000e+00,\n",
              "        1.0000e+00, 0.0000e+00, 0.0000e+00, 0.0000e+00, 0.0000e+00,\n",
              "        1.0000e+00, 0.0000e+00, 0.0000e+00, 0.0000e+00, 0.0000e+00,\n",
              "        0.0000e+00, 0.0000e+00, 0.0000e+00, 0.0000e+00, 0.0000e+00,\n",
              "        0.0000e+00, 0.0000e+00, 0.0000e+00, 0.0000e+00, 0.0000e+00,\n",
              "        0.0000e+00, 0.0000e+00, 0.0000e+00, 0.0000e+00, 0.0000e+00,\n",
              "        0.0000e+00, 0.0000e+00, 0.0000e+00, 0.0000e+00, 0.0000e+00,\n",
              "        0.0000e+00, 0.0000e+00, 0.0000e+00, 0.0000e+00, 0.0000e+00,\n",
              "        0.0000e+00, 0.0000e+00, 0.0000e+00, 0.0000e+00, 0.0000e+00,\n",
              "        0.0000e+00, 0.0000e+00, 0.0000e+00, 0.0000e+00, 0.0000e+00,\n",
              "        0.0000e+00, 0.0000e+00, 0.0000e+00, 0.0000e+00, 1.0000e+00]),\n",
              " array([5.93631967e-06, 2.37333709e-03, 4.74073786e-03, 7.10813863e-03,\n",
              "        9.47553939e-03, 1.18429402e-02, 1.42103409e-02, 1.65777417e-02,\n",
              "        1.89451425e-02, 2.13125432e-02, 2.36799440e-02, 2.60473448e-02,\n",
              "        2.84147455e-02, 3.07821463e-02, 3.31495471e-02, 3.55169478e-02,\n",
              "        3.78843486e-02, 4.02517494e-02, 4.26191502e-02, 4.49865509e-02,\n",
              "        4.73539517e-02, 4.97213525e-02, 5.20887532e-02, 5.44561540e-02,\n",
              "        5.68235548e-02, 5.91909555e-02, 6.15583563e-02, 6.39257571e-02,\n",
              "        6.62931578e-02, 6.86605586e-02, 7.10279594e-02, 7.33953601e-02,\n",
              "        7.57627609e-02, 7.81301617e-02, 8.04975624e-02, 8.28649632e-02,\n",
              "        8.52323640e-02, 8.75997648e-02, 8.99671655e-02, 9.23345663e-02,\n",
              "        9.47019671e-02, 9.70693678e-02, 9.94367686e-02, 1.01804169e-01,\n",
              "        1.04171570e-01, 1.06538971e-01, 1.08906372e-01, 1.11273772e-01,\n",
              "        1.13641173e-01, 1.16008574e-01, 1.18375975e-01, 1.20743376e-01,\n",
              "        1.23110776e-01, 1.25478177e-01, 1.27845578e-01, 1.30212979e-01,\n",
              "        1.32580379e-01, 1.34947780e-01, 1.37315181e-01, 1.39682582e-01,\n",
              "        1.42049982e-01, 1.44417383e-01, 1.46784784e-01, 1.49152185e-01,\n",
              "        1.51519586e-01, 1.53886986e-01, 1.56254387e-01, 1.58621788e-01,\n",
              "        1.60989189e-01, 1.63356589e-01, 1.65723990e-01, 1.68091391e-01,\n",
              "        1.70458792e-01, 1.72826192e-01, 1.75193593e-01, 1.77560994e-01,\n",
              "        1.79928395e-01, 1.82295795e-01, 1.84663196e-01, 1.87030597e-01,\n",
              "        1.89397998e-01, 1.91765399e-01, 1.94132799e-01, 1.96500200e-01,\n",
              "        1.98867601e-01, 2.01235002e-01, 2.03602402e-01, 2.05969803e-01,\n",
              "        2.08337204e-01, 2.10704605e-01, 2.13072005e-01, 2.15439406e-01,\n",
              "        2.17806807e-01, 2.20174208e-01, 2.22541609e-01, 2.24909009e-01,\n",
              "        2.27276410e-01, 2.29643811e-01, 2.32011212e-01, 2.34378612e-01,\n",
              "        2.36746013e-01]),\n",
              " <BarContainer object of 100 artists>)"
            ]
          },
          "metadata": {},
          "execution_count": 20
        },
        {
          "output_type": "display_data",
          "data": {
            "text/plain": [
              "<Figure size 640x480 with 1 Axes>"
            ],
            "image/png": "[encoded data removed]"
          },
          "metadata": {}
        }
      ]
    },
    {
      "cell_type": "code",
      "source": [
        "losses=[]\n",
        "correct=0\n",
        "tot=0\n",
        "for trace in validation_set:\n",
        "    trace_losses,trace_correct=evaluate(rnn,trace)\n",
        "    losses.extend(trace_losses)\n",
        "    correct+=trace_correct\n",
        "    tot+=len(trace)-1\n",
        "\n",
        "print(f\"Accuracy is {(correct/tot)*100}%\" )\n",
        "print(f\"Mean loss is {np.mean(losses)}\")\n",
        "plt.hist(losses,bins=100)"
      ],
      "metadata": {
        "id": "FjkUw9UzDVVd",
        "outputId": "afb65818-18c4-4ab5-b10a-51e4d5d84e9a",
        "colab": {
          "base_uri": "https://localhost:8080/",
          "height": 1000
        }
      },
      "execution_count": 21,
      "outputs": [
        {
          "output_type": "stream",
          "name": "stdout",
          "text": [
            "Accuracy is 72.89309628261371%\n",
            "Mean loss is 0.0011169349159218217\n"
          ]
        },
        {
          "output_type": "execute_result",
          "data": {
            "text/plain": [
              "(array([7.182e+03, 8.260e+02, 2.440e+02, 9.500e+01, 6.300e+01, 4.300e+01,\n",
              "        2.400e+01, 2.700e+01, 1.300e+01, 1.700e+01, 1.600e+01, 9.000e+00,\n",
              "        6.000e+00, 7.000e+00, 1.400e+01, 8.000e+00, 7.000e+00, 4.000e+00,\n",
              "        4.000e+00, 8.000e+00, 2.000e+00, 4.000e+00, 0.000e+00, 4.000e+00,\n",
              "        2.000e+00, 3.000e+00, 2.000e+00, 5.000e+00, 1.000e+00, 0.000e+00,\n",
              "        1.000e+00, 2.000e+00, 2.000e+00, 3.000e+00, 1.000e+00, 1.000e+00,\n",
              "        0.000e+00, 0.000e+00, 2.000e+00, 0.000e+00, 0.000e+00, 0.000e+00,\n",
              "        1.000e+00, 1.000e+00, 1.000e+00, 0.000e+00, 0.000e+00, 1.000e+00,\n",
              "        0.000e+00, 0.000e+00, 0.000e+00, 1.000e+00, 0.000e+00, 1.000e+00,\n",
              "        0.000e+00, 0.000e+00, 1.000e+00, 0.000e+00, 0.000e+00, 0.000e+00,\n",
              "        0.000e+00, 0.000e+00, 0.000e+00, 0.000e+00, 0.000e+00, 0.000e+00,\n",
              "        1.000e+00, 0.000e+00, 0.000e+00, 1.000e+00, 0.000e+00, 0.000e+00,\n",
              "        0.000e+00, 0.000e+00, 0.000e+00, 0.000e+00, 0.000e+00, 0.000e+00,\n",
              "        0.000e+00, 0.000e+00, 0.000e+00, 0.000e+00, 0.000e+00, 0.000e+00,\n",
              "        0.000e+00, 0.000e+00, 0.000e+00, 0.000e+00, 0.000e+00, 0.000e+00,\n",
              "        0.000e+00, 0.000e+00, 0.000e+00, 0.000e+00, 0.000e+00, 0.000e+00,\n",
              "        0.000e+00, 0.000e+00, 0.000e+00, 1.000e+00]),\n",
              " array([1.97167701e-05, 1.19003279e-03, 2.36034880e-03, 3.53066482e-03,\n",
              "        4.70098083e-03, 5.87129685e-03, 7.04161286e-03, 8.21192888e-03,\n",
              "        9.38224489e-03, 1.05525609e-02, 1.17228769e-02, 1.28931929e-02,\n",
              "        1.40635090e-02, 1.52338250e-02, 1.64041410e-02, 1.75744570e-02,\n",
              "        1.87447730e-02, 1.99150890e-02, 2.10854050e-02, 2.22557211e-02,\n",
              "        2.34260371e-02, 2.45963531e-02, 2.57666691e-02, 2.69369851e-02,\n",
              "        2.81073011e-02, 2.92776171e-02, 3.04479332e-02, 3.16182492e-02,\n",
              "        3.27885652e-02, 3.39588812e-02, 3.51291972e-02, 3.62995132e-02,\n",
              "        3.74698293e-02, 3.86401453e-02, 3.98104613e-02, 4.09807773e-02,\n",
              "        4.21510933e-02, 4.33214093e-02, 4.44917253e-02, 4.56620414e-02,\n",
              "        4.68323574e-02, 4.80026734e-02, 4.91729894e-02, 5.03433054e-02,\n",
              "        5.15136214e-02, 5.26839375e-02, 5.38542535e-02, 5.50245695e-02,\n",
              "        5.61948855e-02, 5.73652015e-02, 5.85355175e-02, 5.97058335e-02,\n",
              "        6.08761496e-02, 6.20464656e-02, 6.32167816e-02, 6.43870976e-02,\n",
              "        6.55574136e-02, 6.67277296e-02, 6.78980457e-02, 6.90683617e-02,\n",
              "        7.02386777e-02, 7.14089937e-02, 7.25793097e-02, 7.37496257e-02,\n",
              "        7.49199417e-02, 7.60902578e-02, 7.72605738e-02, 7.84308898e-02,\n",
              "        7.96012058e-02, 8.07715218e-02, 8.19418378e-02, 8.31121538e-02,\n",
              "        8.42824699e-02, 8.54527859e-02, 8.66231019e-02, 8.77934179e-02,\n",
              "        8.89637339e-02, 9.01340499e-02, 9.13043660e-02, 9.24746820e-02,\n",
              "        9.36449980e-02, 9.48153140e-02, 9.59856300e-02, 9.71559460e-02,\n",
              "        9.83262620e-02, 9.94965781e-02, 1.00666894e-01, 1.01837210e-01,\n",
              "        1.03007526e-01, 1.04177842e-01, 1.05348158e-01, 1.06518474e-01,\n",
              "        1.07688790e-01, 1.08859106e-01, 1.10029422e-01, 1.11199738e-01,\n",
              "        1.12370054e-01, 1.13540370e-01, 1.14710686e-01, 1.15881002e-01,\n",
              "        1.17051318e-01]),\n",
              " <BarContainer object of 100 artists>)"
            ]
          },
          "metadata": {},
          "execution_count": 21
        },
        {
          "output_type": "display_data",
          "data": {
            "text/plain": [
              "<Figure size 640x480 with 1 Axes>"
            ],
            "image/png": "[encoded data removed]"
          },
          "metadata": {}
        }
      ]
    }
  ],
  "metadata": {
    "kernelspec": {
      "display_name": "Python 3",
      "name": "python3"
    },
    "language_info": {
      "codemirror_mode": {
        "name": "ipython",
        "version": 3
      },
      "file_extension": ".py",
      "mimetype": "text/x-python",
      "name": "python",
      "nbconvert_exporter": "python",
      "pygments_lexer": "ipython3",
      "version": "3.12.2"
    },
    "colab": {
      "provenance": []
    },
    "widgets": {
      "application/vnd.jupyter.widget-state+json": {
        "26f22e27011443f7841f88c17a80597e": {
          "model_module": "@jupyter-widgets/controls",
          "model_name": "HBoxModel",
          "model_module_version": "1.5.0",
          "state": {
            "_dom_classes": [],
            "_model_module": "@jupyter-widgets/controls",
            "_model_module_version": "1.5.0",
            "_model_name": "HBoxModel",
            "_view_count": null,
            "_view_module": "@jupyter-widgets/controls",
            "_view_module_version": "1.5.0",
            "_view_name": "HBoxView",
            "box_style": "",
            "children": [
              "IPY_MODEL_49dadf2384cd43fd919f391bb02f7284",
              "IPY_MODEL_e1b94f3370934ad7913deaca7e8ad66e",
              "IPY_MODEL_d2a8cb16c2d641da9049d160c66cd90b"
            ],
            "layout": "IPY_MODEL_7728ac4f61f3420792b836253d6c22f5"
          }
        },
        "49dadf2384cd43fd919f391bb02f7284": {
          "model_module": "@jupyter-widgets/controls",
          "model_name": "HTMLModel",
          "model_module_version": "1.5.0",
          "state": {
            "_dom_classes": [],
            "_model_module": "@jupyter-widgets/controls",
            "_model_module_version": "1.5.0",
            "_model_name": "HTMLModel",
            "_view_count": null,
            "_view_module": "@jupyter-widgets/controls",
            "_view_module_version": "1.5.0",
            "_view_name": "HTMLView",
            "description": "",
            "description_tooltip": null,
            "layout": "IPY_MODEL_45568e5bfabd4491b982cc75654ce595",
            "placeholder": "​",
            "style": "IPY_MODEL_e1feb08ae9304bd49595019ff5b25fc0",
            "value": "Training epoch: 100%"
          }
        },
        "e1b94f3370934ad7913deaca7e8ad66e": {
          "model_module": "@jupyter-widgets/controls",
          "model_name": "FloatProgressModel",
          "model_module_version": "1.5.0",
          "state": {
            "_dom_classes": [],
            "_model_module": "@jupyter-widgets/controls",
            "_model_module_version": "1.5.0",
            "_model_name": "FloatProgressModel",
            "_view_count": null,
            "_view_module": "@jupyter-widgets/controls",
            "_view_module_version": "1.5.0",
            "_view_name": "ProgressView",
            "bar_style": "success",
            "description": "",
            "description_tooltip": null,
            "layout": "IPY_MODEL_070fdb25d384449d90ca88ad63278281",
            "max": 200,
            "min": 0,
            "orientation": "horizontal",
            "style": "IPY_MODEL_d61daa68503f46de98a72e9c5b2ab69c",
            "value": 200
          }
        },
        "d2a8cb16c2d641da9049d160c66cd90b": {
          "model_module": "@jupyter-widgets/controls",
          "model_name": "HTMLModel",
          "model_module_version": "1.5.0",
          "state": {
            "_dom_classes": [],
            "_model_module": "@jupyter-widgets/controls",
            "_model_module_version": "1.5.0",
            "_model_name": "HTMLModel",
            "_view_count": null,
            "_view_module": "@jupyter-widgets/controls",
            "_view_module_version": "1.5.0",
            "_view_name": "HTMLView",
            "description": "",
            "description_tooltip": null,
            "layout": "IPY_MODEL_50aeff9ef4264064819e083346308328",
            "placeholder": "​",
            "style": "IPY_MODEL_59780d5c2d7047858efb0866e1908f6b",
            "value": " 200/200 [2:06:00&lt;00:00, 37.71s/it]"
          }
        },
        "7728ac4f61f3420792b836253d6c22f5": {
          "model_module": "@jupyter-widgets/base",
          "model_name": "LayoutModel",
          "model_module_version": "1.2.0",
          "state": {
            "_model_module": "@jupyter-widgets/base",
            "_model_module_version": "1.2.0",
            "_model_name": "LayoutModel",
            "_view_count": null,
            "_view_module": "@jupyter-widgets/base",
            "_view_module_version": "1.2.0",
            "_view_name": "LayoutView",
            "align_content": null,
            "align_items": null,
            "align_self": null,
            "border": null,
            "bottom": null,
            "display": null,
            "flex": null,
            "flex_flow": null,
            "grid_area": null,
            "grid_auto_columns": null,
            "grid_auto_flow": null,
            "grid_auto_rows": null,
            "grid_column": null,
            "grid_gap": null,
            "grid_row": null,
            "grid_template_areas": null,
            "grid_template_columns": null,
            "grid_template_rows": null,
            "height": null,
            "justify_content": null,
            "justify_items": null,
            "left": null,
            "margin": null,
            "max_height": null,
            "max_width": null,
            "min_height": null,
            "min_width": null,
            "object_fit": null,
            "object_position": null,
            "order": null,
            "overflow": null,
            "overflow_x": null,
            "overflow_y": null,
            "padding": null,
            "right": null,
            "top": null,
            "visibility": null,
            "width": null
          }
        },
        "45568e5bfabd4491b982cc75654ce595": {
          "model_module": "@jupyter-widgets/base",
          "model_name": "LayoutModel",
          "model_module_version": "1.2.0",
          "state": {
            "_model_module": "@jupyter-widgets/base",
            "_model_module_version": "1.2.0",
            "_model_name": "LayoutModel",
            "_view_count": null,
            "_view_module": "@jupyter-widgets/base",
            "_view_module_version": "1.2.0",
            "_view_name": "LayoutView",
            "align_content": null,
            "align_items": null,
            "align_self": null,
            "border": null,
            "bottom": null,
            "display": null,
            "flex": null,
            "flex_flow": null,
            "grid_area": null,
            "grid_auto_columns": null,
            "grid_auto_flow": null,
            "grid_auto_rows": null,
            "grid_column": null,
            "grid_gap": null,
            "grid_row": null,
            "grid_template_areas": null,
            "grid_template_columns": null,
            "grid_template_rows": null,
            "height": null,
            "justify_content": null,
            "justify_items": null,
            "left": null,
            "margin": null,
            "max_height": null,
            "max_width": null,
            "min_height": null,
            "min_width": null,
            "object_fit": null,
            "object_position": null,
            "order": null,
            "overflow": null,
            "overflow_x": null,
            "overflow_y": null,
            "padding": null,
            "right": null,
            "top": null,
            "visibility": null,
            "width": null
          }
        },
        "e1feb08ae9304bd49595019ff5b25fc0": {
          "model_module": "@jupyter-widgets/controls",
          "model_name": "DescriptionStyleModel",
          "model_module_version": "1.5.0",
          "state": {
            "_model_module": "@jupyter-widgets/controls",
            "_model_module_version": "1.5.0",
            "_model_name": "DescriptionStyleModel",
            "_view_count": null,
            "_view_module": "@jupyter-widgets/base",
            "_view_module_version": "1.2.0",
            "_view_name": "StyleView",
            "description_width": ""
          }
        },
        "070fdb25d384449d90ca88ad63278281": {
          "model_module": "@jupyter-widgets/base",
          "model_name": "LayoutModel",
          "model_module_version": "1.2.0",
          "state": {
            "_model_module": "@jupyter-widgets/base",
            "_model_module_version": "1.2.0",
            "_model_name": "LayoutModel",
            "_view_count": null,
            "_view_module": "@jupyter-widgets/base",
            "_view_module_version": "1.2.0",
            "_view_name": "LayoutView",
            "align_content": null,
            "align_items": null,
            "align_self": null,
            "border": null,
            "bottom": null,
            "display": null,
            "flex": null,
            "flex_flow": null,
            "grid_area": null,
            "grid_auto_columns": null,
            "grid_auto_flow": null,
            "grid_auto_rows": null,
            "grid_column": null,
            "grid_gap": null,
            "grid_row": null,
            "grid_template_areas": null,
            "grid_template_columns": null,
            "grid_template_rows": null,
            "height": null,
            "justify_content": null,
            "justify_items": null,
            "left": null,
            "margin": null,
            "max_height": null,
            "max_width": null,
            "min_height": null,
            "min_width": null,
            "object_fit": null,
            "object_position": null,
            "order": null,
            "overflow": null,
            "overflow_x": null,
            "overflow_y": null,
            "padding": null,
            "right": null,
            "top": null,
            "visibility": null,
            "width": null
          }
        },
        "d61daa68503f46de98a72e9c5b2ab69c": {
          "model_module": "@jupyter-widgets/controls",
          "model_name": "ProgressStyleModel",
          "model_module_version": "1.5.0",
          "state": {
            "_model_module": "@jupyter-widgets/controls",
            "_model_module_version": "1.5.0",
            "_model_name": "ProgressStyleModel",
            "_view_count": null,
            "_view_module": "@jupyter-widgets/base",
            "_view_module_version": "1.2.0",
            "_view_name": "StyleView",
            "bar_color": null,
            "description_width": ""
          }
        },
        "50aeff9ef4264064819e083346308328": {
          "model_module": "@jupyter-widgets/base",
          "model_name": "LayoutModel",
          "model_module_version": "1.2.0",
          "state": {
            "_model_module": "@jupyter-widgets/base",
            "_model_module_version": "1.2.0",
            "_model_name": "LayoutModel",
            "_view_count": null,
            "_view_module": "@jupyter-widgets/base",
            "_view_module_version": "1.2.0",
            "_view_name": "LayoutView",
            "align_content": null,
            "align_items": null,
            "align_self": null,
            "border": null,
            "bottom": null,
            "display": null,
            "flex": null,
            "flex_flow": null,
            "grid_area": null,
            "grid_auto_columns": null,
            "grid_auto_flow": null,
            "grid_auto_rows": null,
            "grid_column": null,
            "grid_gap": null,
            "grid_row": null,
            "grid_template_areas": null,
            "grid_template_columns": null,
            "grid_template_rows": null,
            "height": null,
            "justify_content": null,
            "justify_items": null,
            "left": null,
            "margin": null,
            "max_height": null,
            "max_width": null,
            "min_height": null,
            "min_width": null,
            "object_fit": null,
            "object_position": null,
            "order": null,
            "overflow": null,
            "overflow_x": null,
            "overflow_y": null,
            "padding": null,
            "right": null,
            "top": null,
            "visibility": null,
            "width": null
          }
        },
        "59780d5c2d7047858efb0866e1908f6b": {
          "model_module": "@jupyter-widgets/controls",
          "model_name": "DescriptionStyleModel",
          "model_module_version": "1.5.0",
          "state": {
            "_model_module": "@jupyter-widgets/controls",
            "_model_module_version": "1.5.0",
            "_model_name": "DescriptionStyleModel",
            "_view_count": null,
            "_view_module": "@jupyter-widgets/base",
            "_view_module_version": "1.2.0",
            "_view_name": "StyleView",
            "description_width": ""
          }
        }
      }
    }
  },
  "nbformat": 4,
  "nbformat_minor": 0
}