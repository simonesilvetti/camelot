{
 "cells": [
  {
   "cell_type": "code",
   "execution_count": 1,
   "metadata": {},
   "outputs": [],
   "source": [
    "import numpy as np\n",
    "import matplotlib.pyplot as plt\n",
    "import torch\n",
    "import torch.nn as nn\n",
    "import torch.optim as optim\n",
    "import pickle\n",
    "import pandas as pd"
   ]
  },
  {
   "cell_type": "code",
   "execution_count": 2,
   "metadata": {},
   "outputs": [],
   "source": [
    "train_set=pd.read_pickle('dataset_next_state/integrators_next_state_train.pickle')\n",
    "test_set=pd.read_pickle('dataset_next_state/integrators_next_state_test.pickle')"
   ]
  },
  {
   "cell_type": "code",
   "execution_count": 3,
   "metadata": {},
   "outputs": [],
   "source": [
    "class RNN(nn.Module):\n",
    "    def __init__(self, input_size, hidden_size, output_size):\n",
    "        super(RNN, self).__init__()\n",
    "\n",
    "        self.hidden_size = hidden_size\n",
    "\n",
    "        self.i2h = nn.Linear(input_size + hidden_size, hidden_size)\n",
    "        self.h2o = nn.Linear(hidden_size, output_size)\n",
    "        self.fc = nn.Linear(output_size, output_size)\n",
    "\n",
    "    def forward(self, input, hidden):\n",
    "        #print(f\"input is {input}\")\n",
    "        #print(f\"hidden is {hidden}\")\n",
    "        combined = torch.cat((input, hidden))\n",
    "        #print(f\"combined is {combined}\")\n",
    "        hidden = self.i2h(combined)\n",
    "        #print(f\"now hidden is {hidden}\")\n",
    "        output = self.h2o(hidden)\n",
    "        output = self.fc(output)\n",
    "        return output, hidden\n",
    "\n",
    "    def initHidden(self):\n",
    "        return torch.zeros(self.hidden_size)"
   ]
  },
  {
   "cell_type": "code",
   "execution_count": 4,
   "metadata": {},
   "outputs": [],
   "source": [
    "n_iters = 1000\n",
    "print_every = 1\n",
    "learning_rate = 0.00005 # If you set this too high, it might explode. If too low, it might not learn\n",
    "loss_function = nn.MSELoss()\n",
    "n_hidden = 10\n",
    "dimension=train_set[0][0].size(0)\n",
    "rnn = RNN(dimension,n_hidden,dimension)\n",
    "optimizer=optim.SGD(rnn.parameters(),learning_rate)"
   ]
  },
  {
   "cell_type": "code",
   "execution_count": null,
   "metadata": {},
   "outputs": [],
   "source": [
    "losses=[]\n",
    "count=0\n",
    "for iter in range(1, n_iters + 1):\n",
    "    for trace in train_set:\n",
    "        hidden=rnn.initHidden()\n",
    "        for i in range(len(trace)-1):\n",
    "            #print(hidden)\n",
    "            output, hidden=rnn(trace[i],hidden)\n",
    "            hidden=hidden.clone().detach()\n",
    "            loss=loss_function(output,trace[i+1])\n",
    "            \n",
    "            optimizer.zero_grad()\n",
    "            loss.backward()\n",
    "            \n",
    "            optimizer.step()\n",
    "\n",
    "            losses.append(loss)\n",
    "            if count % print_every == 0:\n",
    "                print(loss)\n",
    "            count+=1"
   ]
  },
  {
   "cell_type": "code",
   "execution_count": null,
   "metadata": {},
   "outputs": [],
   "source": [
    "plt.plot(range(len(losses)),losses)\n"
   ]
  },
  {
   "cell_type": "code",
   "execution_count": null,
   "metadata": {},
   "outputs": [],
   "source": [
    "def evaluate(nn,trace):\n",
    "    losses=[]\n",
    "    hidden = rnn.initHidden()\n",
    "    for i in range(len(trace)-1):\n",
    "        output,hidden=nn(trace[i],hidden)\n",
    "        losses.append(loss_function(output,trace[i+1]))\n",
    "    "
   ]
  },
  {
   "cell_type": "code",
   "execution_count": null,
   "metadata": {},
   "outputs": [],
   "source": [
    "for trace in test_set:\n",
    "    losses=[]\n",
    "    losses.append(*evaluate(rnn,trace))\n",
    "print(np.mean(losses))\n",
    "plt.hist(losses)"
   ]
  }
 ],
 "metadata": {
  "kernelspec": {
   "display_name": "camelot_env",
   "language": "python",
   "name": "python3"
  },
  "language_info": {
   "codemirror_mode": {
    "name": "ipython",
    "version": 3
   },
   "file_extension": ".py",
   "mimetype": "text/x-python",
   "name": "python",
   "nbconvert_exporter": "python",
   "pygments_lexer": "ipython3",
   "version": "3.12.2"
  }
 },
 "nbformat": 4,
 "nbformat_minor": 2
}
