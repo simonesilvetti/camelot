{
  "cells": [
    {
      "cell_type": "code",
      "execution_count": 1,
      "metadata": {
        "id": "ALRxIVdEO8KI"
      },
      "outputs": [],
      "source": [
        "import numpy as np\n",
        "import matplotlib.pyplot as plt\n",
        "import torch\n",
        "import torch.nn as nn\n",
        "import torch.optim as optim\n",
        "import pickle\n",
        "import pandas as pd\n",
        "from sklearn.model_selection import train_test_split\n",
        "from tqdm.auto import trange\n",
        "from torch.utils.data import Dataset,DataLoader"
      ]
    },
    {
      "cell_type": "code",
      "source": [
        "def get_default_device():\n",
        "    \"\"\"Pick GPU if available, else CPU\"\"\"\n",
        "    if torch.cuda.is_available():\n",
        "        return torch.device('cuda')\n",
        "    else:\n",
        "        return torch.device('cpu')\n",
        "\n",
        "device = get_default_device()"
      ],
      "metadata": {
        "id": "I_Q8hQdYVzmR"
      },
      "execution_count": 2,
      "outputs": []
    },
    {
      "cell_type": "code",
      "source": [
        "dataset=pd.read_pickle('/content/integrators_next_state.pickle')"
      ],
      "metadata": {
        "id": "is7KqLtUWwLv"
      },
      "execution_count": 3,
      "outputs": []
    },
    {
      "cell_type": "code",
      "source": [
        "train_set,test_set=train_test_split(dataset,test_size=0.2,random_state=9)\n",
        "training_set,validation_set=train_test_split(train_set,test_size=0.2,random_state=9)"
      ],
      "metadata": {
        "id": "9zcORjmrBOjK"
      },
      "execution_count": 4,
      "outputs": []
    },
    {
      "cell_type": "code",
      "execution_count": 5,
      "metadata": {
        "id": "M4J-yQG1O8KO"
      },
      "outputs": [],
      "source": [
        "class RNN(nn.Module):\n",
        "    def __init__(self, input_size, hidden_size, output_size):\n",
        "        super(RNN, self).__init__()\n",
        "\n",
        "        self.hidden_size = hidden_size\n",
        "\n",
        "        self.i2h = nn.Linear(input_size + hidden_size, hidden_size)\n",
        "        self.relu1=nn.ReLU()\n",
        "        self.h2o = nn.Linear(hidden_size, output_size)\n",
        "        self.relu2=nn.ReLU()\n",
        "        self.fc = nn.Linear(output_size, output_size)\n",
        "\n",
        "    def forward(self, input, hidden):\n",
        "        combined = torch.cat((input, hidden))\n",
        "        hidden = self.relu1(self.i2h(combined))\n",
        "        output = self.relu2(self.h2o(hidden))\n",
        "        output = self.fc(output)\n",
        "        return output, hidden\n",
        "\n",
        "    def initHidden(self):\n",
        "        #return torch.zeros(self.hidden_size).to(device)\n",
        "        return torch.rand(self.hidden_size).to(device)"
      ]
    },
    {
      "cell_type": "code",
      "execution_count": 6,
      "metadata": {
        "id": "3wiGXgINO8KQ"
      },
      "outputs": [],
      "source": [
        "EPOCHS   = 200\n",
        "learning_rate = 0.001 # If you set this too high, it might explode. If too low, it might not learn\n",
        "momentum=0.9\n",
        "batch_size=16\n",
        "regression_loss_function=nn.MSELoss()\n",
        "classification_loss_function=nn.CrossEntropyLoss()\n",
        "n_hidden = 12\n",
        "dimension=training_set[0][0].size(0)\n",
        "rnn = RNN(dimension,n_hidden,dimension)\n",
        "#rnn.to(device)\n",
        "optimizer=optim.SGD(rnn.parameters(),learning_rate)"
      ]
    },
    {
      "cell_type": "code",
      "source": [
        "training_losses=[]\n",
        "validation_losses=[]\n",
        "\n",
        "training_losses_class=[]\n",
        "validation_losses_class=[]\n",
        "\n",
        "training_losses_reg=[]\n",
        "validation_losses_reg=[]\n",
        "\n",
        "\n",
        "\n",
        "\n",
        "for epoch in trange(EPOCHS, desc=\"Training epoch\"):\n",
        "\n",
        "  rnn.train()\n",
        "\n",
        "  for batch_start in range(0, len(training_set), batch_size):\n",
        "    batch_end = min(batch_start + batch_size, len(training_set))\n",
        "    batch_traces = training_set[batch_start:batch_end]\n",
        "\n",
        "    optimizer.zero_grad()\n",
        "\n",
        "    for trace in batch_traces:\n",
        "      hidden = rnn.initHidden()\n",
        "      for i in range(len(trace) - 1):\n",
        "        output, hidden = rnn(trace[i], hidden)\n",
        "        hidden = hidden.clone().detach()\n",
        "\n",
        "        # Calculate losses for regression and classification\n",
        "        regression_output=output[:4]\n",
        "        regression_correct=trace[i+1][:4]\n",
        "\n",
        "        classification_output=output[4:]\n",
        "        classification_correct=trace[i+1][4:]\n",
        "\n",
        "\n",
        "        loss_regression = regression_loss_function(regression_output, regression_correct)\n",
        "        loss_classification = classification_loss_function(classification_output, classification_correct)\n",
        "\n",
        "        loss = loss_regression + 0.1*loss_classification\n",
        "\n",
        "        # Accumulate gradients\n",
        "        loss.backward()\n",
        "\n",
        "    # Update parameters based on accumulated gradients for the entire batch\n",
        "    optimizer.step()\n",
        "\n",
        "  rnn.eval()\n",
        "  with torch.no_grad():\n",
        "\n",
        "    training_loss=0\n",
        "    validation_loss=0\n",
        "\n",
        "    training_loss_reg=0\n",
        "    validation_loss_reg=0\n",
        "\n",
        "    training_loss_class=0\n",
        "    validation_loss_class=0\n",
        "\n",
        "    num_elem_training=0\n",
        "    num_elem_validation=0\n",
        "\n",
        "    for trace in training_set:\n",
        "      hidden = rnn.initHidden()\n",
        "      for i in range(len(trace) - 1):\n",
        "        output, hidden = rnn(trace[i], hidden)\n",
        "        hidden = hidden.clone().detach()\n",
        "\n",
        "        # Calculate losses for regression and classification\n",
        "        regression_output=output[:4]\n",
        "        regression_correct=trace[i+1][:4]\n",
        "\n",
        "        classification_output=output[4:]\n",
        "        classification_correct=trace[i+1][4:]\n",
        "\n",
        "\n",
        "        loss_regression = regression_loss_function(regression_output, regression_correct).item()\n",
        "        loss_classification = classification_loss_function(classification_output, classification_correct).item()\n",
        "\n",
        "        training_loss += loss_regression + 0.1*loss_classification\n",
        "        training_loss_reg += loss_regression\n",
        "        training_loss_class += loss_classification\n",
        "        num_elem_training+=1\n",
        "    training_losses.append(training_loss/num_elem_training)\n",
        "    training_losses_reg.append(training_loss_reg/num_elem_training)\n",
        "    training_losses_class.append(training_loss_class/num_elem_training)\n",
        "\n",
        "\n",
        "    for trace in validation_set:\n",
        "      hidden = rnn.initHidden()\n",
        "      for i in range(len(trace) - 1):\n",
        "        output, hidden = rnn(trace[i], hidden)\n",
        "        hidden = hidden.clone().detach()\n",
        "\n",
        "        # Calculate losses for regression and classification\n",
        "        regression_output=output[:4]\n",
        "        regression_correct=trace[i+1][:4]\n",
        "\n",
        "        classification_output=output[4:]\n",
        "        classification_correct=trace[i+1][4:]\n",
        "\n",
        "\n",
        "        loss_regression = regression_loss_function(regression_output, regression_correct).item()\n",
        "        loss_classification = classification_loss_function(classification_output, classification_correct).item()\n",
        "\n",
        "        validation_loss += loss_regression + 0.1*loss_classification\n",
        "        validation_loss_reg += loss_regression\n",
        "        validation_loss_class += loss_classification\n",
        "        num_elem_validation+=1\n",
        "    validation_losses.append(validation_loss/num_elem_validation)\n",
        "    validation_losses_reg.append(validation_loss_reg/num_elem_validation)\n",
        "    validation_losses_class.append(validation_loss_class/num_elem_validation)\n"
      ],
      "metadata": {
        "colab": {
          "base_uri": "https://localhost:8080/",
          "height": 49,
          "referenced_widgets": [
            "cd22bca41ebc4fc9ab1bc3c7db0ea98c",
            "1dde7278d579402396f0f8fc315b1960",
            "cbbdf79d56084a11b11e6dfb0a8e8315",
            "b07517aa57654256ad5ed38e77a09617",
            "579cde4e5417401a98c6ceeffd2b4ea6",
            "d12add3ba866457ebf16e428d7a993f0",
            "66882a29d3bb431db9e1539924655b32",
            "325357d09ab7431699723ff6bfa43f22",
            "95dc23f0983f4714b2c10e053a3db937",
            "64a71fd25bfe4b55b0ef30f178ffb780",
            "ff260e1212d046ab9668340623b74c36"
          ]
        },
        "id": "f0a7eKLV9yvi",
        "outputId": "ec4a62bd-2631-44e7-d336-d7459f7cea46"
      },
      "execution_count": 7,
      "outputs": [
        {
          "output_type": "display_data",
          "data": {
            "text/plain": [
              "Training epoch:   0%|          | 0/200 [00:00<?, ?it/s]"
            ],
            "application/vnd.jupyter.widget-view+json": {
              "version_major": 2,
              "version_minor": 0,
              "model_id": "cd22bca41ebc4fc9ab1bc3c7db0ea98c"
            }
          },
          "metadata": {}
        }
      ]
    },
    {
      "cell_type": "code",
      "source": [
        "plt.plot(training_losses,label='Training')\n",
        "plt.plot(validation_losses,label='Validation')\n",
        "plt.legend()"
      ],
      "metadata": {
        "colab": {
          "base_uri": "https://localhost:8080/",
          "height": 447
        },
        "id": "o6kgsfwSCaBu",
        "outputId": "15b71d20-0ab7-4eb7-ad23-2bbca7e14f78"
      },
      "execution_count": 8,
      "outputs": [
        {
          "output_type": "execute_result",
          "data": {
            "text/plain": [
              "<matplotlib.legend.Legend at 0x7a58241e1150>"
            ]
          },
          "metadata": {},
          "execution_count": 8
        },
        {
          "output_type": "display_data",
          "data": {
            "text/plain": [
              "<Figure size 640x480 with 1 Axes>"
            ],
            "image/png": "[encoded data removed]"
          },
          "metadata": {}
        }
      ]
    },
    {
      "cell_type": "code",
      "source": [
        "plt.plot(training_losses_reg,label='Training')\n",
        "plt.plot(validation_losses_reg,label='Validation')\n",
        "plt.legend()"
      ],
      "metadata": {
        "id": "bWKZKCmHEHOM",
        "outputId": "ead12919-6597-4836-a015-5ae4acdcad00",
        "colab": {
          "base_uri": "https://localhost:8080/",
          "height": 447
        }
      },
      "execution_count": 9,
      "outputs": [
        {
          "output_type": "execute_result",
          "data": {
            "text/plain": [
              "<matplotlib.legend.Legend at 0x7a58216165f0>"
            ]
          },
          "metadata": {},
          "execution_count": 9
        },
        {
          "output_type": "display_data",
          "data": {
            "text/plain": [
              "<Figure size 640x480 with 1 Axes>"
            ],
            "image/png": "[encoded data removed]"
          },
          "metadata": {}
        }
      ]
    },
    {
      "cell_type": "code",
      "source": [
        "plt.plot(training_losses_class,label='Training')\n",
        "plt.plot(validation_losses_class,label='Validation')\n",
        "plt.legend()"
      ],
      "metadata": {
        "id": "v7EC1STyEKxH",
        "outputId": "90b4a093-459b-4b70-c857-a2a13e240ffb",
        "colab": {
          "base_uri": "https://localhost:8080/",
          "height": 447
        }
      },
      "execution_count": 10,
      "outputs": [
        {
          "output_type": "execute_result",
          "data": {
            "text/plain": [
              "<matplotlib.legend.Legend at 0x7a582169f100>"
            ]
          },
          "metadata": {},
          "execution_count": 10
        },
        {
          "output_type": "display_data",
          "data": {
            "text/plain": [
              "<Figure size 640x480 with 1 Axes>"
            ],
            "image/png": "[encoded data removed]"
          },
          "metadata": {}
        }
      ]
    },
    {
      "cell_type": "code",
      "execution_count": 11,
      "metadata": {
        "id": "0Jpobn1mO8KT"
      },
      "outputs": [],
      "source": [
        "def evaluate(nn,trace):\n",
        "    losses_regression=[]\n",
        "    correct=0\n",
        "    hidden = nn.initHidden()\n",
        "    for i in range(len(trace)-1):\n",
        "        output,hidden=nn(trace[i],hidden)\n",
        "\n",
        "        regression_output=output[:4]\n",
        "        regression_correct=trace[i+1][:4]\n",
        "\n",
        "        classification_output=torch.argmax(output[4:])\n",
        "        classification_correct=torch.argmax(trace[i+1][4:])\n",
        "\n",
        "        loss_regression=regression_loss_function(regression_output,regression_correct)\n",
        "        losses_regression.append(loss_regression.item())\n",
        "\n",
        "        if classification_output==classification_correct:\n",
        "          correct+=1\n",
        "\n",
        "    return losses_regression,correct\n"
      ]
    },
    {
      "cell_type": "code",
      "execution_count": 12,
      "metadata": {
        "colab": {
          "base_uri": "https://localhost:8080/",
          "height": 1000
        },
        "id": "zIm1EYMjO8KU",
        "outputId": "79bbac45-ed86-4b0f-dd3e-ac87b1d81d76"
      },
      "outputs": [
        {
          "output_type": "stream",
          "name": "stdout",
          "text": [
            "Accuracy is 75.53655874863587%\n",
            "Mean loss is 0.0011013093355386806\n"
          ]
        },
        {
          "output_type": "execute_result",
          "data": {
            "text/plain": [
              "(array([9.475e+03, 9.660e+02, 2.060e+02, 6.900e+01, 4.200e+01, 2.900e+01,\n",
              "        2.500e+01, 2.400e+01, 2.400e+01, 1.500e+01, 1.700e+01, 8.000e+00,\n",
              "        1.000e+01, 5.000e+00, 4.000e+00, 8.000e+00, 4.000e+00, 1.100e+01,\n",
              "        7.000e+00, 5.000e+00, 5.000e+00, 6.000e+00, 3.000e+00, 2.000e+00,\n",
              "        1.000e+00, 1.000e+00, 0.000e+00, 1.000e+00, 0.000e+00, 3.000e+00,\n",
              "        2.000e+00, 0.000e+00, 0.000e+00, 0.000e+00, 1.000e+00, 1.000e+00,\n",
              "        1.000e+00, 0.000e+00, 2.000e+00, 1.000e+00, 1.000e+00, 1.000e+00,\n",
              "        0.000e+00, 1.000e+00, 0.000e+00, 1.000e+00, 0.000e+00, 0.000e+00,\n",
              "        0.000e+00, 0.000e+00, 1.000e+00, 1.000e+00, 0.000e+00, 0.000e+00,\n",
              "        0.000e+00, 0.000e+00, 0.000e+00, 0.000e+00, 3.000e+00, 0.000e+00,\n",
              "        0.000e+00, 1.000e+00, 0.000e+00, 0.000e+00, 0.000e+00, 0.000e+00,\n",
              "        0.000e+00, 0.000e+00, 0.000e+00, 0.000e+00, 0.000e+00, 0.000e+00,\n",
              "        0.000e+00, 0.000e+00, 0.000e+00, 0.000e+00, 0.000e+00, 0.000e+00,\n",
              "        0.000e+00, 0.000e+00, 0.000e+00, 0.000e+00, 0.000e+00, 0.000e+00,\n",
              "        0.000e+00, 0.000e+00, 0.000e+00, 0.000e+00, 1.000e+00, 0.000e+00,\n",
              "        0.000e+00, 0.000e+00, 0.000e+00, 0.000e+00, 0.000e+00, 0.000e+00,\n",
              "        0.000e+00, 0.000e+00, 0.000e+00, 1.000e+00]),\n",
              " array([1.13237377e-06, 1.42275754e-03, 2.84438271e-03, 4.26600788e-03,\n",
              "        5.68763305e-03, 7.10925822e-03, 8.53088338e-03, 9.95250855e-03,\n",
              "        1.13741337e-02, 1.27957589e-02, 1.42173841e-02, 1.56390092e-02,\n",
              "        1.70606344e-02, 1.84822596e-02, 1.99038847e-02, 2.13255099e-02,\n",
              "        2.27471351e-02, 2.41687602e-02, 2.55903854e-02, 2.70120106e-02,\n",
              "        2.84336357e-02, 2.98552609e-02, 3.12768861e-02, 3.26985112e-02,\n",
              "        3.41201364e-02, 3.55417616e-02, 3.69633867e-02, 3.83850119e-02,\n",
              "        3.98066371e-02, 4.12282623e-02, 4.26498874e-02, 4.40715126e-02,\n",
              "        4.54931378e-02, 4.69147629e-02, 4.83363881e-02, 4.97580133e-02,\n",
              "        5.11796384e-02, 5.26012636e-02, 5.40228888e-02, 5.54445139e-02,\n",
              "        5.68661391e-02, 5.82877643e-02, 5.97093894e-02, 6.11310146e-02,\n",
              "        6.25526398e-02, 6.39742649e-02, 6.53958901e-02, 6.68175153e-02,\n",
              "        6.82391405e-02, 6.96607656e-02, 7.10823908e-02, 7.25040160e-02,\n",
              "        7.39256411e-02, 7.53472663e-02, 7.67688915e-02, 7.81905166e-02,\n",
              "        7.96121418e-02, 8.10337670e-02, 8.24553921e-02, 8.38770173e-02,\n",
              "        8.52986425e-02, 8.67202676e-02, 8.81418928e-02, 8.95635180e-02,\n",
              "        9.09851431e-02, 9.24067683e-02, 9.38283935e-02, 9.52500186e-02,\n",
              "        9.66716438e-02, 9.80932690e-02, 9.95148942e-02, 1.00936519e-01,\n",
              "        1.02358144e-01, 1.03779770e-01, 1.05201395e-01, 1.06623020e-01,\n",
              "        1.08044645e-01, 1.09466270e-01, 1.10887895e-01, 1.12309521e-01,\n",
              "        1.13731146e-01, 1.15152771e-01, 1.16574396e-01, 1.17996021e-01,\n",
              "        1.19417647e-01, 1.20839272e-01, 1.22260897e-01, 1.23682522e-01,\n",
              "        1.25104147e-01, 1.26525772e-01, 1.27947398e-01, 1.29369023e-01,\n",
              "        1.30790648e-01, 1.32212273e-01, 1.33633898e-01, 1.35055523e-01,\n",
              "        1.36477149e-01, 1.37898774e-01, 1.39320399e-01, 1.40742024e-01,\n",
              "        1.42163649e-01]),\n",
              " <BarContainer object of 100 artists>)"
            ]
          },
          "metadata": {},
          "execution_count": 12
        },
        {
          "output_type": "display_data",
          "data": {
            "text/plain": [
              "<Figure size 640x480 with 1 Axes>"
            ],
            "image/png": "[encoded data removed]"
          },
          "metadata": {}
        }
      ],
      "source": [
        "losses=[]\n",
        "correct=0\n",
        "tot=0\n",
        "for trace in test_set:\n",
        "    trace_losses,trace_correct=evaluate(rnn,trace)\n",
        "    losses.extend(trace_losses)\n",
        "    correct+=trace_correct\n",
        "    tot+=len(trace)-1\n",
        "\n",
        "print(f\"Accuracy is {(correct/tot)*100}%\" )\n",
        "print(f\"Mean loss is {np.mean(losses)}\")\n",
        "plt.hist(losses,bins=100)"
      ]
    }
  ],
  "metadata": {
    "kernelspec": {
      "display_name": "Python 3",
      "name": "python3"
    },
    "language_info": {
      "codemirror_mode": {
        "name": "ipython",
        "version": 3
      },
      "file_extension": ".py",
      "mimetype": "text/x-python",
      "name": "python",
      "nbconvert_exporter": "python",
      "pygments_lexer": "ipython3",
      "version": "3.12.2"
    },
    "colab": {
      "provenance": []
    },
    "widgets": {
      "application/vnd.jupyter.widget-state+json": {
        "cd22bca41ebc4fc9ab1bc3c7db0ea98c": {
          "model_module": "@jupyter-widgets/controls",
          "model_name": "HBoxModel",
          "model_module_version": "1.5.0",
          "state": {
            "_dom_classes": [],
            "_model_module": "@jupyter-widgets/controls",
            "_model_module_version": "1.5.0",
            "_model_name": "HBoxModel",
            "_view_count": null,
            "_view_module": "@jupyter-widgets/controls",
            "_view_module_version": "1.5.0",
            "_view_name": "HBoxView",
            "box_style": "",
            "children": [
              "IPY_MODEL_1dde7278d579402396f0f8fc315b1960",
              "IPY_MODEL_cbbdf79d56084a11b11e6dfb0a8e8315",
              "IPY_MODEL_b07517aa57654256ad5ed38e77a09617"
            ],
            "layout": "IPY_MODEL_579cde4e5417401a98c6ceeffd2b4ea6"
          }
        },
        "1dde7278d579402396f0f8fc315b1960": {
          "model_module": "@jupyter-widgets/controls",
          "model_name": "HTMLModel",
          "model_module_version": "1.5.0",
          "state": {
            "_dom_classes": [],
            "_model_module": "@jupyter-widgets/controls",
            "_model_module_version": "1.5.0",
            "_model_name": "HTMLModel",
            "_view_count": null,
            "_view_module": "@jupyter-widgets/controls",
            "_view_module_version": "1.5.0",
            "_view_name": "HTMLView",
            "description": "",
            "description_tooltip": null,
            "layout": "IPY_MODEL_d12add3ba866457ebf16e428d7a993f0",
            "placeholder": "​",
            "style": "IPY_MODEL_66882a29d3bb431db9e1539924655b32",
            "value": "Training epoch: 100%"
          }
        },
        "cbbdf79d56084a11b11e6dfb0a8e8315": {
          "model_module": "@jupyter-widgets/controls",
          "model_name": "FloatProgressModel",
          "model_module_version": "1.5.0",
          "state": {
            "_dom_classes": [],
            "_model_module": "@jupyter-widgets/controls",
            "_model_module_version": "1.5.0",
            "_model_name": "FloatProgressModel",
            "_view_count": null,
            "_view_module": "@jupyter-widgets/controls",
            "_view_module_version": "1.5.0",
            "_view_name": "ProgressView",
            "bar_style": "success",
            "description": "",
            "description_tooltip": null,
            "layout": "IPY_MODEL_325357d09ab7431699723ff6bfa43f22",
            "max": 200,
            "min": 0,
            "orientation": "horizontal",
            "style": "IPY_MODEL_95dc23f0983f4714b2c10e053a3db937",
            "value": 200
          }
        },
        "b07517aa57654256ad5ed38e77a09617": {
          "model_module": "@jupyter-widgets/controls",
          "model_name": "HTMLModel",
          "model_module_version": "1.5.0",
          "state": {
            "_dom_classes": [],
            "_model_module": "@jupyter-widgets/controls",
            "_model_module_version": "1.5.0",
            "_model_name": "HTMLModel",
            "_view_count": null,
            "_view_module": "@jupyter-widgets/controls",
            "_view_module_version": "1.5.0",
            "_view_name": "HTMLView",
            "description": "",
            "description_tooltip": null,
            "layout": "IPY_MODEL_64a71fd25bfe4b55b0ef30f178ffb780",
            "placeholder": "​",
            "style": "IPY_MODEL_ff260e1212d046ab9668340623b74c36",
            "value": " 200/200 [2:08:56&lt;00:00, 37.73s/it]"
          }
        },
        "579cde4e5417401a98c6ceeffd2b4ea6": {
          "model_module": "@jupyter-widgets/base",
          "model_name": "LayoutModel",
          "model_module_version": "1.2.0",
          "state": {
            "_model_module": "@jupyter-widgets/base",
            "_model_module_version": "1.2.0",
            "_model_name": "LayoutModel",
            "_view_count": null,
            "_view_module": "@jupyter-widgets/base",
            "_view_module_version": "1.2.0",
            "_view_name": "LayoutView",
            "align_content": null,
            "align_items": null,
            "align_self": null,
            "border": null,
            "bottom": null,
            "display": null,
            "flex": null,
            "flex_flow": null,
            "grid_area": null,
            "grid_auto_columns": null,
            "grid_auto_flow": null,
            "grid_auto_rows": null,
            "grid_column": null,
            "grid_gap": null,
            "grid_row": null,
            "grid_template_areas": null,
            "grid_template_columns": null,
            "grid_template_rows": null,
            "height": null,
            "justify_content": null,
            "justify_items": null,
            "left": null,
            "margin": null,
            "max_height": null,
            "max_width": null,
            "min_height": null,
            "min_width": null,
            "object_fit": null,
            "object_position": null,
            "order": null,
            "overflow": null,
            "overflow_x": null,
            "overflow_y": null,
            "padding": null,
            "right": null,
            "top": null,
            "visibility": null,
            "width": null
          }
        },
        "d12add3ba866457ebf16e428d7a993f0": {
          "model_module": "@jupyter-widgets/base",
          "model_name": "LayoutModel",
          "model_module_version": "1.2.0",
          "state": {
            "_model_module": "@jupyter-widgets/base",
            "_model_module_version": "1.2.0",
            "_model_name": "LayoutModel",
            "_view_count": null,
            "_view_module": "@jupyter-widgets/base",
            "_view_module_version": "1.2.0",
            "_view_name": "LayoutView",
            "align_content": null,
            "align_items": null,
            "align_self": null,
            "border": null,
            "bottom": null,
            "display": null,
            "flex": null,
            "flex_flow": null,
            "grid_area": null,
            "grid_auto_columns": null,
            "grid_auto_flow": null,
            "grid_auto_rows": null,
            "grid_column": null,
            "grid_gap": null,
            "grid_row": null,
            "grid_template_areas": null,
            "grid_template_columns": null,
            "grid_template_rows": null,
            "height": null,
            "justify_content": null,
            "justify_items": null,
            "left": null,
            "margin": null,
            "max_height": null,
            "max_width": null,
            "min_height": null,
            "min_width": null,
            "object_fit": null,
            "object_position": null,
            "order": null,
            "overflow": null,
            "overflow_x": null,
            "overflow_y": null,
            "padding": null,
            "right": null,
            "top": null,
            "visibility": null,
            "width": null
          }
        },
        "66882a29d3bb431db9e1539924655b32": {
          "model_module": "@jupyter-widgets/controls",
          "model_name": "DescriptionStyleModel",
          "model_module_version": "1.5.0",
          "state": {
            "_model_module": "@jupyter-widgets/controls",
            "_model_module_version": "1.5.0",
            "_model_name": "DescriptionStyleModel",
            "_view_count": null,
            "_view_module": "@jupyter-widgets/base",
            "_view_module_version": "1.2.0",
            "_view_name": "StyleView",
            "description_width": ""
          }
        },
        "325357d09ab7431699723ff6bfa43f22": {
          "model_module": "@jupyter-widgets/base",
          "model_name": "LayoutModel",
          "model_module_version": "1.2.0",
          "state": {
            "_model_module": "@jupyter-widgets/base",
            "_model_module_version": "1.2.0",
            "_model_name": "LayoutModel",
            "_view_count": null,
            "_view_module": "@jupyter-widgets/base",
            "_view_module_version": "1.2.0",
            "_view_name": "LayoutView",
            "align_content": null,
            "align_items": null,
            "align_self": null,
            "border": null,
            "bottom": null,
            "display": null,
            "flex": null,
            "flex_flow": null,
            "grid_area": null,
            "grid_auto_columns": null,
            "grid_auto_flow": null,
            "grid_auto_rows": null,
            "grid_column": null,
            "grid_gap": null,
            "grid_row": null,
            "grid_template_areas": null,
            "grid_template_columns": null,
            "grid_template_rows": null,
            "height": null,
            "justify_content": null,
            "justify_items": null,
            "left": null,
            "margin": null,
            "max_height": null,
            "max_width": null,
            "min_height": null,
            "min_width": null,
            "object_fit": null,
            "object_position": null,
            "order": null,
            "overflow": null,
            "overflow_x": null,
            "overflow_y": null,
            "padding": null,
            "right": null,
            "top": null,
            "visibility": null,
            "width": null
          }
        },
        "95dc23f0983f4714b2c10e053a3db937": {
          "model_module": "@jupyter-widgets/controls",
          "model_name": "ProgressStyleModel",
          "model_module_version": "1.5.0",
          "state": {
            "_model_module": "@jupyter-widgets/controls",
            "_model_module_version": "1.5.0",
            "_model_name": "ProgressStyleModel",
            "_view_count": null,
            "_view_module": "@jupyter-widgets/base",
            "_view_module_version": "1.2.0",
            "_view_name": "StyleView",
            "bar_color": null,
            "description_width": ""
          }
        },
        "64a71fd25bfe4b55b0ef30f178ffb780": {
          "model_module": "@jupyter-widgets/base",
          "model_name": "LayoutModel",
          "model_module_version": "1.2.0",
          "state": {
            "_model_module": "@jupyter-widgets/base",
            "_model_module_version": "1.2.0",
            "_model_name": "LayoutModel",
            "_view_count": null,
            "_view_module": "@jupyter-widgets/base",
            "_view_module_version": "1.2.0",
            "_view_name": "LayoutView",
            "align_content": null,
            "align_items": null,
            "align_self": null,
            "border": null,
            "bottom": null,
            "display": null,
            "flex": null,
            "flex_flow": null,
            "grid_area": null,
            "grid_auto_columns": null,
            "grid_auto_flow": null,
            "grid_auto_rows": null,
            "grid_column": null,
            "grid_gap": null,
            "grid_row": null,
            "grid_template_areas": null,
            "grid_template_columns": null,
            "grid_template_rows": null,
            "height": null,
            "justify_content": null,
            "justify_items": null,
            "left": null,
            "margin": null,
            "max_height": null,
            "max_width": null,
            "min_height": null,
            "min_width": null,
            "object_fit": null,
            "object_position": null,
            "order": null,
            "overflow": null,
            "overflow_x": null,
            "overflow_y": null,
            "padding": null,
            "right": null,
            "top": null,
            "visibility": null,
            "width": null
          }
        },
        "ff260e1212d046ab9668340623b74c36": {
          "model_module": "@jupyter-widgets/controls",
          "model_name": "DescriptionStyleModel",
          "model_module_version": "1.5.0",
          "state": {
            "_model_module": "@jupyter-widgets/controls",
            "_model_module_version": "1.5.0",
            "_model_name": "DescriptionStyleModel",
            "_view_count": null,
            "_view_module": "@jupyter-widgets/base",
            "_view_module_version": "1.2.0",
            "_view_name": "StyleView",
            "description_width": ""
          }
        }
      }
    }
  },
  "nbformat": 4,
  "nbformat_minor": 0
}